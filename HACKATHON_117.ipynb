{
  "nbformat": 4,
  "nbformat_minor": 0,
  "metadata": {
    "colab": {
      "provenance": [],
      "authorship_tag": "ABX9TyOFAWQfD6U05JpLItKpdnno"
    },
    "kernelspec": {
      "name": "python3",
      "display_name": "Python 3"
    },
    "language_info": {
      "name": "python"
    }
  },
  "cells": [
    {
      "cell_type": "markdown",
      "source": [
        "#Problem Statement\n",
        " **Detecting fraud for transactions in a payment gateway.\n",
        "\n",
        " **IndAvenue has started gaining traction due to its extremely low processing fees for handling online vendors’ digital payments.\n",
        "\n",
        " **This strategy has led to very low costs of acquiring new vendors.\n",
        "  \n",
        "  **is_fruad is the target varible in tha data"
      ],
      "metadata": {
        "id": "ojEyQW3V4YYi"
      }
    },
    {
      "cell_type": "code",
      "execution_count": null,
      "metadata": {
        "id": "tgVjme5t4XZI"
      },
      "outputs": [],
      "source": [
        "#importing libraries\n",
        "import pandas as pd\n",
        "import numpy as np"
      ]
    },
    {
      "cell_type": "code",
      "source": [
        "#reading the data\n",
        "train_data=pd.read_csv(\"/content/train_data-1611220940820.csv\",na_values='?' ',')\n"
      ],
      "metadata": {
        "id": "wjqOtjf98wwY"
      },
      "execution_count": null,
      "outputs": []
    },
    {
      "cell_type": "code",
      "source": [
        "train_data.head()"
      ],
      "metadata": {
        "colab": {
          "base_uri": "https://localhost:8080/",
          "height": 357
        },
        "id": "0Zq4cEqV-S-z",
        "outputId": "9e3c8799-9fd9-43c2-8a40-dda574aeeba7"
      },
      "execution_count": null,
      "outputs": [
        {
          "output_type": "execute_result",
          "data": {
            "text/plain": [
              "   transaction_number   user_id          payment_method  partner_id  \\\n",
              "0        144703125000  17539344  sbi_atm_cum_debit_card       47334   \n",
              "1      77406814453032  24710841       e_wallet_payments       78890   \n",
              "2     308929485482801  24265476       e_wallet_payments       78890   \n",
              "3     665270027747073  10240000       other_debit_cards      102557   \n",
              "4      38276160171101   5880625       other_debit_cards      118335   \n",
              "\n",
              "  partner_category  country      device_type  money_transacted  \\\n",
              "0            cat_1  IND_INR  android_devices              -5.0   \n",
              "1            cat_2  IND_INR        other_pcs             100.0   \n",
              "2            cat_2  IND_INR        other_pcs              50.0   \n",
              "3            cat_3  IND_INR        other_pcs            1000.0   \n",
              "4            cat_1  IND_INR        other_pcs             200.0   \n",
              "\n",
              "      transaction_initiation  partner_pricing_category  is_fraud  \n",
              "0  2016-11-15 19:16:12+00:00                         2         0  \n",
              "1  2017-01-11 09:25:33+00:00                         2         0  \n",
              "2  2016-12-07 07:58:09+00:00                         2         0  \n",
              "3  2017-01-11 16:15:44+00:00                         2         0  \n",
              "4  2016-11-16 17:04:42+00:00                         2         0  "
            ],
            "text/html": [
              "\n",
              "  <div id=\"df-c6aca4f9-b03d-4c71-8833-4d51ceda4d39\">\n",
              "    <div class=\"colab-df-container\">\n",
              "      <div>\n",
              "<style scoped>\n",
              "    .dataframe tbody tr th:only-of-type {\n",
              "        vertical-align: middle;\n",
              "    }\n",
              "\n",
              "    .dataframe tbody tr th {\n",
              "        vertical-align: top;\n",
              "    }\n",
              "\n",
              "    .dataframe thead th {\n",
              "        text-align: right;\n",
              "    }\n",
              "</style>\n",
              "<table border=\"1\" class=\"dataframe\">\n",
              "  <thead>\n",
              "    <tr style=\"text-align: right;\">\n",
              "      <th></th>\n",
              "      <th>transaction_number</th>\n",
              "      <th>user_id</th>\n",
              "      <th>payment_method</th>\n",
              "      <th>partner_id</th>\n",
              "      <th>partner_category</th>\n",
              "      <th>country</th>\n",
              "      <th>device_type</th>\n",
              "      <th>money_transacted</th>\n",
              "      <th>transaction_initiation</th>\n",
              "      <th>partner_pricing_category</th>\n",
              "      <th>is_fraud</th>\n",
              "    </tr>\n",
              "  </thead>\n",
              "  <tbody>\n",
              "    <tr>\n",
              "      <th>0</th>\n",
              "      <td>144703125000</td>\n",
              "      <td>17539344</td>\n",
              "      <td>sbi_atm_cum_debit_card</td>\n",
              "      <td>47334</td>\n",
              "      <td>cat_1</td>\n",
              "      <td>IND_INR</td>\n",
              "      <td>android_devices</td>\n",
              "      <td>-5.0</td>\n",
              "      <td>2016-11-15 19:16:12+00:00</td>\n",
              "      <td>2</td>\n",
              "      <td>0</td>\n",
              "    </tr>\n",
              "    <tr>\n",
              "      <th>1</th>\n",
              "      <td>77406814453032</td>\n",
              "      <td>24710841</td>\n",
              "      <td>e_wallet_payments</td>\n",
              "      <td>78890</td>\n",
              "      <td>cat_2</td>\n",
              "      <td>IND_INR</td>\n",
              "      <td>other_pcs</td>\n",
              "      <td>100.0</td>\n",
              "      <td>2017-01-11 09:25:33+00:00</td>\n",
              "      <td>2</td>\n",
              "      <td>0</td>\n",
              "    </tr>\n",
              "    <tr>\n",
              "      <th>2</th>\n",
              "      <td>308929485482801</td>\n",
              "      <td>24265476</td>\n",
              "      <td>e_wallet_payments</td>\n",
              "      <td>78890</td>\n",
              "      <td>cat_2</td>\n",
              "      <td>IND_INR</td>\n",
              "      <td>other_pcs</td>\n",
              "      <td>50.0</td>\n",
              "      <td>2016-12-07 07:58:09+00:00</td>\n",
              "      <td>2</td>\n",
              "      <td>0</td>\n",
              "    </tr>\n",
              "    <tr>\n",
              "      <th>3</th>\n",
              "      <td>665270027747073</td>\n",
              "      <td>10240000</td>\n",
              "      <td>other_debit_cards</td>\n",
              "      <td>102557</td>\n",
              "      <td>cat_3</td>\n",
              "      <td>IND_INR</td>\n",
              "      <td>other_pcs</td>\n",
              "      <td>1000.0</td>\n",
              "      <td>2017-01-11 16:15:44+00:00</td>\n",
              "      <td>2</td>\n",
              "      <td>0</td>\n",
              "    </tr>\n",
              "    <tr>\n",
              "      <th>4</th>\n",
              "      <td>38276160171101</td>\n",
              "      <td>5880625</td>\n",
              "      <td>other_debit_cards</td>\n",
              "      <td>118335</td>\n",
              "      <td>cat_1</td>\n",
              "      <td>IND_INR</td>\n",
              "      <td>other_pcs</td>\n",
              "      <td>200.0</td>\n",
              "      <td>2016-11-16 17:04:42+00:00</td>\n",
              "      <td>2</td>\n",
              "      <td>0</td>\n",
              "    </tr>\n",
              "  </tbody>\n",
              "</table>\n",
              "</div>\n",
              "      <button class=\"colab-df-convert\" onclick=\"convertToInteractive('df-c6aca4f9-b03d-4c71-8833-4d51ceda4d39')\"\n",
              "              title=\"Convert this dataframe to an interactive table.\"\n",
              "              style=\"display:none;\">\n",
              "        \n",
              "  <svg xmlns=\"http://www.w3.org/2000/svg\" height=\"24px\"viewBox=\"0 0 24 24\"\n",
              "       width=\"24px\">\n",
              "    <path d=\"M0 0h24v24H0V0z\" fill=\"none\"/>\n",
              "    <path d=\"M18.56 5.44l.94 2.06.94-2.06 2.06-.94-2.06-.94-.94-2.06-.94 2.06-2.06.94zm-11 1L8.5 8.5l.94-2.06 2.06-.94-2.06-.94L8.5 2.5l-.94 2.06-2.06.94zm10 10l.94 2.06.94-2.06 2.06-.94-2.06-.94-.94-2.06-.94 2.06-2.06.94z\"/><path d=\"M17.41 7.96l-1.37-1.37c-.4-.4-.92-.59-1.43-.59-.52 0-1.04.2-1.43.59L10.3 9.45l-7.72 7.72c-.78.78-.78 2.05 0 2.83L4 21.41c.39.39.9.59 1.41.59.51 0 1.02-.2 1.41-.59l7.78-7.78 2.81-2.81c.8-.78.8-2.07 0-2.86zM5.41 20L4 18.59l7.72-7.72 1.47 1.35L5.41 20z\"/>\n",
              "  </svg>\n",
              "      </button>\n",
              "      \n",
              "  <style>\n",
              "    .colab-df-container {\n",
              "      display:flex;\n",
              "      flex-wrap:wrap;\n",
              "      gap: 12px;\n",
              "    }\n",
              "\n",
              "    .colab-df-convert {\n",
              "      background-color: #E8F0FE;\n",
              "      border: none;\n",
              "      border-radius: 50%;\n",
              "      cursor: pointer;\n",
              "      display: none;\n",
              "      fill: #1967D2;\n",
              "      height: 32px;\n",
              "      padding: 0 0 0 0;\n",
              "      width: 32px;\n",
              "    }\n",
              "\n",
              "    .colab-df-convert:hover {\n",
              "      background-color: #E2EBFA;\n",
              "      box-shadow: 0px 1px 2px rgba(60, 64, 67, 0.3), 0px 1px 3px 1px rgba(60, 64, 67, 0.15);\n",
              "      fill: #174EA6;\n",
              "    }\n",
              "\n",
              "    [theme=dark] .colab-df-convert {\n",
              "      background-color: #3B4455;\n",
              "      fill: #D2E3FC;\n",
              "    }\n",
              "\n",
              "    [theme=dark] .colab-df-convert:hover {\n",
              "      background-color: #434B5C;\n",
              "      box-shadow: 0px 1px 3px 1px rgba(0, 0, 0, 0.15);\n",
              "      filter: drop-shadow(0px 1px 2px rgba(0, 0, 0, 0.3));\n",
              "      fill: #FFFFFF;\n",
              "    }\n",
              "  </style>\n",
              "\n",
              "      <script>\n",
              "        const buttonEl =\n",
              "          document.querySelector('#df-c6aca4f9-b03d-4c71-8833-4d51ceda4d39 button.colab-df-convert');\n",
              "        buttonEl.style.display =\n",
              "          google.colab.kernel.accessAllowed ? 'block' : 'none';\n",
              "\n",
              "        async function convertToInteractive(key) {\n",
              "          const element = document.querySelector('#df-c6aca4f9-b03d-4c71-8833-4d51ceda4d39');\n",
              "          const dataTable =\n",
              "            await google.colab.kernel.invokeFunction('convertToInteractive',\n",
              "                                                     [key], {});\n",
              "          if (!dataTable) return;\n",
              "\n",
              "          const docLinkHtml = 'Like what you see? Visit the ' +\n",
              "            '<a target=\"_blank\" href=https://colab.research.google.com/notebooks/data_table.ipynb>data table notebook</a>'\n",
              "            + ' to learn more about interactive tables.';\n",
              "          element.innerHTML = '';\n",
              "          dataTable['output_type'] = 'display_data';\n",
              "          await google.colab.output.renderOutput(dataTable, element);\n",
              "          const docLink = document.createElement('div');\n",
              "          docLink.innerHTML = docLinkHtml;\n",
              "          element.appendChild(docLink);\n",
              "        }\n",
              "      </script>\n",
              "    </div>\n",
              "  </div>\n",
              "  "
            ]
          },
          "metadata": {},
          "execution_count": 13
        }
      ]
    },
    {
      "cell_type": "markdown",
      "source": [
        "#Understand the data"
      ],
      "metadata": {
        "id": "JPqRupLtJiJe"
      }
    },
    {
      "cell_type": "code",
      "source": [
        "rows,cols=train_data.shape\n",
        "print(f'There are {rows} Rows and {cols} Columns')"
      ],
      "metadata": {
        "colab": {
          "base_uri": "https://localhost:8080/"
        },
        "id": "xyatgvKpJoa1",
        "outputId": "f08df195-7e03-42c6-e093-f5a5f2eb394f"
      },
      "execution_count": null,
      "outputs": [
        {
          "output_type": "stream",
          "name": "stdout",
          "text": [
            "There are 76529 Rows and 11 Columns\n"
          ]
        }
      ]
    },
    {
      "cell_type": "code",
      "source": [
        "train_data.info()"
      ],
      "metadata": {
        "colab": {
          "base_uri": "https://localhost:8080/"
        },
        "id": "JRQHt3yIKKPV",
        "outputId": "20b36259-999c-4ad7-9bc8-415500b15280"
      },
      "execution_count": null,
      "outputs": [
        {
          "output_type": "stream",
          "name": "stdout",
          "text": [
            "<class 'pandas.core.frame.DataFrame'>\n",
            "RangeIndex: 76529 entries, 0 to 76528\n",
            "Data columns (total 11 columns):\n",
            " #   Column                    Non-Null Count  Dtype  \n",
            "---  ------                    --------------  -----  \n",
            " 0   transaction_number        76529 non-null  int64  \n",
            " 1   user_id                   76529 non-null  int64  \n",
            " 2   payment_method            76529 non-null  object \n",
            " 3   partner_id                76529 non-null  int64  \n",
            " 4   partner_category          76529 non-null  object \n",
            " 5   country                   76529 non-null  object \n",
            " 6   device_type               76529 non-null  object \n",
            " 7   money_transacted          76529 non-null  float64\n",
            " 8   transaction_initiation    76529 non-null  object \n",
            " 9   partner_pricing_category  76529 non-null  int64  \n",
            " 10  is_fraud                  76529 non-null  int64  \n",
            "dtypes: float64(1), int64(5), object(5)\n",
            "memory usage: 6.4+ MB\n"
          ]
        }
      ]
    },
    {
      "cell_type": "code",
      "source": [
        "train_data.columns"
      ],
      "metadata": {
        "colab": {
          "base_uri": "https://localhost:8080/"
        },
        "id": "zqGZoZDE-Z8F",
        "outputId": "d2efef49-2fbc-4dee-d800-f96ef4353dd3"
      },
      "execution_count": null,
      "outputs": [
        {
          "output_type": "execute_result",
          "data": {
            "text/plain": [
              "Index(['transaction_number', 'user_id', 'payment_method', 'partner_id',\n",
              "       'partner_category', 'country', 'device_type', 'money_transacted',\n",
              "       'transaction_initiation', 'partner_pricing_category', 'is_fraud'],\n",
              "      dtype='object')"
            ]
          },
          "metadata": {},
          "execution_count": 16
        }
      ]
    },
    {
      "cell_type": "code",
      "source": [
        "train_data.dtypes"
      ],
      "metadata": {
        "colab": {
          "base_uri": "https://localhost:8080/"
        },
        "id": "Zqj9ikW8-vfM",
        "outputId": "c0e18d6b-1f83-4007-ca5c-6bb233bcdb73"
      },
      "execution_count": null,
      "outputs": [
        {
          "output_type": "execute_result",
          "data": {
            "text/plain": [
              "transaction_number            int64\n",
              "user_id                       int64\n",
              "payment_method               object\n",
              "partner_id                    int64\n",
              "partner_category             object\n",
              "country                      object\n",
              "device_type                  object\n",
              "money_transacted            float64\n",
              "transaction_initiation       object\n",
              "partner_pricing_category      int64\n",
              "is_fraud                      int64\n",
              "dtype: object"
            ]
          },
          "metadata": {},
          "execution_count": 17
        }
      ]
    },
    {
      "cell_type": "code",
      "source": [
        "train_data.describe()"
      ],
      "metadata": {
        "colab": {
          "base_uri": "https://localhost:8080/",
          "height": 300
        },
        "id": "G_BkNzvGHAZB",
        "outputId": "c99ea05e-6d0e-489c-bb24-e59b6e0040e7"
      },
      "execution_count": null,
      "outputs": [
        {
          "output_type": "execute_result",
          "data": {
            "text/plain": [
              "       transaction_number       user_id     partner_id  money_transacted  \\\n",
              "count        7.652900e+04  7.652900e+04   76529.000000      76529.000000   \n",
              "mean         6.940200e+14  1.247483e+07   58497.189105        132.724348   \n",
              "std          7.867885e+14  1.205878e+07   36740.216787       2350.110900   \n",
              "min          8.000000e+00  1.000000e+00    7889.000000     -20000.000000   \n",
              "25%          4.387866e+13  3.515625e+06   23667.000000         -1.000000   \n",
              "50%          3.452540e+14  9.753129e+06   47334.000000         20.000000   \n",
              "75%          1.173440e+15  1.788444e+07   78890.000000         52.000000   \n",
              "max          2.784238e+15  5.592048e+07  213003.000000     197217.760000   \n",
              "\n",
              "       partner_pricing_category      is_fraud  \n",
              "count              76529.000000  76529.000000  \n",
              "mean                   2.255707      0.002012  \n",
              "std                    0.732174      0.044814  \n",
              "min                    0.000000      0.000000  \n",
              "25%                    2.000000      0.000000  \n",
              "50%                    2.000000      0.000000  \n",
              "75%                    2.000000      0.000000  \n",
              "max                    4.000000      1.000000  "
            ],
            "text/html": [
              "\n",
              "  <div id=\"df-71911e85-53fa-4d44-b9a7-881430b3866e\">\n",
              "    <div class=\"colab-df-container\">\n",
              "      <div>\n",
              "<style scoped>\n",
              "    .dataframe tbody tr th:only-of-type {\n",
              "        vertical-align: middle;\n",
              "    }\n",
              "\n",
              "    .dataframe tbody tr th {\n",
              "        vertical-align: top;\n",
              "    }\n",
              "\n",
              "    .dataframe thead th {\n",
              "        text-align: right;\n",
              "    }\n",
              "</style>\n",
              "<table border=\"1\" class=\"dataframe\">\n",
              "  <thead>\n",
              "    <tr style=\"text-align: right;\">\n",
              "      <th></th>\n",
              "      <th>transaction_number</th>\n",
              "      <th>user_id</th>\n",
              "      <th>partner_id</th>\n",
              "      <th>money_transacted</th>\n",
              "      <th>partner_pricing_category</th>\n",
              "      <th>is_fraud</th>\n",
              "    </tr>\n",
              "  </thead>\n",
              "  <tbody>\n",
              "    <tr>\n",
              "      <th>count</th>\n",
              "      <td>7.652900e+04</td>\n",
              "      <td>7.652900e+04</td>\n",
              "      <td>76529.000000</td>\n",
              "      <td>76529.000000</td>\n",
              "      <td>76529.000000</td>\n",
              "      <td>76529.000000</td>\n",
              "    </tr>\n",
              "    <tr>\n",
              "      <th>mean</th>\n",
              "      <td>6.940200e+14</td>\n",
              "      <td>1.247483e+07</td>\n",
              "      <td>58497.189105</td>\n",
              "      <td>132.724348</td>\n",
              "      <td>2.255707</td>\n",
              "      <td>0.002012</td>\n",
              "    </tr>\n",
              "    <tr>\n",
              "      <th>std</th>\n",
              "      <td>7.867885e+14</td>\n",
              "      <td>1.205878e+07</td>\n",
              "      <td>36740.216787</td>\n",
              "      <td>2350.110900</td>\n",
              "      <td>0.732174</td>\n",
              "      <td>0.044814</td>\n",
              "    </tr>\n",
              "    <tr>\n",
              "      <th>min</th>\n",
              "      <td>8.000000e+00</td>\n",
              "      <td>1.000000e+00</td>\n",
              "      <td>7889.000000</td>\n",
              "      <td>-20000.000000</td>\n",
              "      <td>0.000000</td>\n",
              "      <td>0.000000</td>\n",
              "    </tr>\n",
              "    <tr>\n",
              "      <th>25%</th>\n",
              "      <td>4.387866e+13</td>\n",
              "      <td>3.515625e+06</td>\n",
              "      <td>23667.000000</td>\n",
              "      <td>-1.000000</td>\n",
              "      <td>2.000000</td>\n",
              "      <td>0.000000</td>\n",
              "    </tr>\n",
              "    <tr>\n",
              "      <th>50%</th>\n",
              "      <td>3.452540e+14</td>\n",
              "      <td>9.753129e+06</td>\n",
              "      <td>47334.000000</td>\n",
              "      <td>20.000000</td>\n",
              "      <td>2.000000</td>\n",
              "      <td>0.000000</td>\n",
              "    </tr>\n",
              "    <tr>\n",
              "      <th>75%</th>\n",
              "      <td>1.173440e+15</td>\n",
              "      <td>1.788444e+07</td>\n",
              "      <td>78890.000000</td>\n",
              "      <td>52.000000</td>\n",
              "      <td>2.000000</td>\n",
              "      <td>0.000000</td>\n",
              "    </tr>\n",
              "    <tr>\n",
              "      <th>max</th>\n",
              "      <td>2.784238e+15</td>\n",
              "      <td>5.592048e+07</td>\n",
              "      <td>213003.000000</td>\n",
              "      <td>197217.760000</td>\n",
              "      <td>4.000000</td>\n",
              "      <td>1.000000</td>\n",
              "    </tr>\n",
              "  </tbody>\n",
              "</table>\n",
              "</div>\n",
              "      <button class=\"colab-df-convert\" onclick=\"convertToInteractive('df-71911e85-53fa-4d44-b9a7-881430b3866e')\"\n",
              "              title=\"Convert this dataframe to an interactive table.\"\n",
              "              style=\"display:none;\">\n",
              "        \n",
              "  <svg xmlns=\"http://www.w3.org/2000/svg\" height=\"24px\"viewBox=\"0 0 24 24\"\n",
              "       width=\"24px\">\n",
              "    <path d=\"M0 0h24v24H0V0z\" fill=\"none\"/>\n",
              "    <path d=\"M18.56 5.44l.94 2.06.94-2.06 2.06-.94-2.06-.94-.94-2.06-.94 2.06-2.06.94zm-11 1L8.5 8.5l.94-2.06 2.06-.94-2.06-.94L8.5 2.5l-.94 2.06-2.06.94zm10 10l.94 2.06.94-2.06 2.06-.94-2.06-.94-.94-2.06-.94 2.06-2.06.94z\"/><path d=\"M17.41 7.96l-1.37-1.37c-.4-.4-.92-.59-1.43-.59-.52 0-1.04.2-1.43.59L10.3 9.45l-7.72 7.72c-.78.78-.78 2.05 0 2.83L4 21.41c.39.39.9.59 1.41.59.51 0 1.02-.2 1.41-.59l7.78-7.78 2.81-2.81c.8-.78.8-2.07 0-2.86zM5.41 20L4 18.59l7.72-7.72 1.47 1.35L5.41 20z\"/>\n",
              "  </svg>\n",
              "      </button>\n",
              "      \n",
              "  <style>\n",
              "    .colab-df-container {\n",
              "      display:flex;\n",
              "      flex-wrap:wrap;\n",
              "      gap: 12px;\n",
              "    }\n",
              "\n",
              "    .colab-df-convert {\n",
              "      background-color: #E8F0FE;\n",
              "      border: none;\n",
              "      border-radius: 50%;\n",
              "      cursor: pointer;\n",
              "      display: none;\n",
              "      fill: #1967D2;\n",
              "      height: 32px;\n",
              "      padding: 0 0 0 0;\n",
              "      width: 32px;\n",
              "    }\n",
              "\n",
              "    .colab-df-convert:hover {\n",
              "      background-color: #E2EBFA;\n",
              "      box-shadow: 0px 1px 2px rgba(60, 64, 67, 0.3), 0px 1px 3px 1px rgba(60, 64, 67, 0.15);\n",
              "      fill: #174EA6;\n",
              "    }\n",
              "\n",
              "    [theme=dark] .colab-df-convert {\n",
              "      background-color: #3B4455;\n",
              "      fill: #D2E3FC;\n",
              "    }\n",
              "\n",
              "    [theme=dark] .colab-df-convert:hover {\n",
              "      background-color: #434B5C;\n",
              "      box-shadow: 0px 1px 3px 1px rgba(0, 0, 0, 0.15);\n",
              "      filter: drop-shadow(0px 1px 2px rgba(0, 0, 0, 0.3));\n",
              "      fill: #FFFFFF;\n",
              "    }\n",
              "  </style>\n",
              "\n",
              "      <script>\n",
              "        const buttonEl =\n",
              "          document.querySelector('#df-71911e85-53fa-4d44-b9a7-881430b3866e button.colab-df-convert');\n",
              "        buttonEl.style.display =\n",
              "          google.colab.kernel.accessAllowed ? 'block' : 'none';\n",
              "\n",
              "        async function convertToInteractive(key) {\n",
              "          const element = document.querySelector('#df-71911e85-53fa-4d44-b9a7-881430b3866e');\n",
              "          const dataTable =\n",
              "            await google.colab.kernel.invokeFunction('convertToInteractive',\n",
              "                                                     [key], {});\n",
              "          if (!dataTable) return;\n",
              "\n",
              "          const docLinkHtml = 'Like what you see? Visit the ' +\n",
              "            '<a target=\"_blank\" href=https://colab.research.google.com/notebooks/data_table.ipynb>data table notebook</a>'\n",
              "            + ' to learn more about interactive tables.';\n",
              "          element.innerHTML = '';\n",
              "          dataTable['output_type'] = 'display_data';\n",
              "          await google.colab.output.renderOutput(dataTable, element);\n",
              "          const docLink = document.createElement('div');\n",
              "          docLink.innerHTML = docLinkHtml;\n",
              "          element.appendChild(docLink);\n",
              "        }\n",
              "      </script>\n",
              "    </div>\n",
              "  </div>\n",
              "  "
            ]
          },
          "metadata": {},
          "execution_count": 18
        }
      ]
    },
    {
      "cell_type": "code",
      "source": [
        "#finding null values\n",
        "train_data.isnull().sum()"
      ],
      "metadata": {
        "colab": {
          "base_uri": "https://localhost:8080/"
        },
        "id": "FL1H4Sos_oLx",
        "outputId": "59e33022-2afd-4128-a4a0-1c2a0e77682d"
      },
      "execution_count": null,
      "outputs": [
        {
          "output_type": "execute_result",
          "data": {
            "text/plain": [
              "transaction_number          0\n",
              "user_id                     0\n",
              "payment_method              0\n",
              "partner_id                  0\n",
              "partner_category            0\n",
              "country                     0\n",
              "device_type                 0\n",
              "money_transacted            0\n",
              "transaction_initiation      0\n",
              "partner_pricing_category    0\n",
              "is_fraud                    0\n",
              "dtype: int64"
            ]
          },
          "metadata": {},
          "execution_count": 19
        }
      ]
    },
    {
      "cell_type": "code",
      "source": [
        "#unique values in target variable\n",
        "train_data['is_fraud'].value_counts()"
      ],
      "metadata": {
        "colab": {
          "base_uri": "https://localhost:8080/"
        },
        "id": "lyxeF_6BA3sE",
        "outputId": "b5ee2aa6-6c29-4bdb-82de-d8773ebcbb92"
      },
      "execution_count": null,
      "outputs": [
        {
          "output_type": "execute_result",
          "data": {
            "text/plain": [
              "0    76375\n",
              "1      154\n",
              "Name: is_fraud, dtype: int64"
            ]
          },
          "metadata": {},
          "execution_count": 20
        }
      ]
    },
    {
      "cell_type": "code",
      "source": [
        "train_data['partner_id'].nunique()"
      ],
      "metadata": {
        "colab": {
          "base_uri": "https://localhost:8080/"
        },
        "id": "xP3mdVYEbenQ",
        "outputId": "e37a4ff1-115d-45fc-d557-1a428f25a81e"
      },
      "execution_count": null,
      "outputs": [
        {
          "output_type": "execute_result",
          "data": {
            "text/plain": [
              "23"
            ]
          },
          "metadata": {},
          "execution_count": 21
        }
      ]
    },
    {
      "cell_type": "code",
      "source": [
        "train_data.value_counts('partner_id')"
      ],
      "metadata": {
        "colab": {
          "base_uri": "https://localhost:8080/"
        },
        "id": "c73pu3AUkHP8",
        "outputId": "3f09228e-7ccb-4209-cdb1-fa038796ca58"
      },
      "execution_count": null,
      "outputs": [
        {
          "output_type": "execute_result",
          "data": {
            "text/plain": [
              "partner_id\n",
              "47334     26105\n",
              "23667     19526\n",
              "78890     12273\n",
              "118335     9546\n",
              "7889       2317\n",
              "31556      1892\n",
              "165669     1216\n",
              "86779      1121\n",
              "149891      767\n",
              "110446      640\n",
              "102557      231\n",
              "15778       189\n",
              "157780      165\n",
              "63112       159\n",
              "189336      146\n",
              "173558       89\n",
              "55223        75\n",
              "213003       25\n",
              "39445        19\n",
              "71001        15\n",
              "126224       10\n",
              "94668         2\n",
              "181447        1\n",
              "dtype: int64"
            ]
          },
          "metadata": {},
          "execution_count": 22
        }
      ]
    },
    {
      "cell_type": "markdown",
      "source": [
        "#EDA(Exploratory Data Analysis)"
      ],
      "metadata": {
        "id": "3VBbn9cJILud"
      }
    },
    {
      "cell_type": "code",
      "source": [
        "import matplotlib.pyplot as plt\n",
        "import seaborn as sns"
      ],
      "metadata": {
        "id": "cS0uaa6bGosb"
      },
      "execution_count": null,
      "outputs": []
    },
    {
      "cell_type": "code",
      "source": [
        "#Heat map\n",
        "plt.figure(figsize = (18, 12))\n",
        "sns.heatmap(data =train_data.corr(), annot = True, fmt ='.2g', linewidth = 1)\n",
        "plt.show()"
      ],
      "metadata": {
        "colab": {
          "base_uri": "https://localhost:8080/",
          "height": 631
        },
        "id": "CsTny1-LK4g-",
        "outputId": "5cc42337-0dd0-4180-bc3f-402bf252e8ba"
      },
      "execution_count": null,
      "outputs": [
        {
          "output_type": "display_data",
          "data": {
            "text/plain": [
              "<Figure size 1296x864 with 2 Axes>"
            ],
            "image/png": "[encoded data removed]"
          },
          "metadata": {
            "needs_background": "light"
          }
        }
      ]
    },
    {
      "cell_type": "code",
      "source": [
        "train_data_f=train_data[train_data['is_fraud']==1]\n",
        "train_data_nf=train_data[train_data['is_fraud']==0]"
      ],
      "metadata": {
        "id": "M2l9BtdURPf8"
      },
      "execution_count": null,
      "outputs": []
    },
    {
      "cell_type": "code",
      "source": [
        "train_data_f.head()"
      ],
      "metadata": {
        "colab": {
          "base_uri": "https://localhost:8080/",
          "height": 357
        },
        "id": "abjRI7vmTgBI",
        "outputId": "2f7307d1-4153-43e0-ec0b-c9e7ec039746"
      },
      "execution_count": null,
      "outputs": [
        {
          "output_type": "execute_result",
          "data": {
            "text/plain": [
              "      transaction_number   user_id            payment_method  partner_id  \\\n",
              "196      631960043718375   1695204  visa_master_credit_cards      118335   \n",
              "571        2425548625856   7054336  visa_master_credit_cards      118335   \n",
              "1267        641842338376  19829209         other_debit_cards      118335   \n",
              "1420     298707250627423  19829209         other_debit_cards      118335   \n",
              "1811    1165348588684337  25542916   visa_master_debit_cards       23667   \n",
              "\n",
              "     partner_category  country  device_type  money_transacted  \\\n",
              "196             cat_1  IND_INR    other_pcs           40000.0   \n",
              "571             cat_1  IND_INR  windows_pcs            6000.0   \n",
              "1267            cat_1  IND_INR    other_pcs           10000.0   \n",
              "1420            cat_1  IND_INR    other_pcs           60000.0   \n",
              "1811            cat_2  IND_INR    other_pcs           10000.0   \n",
              "\n",
              "         transaction_initiation  partner_pricing_category  is_fraud  \n",
              "196   2017-01-18 15:09:59+00:00                         2         1  \n",
              "571   2017-01-24 00:44:25+00:00                         2         1  \n",
              "1267  2016-12-04 12:22:20+00:00                         0         1  \n",
              "1420  2016-12-04 12:20:07+00:00                         0         1  \n",
              "1811  2016-12-28 08:17:21+00:00                         4         1  "
            ],
            "text/html": [
              "\n",
              "  <div id=\"df-3d9ad8cf-ac3a-4038-85ce-61487d313328\">\n",
              "    <div class=\"colab-df-container\">\n",
              "      <div>\n",
              "<style scoped>\n",
              "    .dataframe tbody tr th:only-of-type {\n",
              "        vertical-align: middle;\n",
              "    }\n",
              "\n",
              "    .dataframe tbody tr th {\n",
              "        vertical-align: top;\n",
              "    }\n",
              "\n",
              "    .dataframe thead th {\n",
              "        text-align: right;\n",
              "    }\n",
              "</style>\n",
              "<table border=\"1\" class=\"dataframe\">\n",
              "  <thead>\n",
              "    <tr style=\"text-align: right;\">\n",
              "      <th></th>\n",
              "      <th>transaction_number</th>\n",
              "      <th>user_id</th>\n",
              "      <th>payment_method</th>\n",
              "      <th>partner_id</th>\n",
              "      <th>partner_category</th>\n",
              "      <th>country</th>\n",
              "      <th>device_type</th>\n",
              "      <th>money_transacted</th>\n",
              "      <th>transaction_initiation</th>\n",
              "      <th>partner_pricing_category</th>\n",
              "      <th>is_fraud</th>\n",
              "    </tr>\n",
              "  </thead>\n",
              "  <tbody>\n",
              "    <tr>\n",
              "      <th>196</th>\n",
              "      <td>631960043718375</td>\n",
              "      <td>1695204</td>\n",
              "      <td>visa_master_credit_cards</td>\n",
              "      <td>118335</td>\n",
              "      <td>cat_1</td>\n",
              "      <td>IND_INR</td>\n",
              "      <td>other_pcs</td>\n",
              "      <td>40000.0</td>\n",
              "      <td>2017-01-18 15:09:59+00:00</td>\n",
              "      <td>2</td>\n",
              "      <td>1</td>\n",
              "    </tr>\n",
              "    <tr>\n",
              "      <th>571</th>\n",
              "      <td>2425548625856</td>\n",
              "      <td>7054336</td>\n",
              "      <td>visa_master_credit_cards</td>\n",
              "      <td>118335</td>\n",
              "      <td>cat_1</td>\n",
              "      <td>IND_INR</td>\n",
              "      <td>windows_pcs</td>\n",
              "      <td>6000.0</td>\n",
              "      <td>2017-01-24 00:44:25+00:00</td>\n",
              "      <td>2</td>\n",
              "      <td>1</td>\n",
              "    </tr>\n",
              "    <tr>\n",
              "      <th>1267</th>\n",
              "      <td>641842338376</td>\n",
              "      <td>19829209</td>\n",
              "      <td>other_debit_cards</td>\n",
              "      <td>118335</td>\n",
              "      <td>cat_1</td>\n",
              "      <td>IND_INR</td>\n",
              "      <td>other_pcs</td>\n",
              "      <td>10000.0</td>\n",
              "      <td>2016-12-04 12:22:20+00:00</td>\n",
              "      <td>0</td>\n",
              "      <td>1</td>\n",
              "    </tr>\n",
              "    <tr>\n",
              "      <th>1420</th>\n",
              "      <td>298707250627423</td>\n",
              "      <td>19829209</td>\n",
              "      <td>other_debit_cards</td>\n",
              "      <td>118335</td>\n",
              "      <td>cat_1</td>\n",
              "      <td>IND_INR</td>\n",
              "      <td>other_pcs</td>\n",
              "      <td>60000.0</td>\n",
              "      <td>2016-12-04 12:20:07+00:00</td>\n",
              "      <td>0</td>\n",
              "      <td>1</td>\n",
              "    </tr>\n",
              "    <tr>\n",
              "      <th>1811</th>\n",
              "      <td>1165348588684337</td>\n",
              "      <td>25542916</td>\n",
              "      <td>visa_master_debit_cards</td>\n",
              "      <td>23667</td>\n",
              "      <td>cat_2</td>\n",
              "      <td>IND_INR</td>\n",
              "      <td>other_pcs</td>\n",
              "      <td>10000.0</td>\n",
              "      <td>2016-12-28 08:17:21+00:00</td>\n",
              "      <td>4</td>\n",
              "      <td>1</td>\n",
              "    </tr>\n",
              "  </tbody>\n",
              "</table>\n",
              "</div>\n",
              "      <button class=\"colab-df-convert\" onclick=\"convertToInteractive('df-3d9ad8cf-ac3a-4038-85ce-61487d313328')\"\n",
              "              title=\"Convert this dataframe to an interactive table.\"\n",
              "              style=\"display:none;\">\n",
              "        \n",
              "  <svg xmlns=\"http://www.w3.org/2000/svg\" height=\"24px\"viewBox=\"0 0 24 24\"\n",
              "       width=\"24px\">\n",
              "    <path d=\"M0 0h24v24H0V0z\" fill=\"none\"/>\n",
              "    <path d=\"M18.56 5.44l.94 2.06.94-2.06 2.06-.94-2.06-.94-.94-2.06-.94 2.06-2.06.94zm-11 1L8.5 8.5l.94-2.06 2.06-.94-2.06-.94L8.5 2.5l-.94 2.06-2.06.94zm10 10l.94 2.06.94-2.06 2.06-.94-2.06-.94-.94-2.06-.94 2.06-2.06.94z\"/><path d=\"M17.41 7.96l-1.37-1.37c-.4-.4-.92-.59-1.43-.59-.52 0-1.04.2-1.43.59L10.3 9.45l-7.72 7.72c-.78.78-.78 2.05 0 2.83L4 21.41c.39.39.9.59 1.41.59.51 0 1.02-.2 1.41-.59l7.78-7.78 2.81-2.81c.8-.78.8-2.07 0-2.86zM5.41 20L4 18.59l7.72-7.72 1.47 1.35L5.41 20z\"/>\n",
              "  </svg>\n",
              "      </button>\n",
              "      \n",
              "  <style>\n",
              "    .colab-df-container {\n",
              "      display:flex;\n",
              "      flex-wrap:wrap;\n",
              "      gap: 12px;\n",
              "    }\n",
              "\n",
              "    .colab-df-convert {\n",
              "      background-color: #E8F0FE;\n",
              "      border: none;\n",
              "      border-radius: 50%;\n",
              "      cursor: pointer;\n",
              "      display: none;\n",
              "      fill: #1967D2;\n",
              "      height: 32px;\n",
              "      padding: 0 0 0 0;\n",
              "      width: 32px;\n",
              "    }\n",
              "\n",
              "    .colab-df-convert:hover {\n",
              "      background-color: #E2EBFA;\n",
              "      box-shadow: 0px 1px 2px rgba(60, 64, 67, 0.3), 0px 1px 3px 1px rgba(60, 64, 67, 0.15);\n",
              "      fill: #174EA6;\n",
              "    }\n",
              "\n",
              "    [theme=dark] .colab-df-convert {\n",
              "      background-color: #3B4455;\n",
              "      fill: #D2E3FC;\n",
              "    }\n",
              "\n",
              "    [theme=dark] .colab-df-convert:hover {\n",
              "      background-color: #434B5C;\n",
              "      box-shadow: 0px 1px 3px 1px rgba(0, 0, 0, 0.15);\n",
              "      filter: drop-shadow(0px 1px 2px rgba(0, 0, 0, 0.3));\n",
              "      fill: #FFFFFF;\n",
              "    }\n",
              "  </style>\n",
              "\n",
              "      <script>\n",
              "        const buttonEl =\n",
              "          document.querySelector('#df-3d9ad8cf-ac3a-4038-85ce-61487d313328 button.colab-df-convert');\n",
              "        buttonEl.style.display =\n",
              "          google.colab.kernel.accessAllowed ? 'block' : 'none';\n",
              "\n",
              "        async function convertToInteractive(key) {\n",
              "          const element = document.querySelector('#df-3d9ad8cf-ac3a-4038-85ce-61487d313328');\n",
              "          const dataTable =\n",
              "            await google.colab.kernel.invokeFunction('convertToInteractive',\n",
              "                                                     [key], {});\n",
              "          if (!dataTable) return;\n",
              "\n",
              "          const docLinkHtml = 'Like what you see? Visit the ' +\n",
              "            '<a target=\"_blank\" href=https://colab.research.google.com/notebooks/data_table.ipynb>data table notebook</a>'\n",
              "            + ' to learn more about interactive tables.';\n",
              "          element.innerHTML = '';\n",
              "          dataTable['output_type'] = 'display_data';\n",
              "          await google.colab.output.renderOutput(dataTable, element);\n",
              "          const docLink = document.createElement('div');\n",
              "          docLink.innerHTML = docLinkHtml;\n",
              "          element.appendChild(docLink);\n",
              "        }\n",
              "      </script>\n",
              "    </div>\n",
              "  </div>\n",
              "  "
            ]
          },
          "metadata": {},
          "execution_count": 26
        }
      ]
    },
    {
      "cell_type": "code",
      "source": [
        "plt.figure(figsize=(10,10))\n",
        "sns.countplot(train_data_f.device_type)\n",
        "plt.title(\"Fraud claims based on device type\")\n",
        "plt.show()"
      ],
      "metadata": {
        "colab": {
          "base_uri": "https://localhost:8080/",
          "height": 678
        },
        "id": "4XJY5XfcLQED",
        "outputId": "20a2b768-3d71-4918-f534-f539954ff948"
      },
      "execution_count": null,
      "outputs": [
        {
          "output_type": "stream",
          "name": "stderr",
          "text": [
            "/usr/local/lib/python3.7/dist-packages/seaborn/_decorators.py:43: FutureWarning: Pass the following variable as a keyword arg: x. From version 0.12, the only valid positional argument will be `data`, and passing other arguments without an explicit keyword will result in an error or misinterpretation.\n",
            "  FutureWarning\n"
          ]
        },
        {
          "output_type": "display_data",
          "data": {
            "text/plain": [
              "<Figure size 720x720 with 1 Axes>"
            ],
            "image/png": "[encoded data removed]"
          },
          "metadata": {
            "needs_background": "light"
          }
        }
      ]
    },
    {
      "cell_type": "code",
      "source": [
        "plt.figure(figsize=(10,10))\n",
        "sns.countplot(train_data_f.partner_category)\n",
        "plt.title(\"Fraud claims based on partner category\")\n",
        "plt.show()"
      ],
      "metadata": {
        "colab": {
          "base_uri": "https://localhost:8080/",
          "height": 678
        },
        "id": "MppBhvkjP9UL",
        "outputId": "42d59ba5-0ac4-468e-b0f7-459d0c578f6e"
      },
      "execution_count": null,
      "outputs": [
        {
          "output_type": "stream",
          "name": "stderr",
          "text": [
            "/usr/local/lib/python3.7/dist-packages/seaborn/_decorators.py:43: FutureWarning: Pass the following variable as a keyword arg: x. From version 0.12, the only valid positional argument will be `data`, and passing other arguments without an explicit keyword will result in an error or misinterpretation.\n",
            "  FutureWarning\n"
          ]
        },
        {
          "output_type": "display_data",
          "data": {
            "text/plain": [
              "<Figure size 720x720 with 1 Axes>"
            ],
            "image/png": "[encoded data removed]"
          },
          "metadata": {
            "needs_background": "light"
          }
        }
      ]
    },
    {
      "cell_type": "code",
      "source": [
        "from matplotlib.pyplot import subplots\n",
        "train_data.plot(kind='hist',subplots=True,sharex=False,sharey=False,layout=(3,3),figsize=(13,13))\n",
        "plt.show()"
      ],
      "metadata": {
        "colab": {
          "base_uri": "https://localhost:8080/",
          "height": 521
        },
        "id": "1j48eAcBX4bc",
        "outputId": "f6f0a39d-c542-48ee-9434-751e3fb673c4"
      },
      "execution_count": null,
      "outputs": [
        {
          "output_type": "display_data",
          "data": {
            "text/plain": [
              "<Figure size 936x936 with 9 Axes>"
            ],
            "image/png": "[encoded data removed]"
          },
          "metadata": {
            "needs_background": "light"
          }
        }
      ]
    },
    {
      "cell_type": "code",
      "source": [
        "train_data.plot(kind='density',subplots=True,sharex=False,sharey=False,layout=(3,3),figsize=(13,13))\n",
        "plt.show()"
      ],
      "metadata": {
        "colab": {
          "base_uri": "https://localhost:8080/",
          "height": 516
        },
        "id": "YW9ipiRtYesg",
        "outputId": "949e3542-dd67-4088-e32f-439322f938b9"
      },
      "execution_count": null,
      "outputs": [
        {
          "output_type": "display_data",
          "data": {
            "text/plain": [
              "<Figure size 936x936 with 9 Axes>"
            ],
            "image/png": "[encoded data removed]"
          },
          "metadata": {
            "needs_background": "light"
          }
        }
      ]
    },
    {
      "cell_type": "code",
      "source": [
        "train_data.plot(kind='box',subplots=True,sharex=False,sharey=False,layout=(3,3),figsize=(13,13))\n",
        "plt.show()"
      ],
      "metadata": {
        "colab": {
          "base_uri": "https://localhost:8080/",
          "height": 517
        },
        "id": "evz2Y8LUYlUd",
        "outputId": "f4b43d2e-3ce8-4e5c-d2d2-5a7a738f5dc1"
      },
      "execution_count": null,
      "outputs": [
        {
          "output_type": "display_data",
          "data": {
            "text/plain": [
              "<Figure size 936x936 with 9 Axes>"
            ],
            "image/png": "[encoded data removed]"
          },
          "metadata": {
            "needs_background": "light"
          }
        }
      ]
    },
    {
      "cell_type": "markdown",
      "source": [
        "#Feature engineering\n",
        " \n",
        " **Coverting transaction_initiation into date & time data type"
      ],
      "metadata": {
        "id": "J8cYiZ60gINB"
      }
    },
    {
      "cell_type": "code",
      "source": [
        "train_data['transaction_initiation'] = pd.to_datetime(train_data['transaction_initiation'])\n",
        "train_data['transaction_initiation'].dtypes"
      ],
      "metadata": {
        "colab": {
          "base_uri": "https://localhost:8080/"
        },
        "id": "ZkQPy9Zva7_p",
        "outputId": "333e8fea-a7bd-4f69-b8de-e93caf5995d8"
      },
      "execution_count": null,
      "outputs": [
        {
          "output_type": "execute_result",
          "data": {
            "text/plain": [
              "datetime64[ns, UTC]"
            ]
          },
          "metadata": {},
          "execution_count": 32
        }
      ]
    },
    {
      "cell_type": "code",
      "source": [
        "train_data['year'] = train_data['transaction_initiation'].dt.year\n",
        "train_data['month'] = train_data['transaction_initiation'].dt.month\n",
        "train_data['day'] = train_data['transaction_initiation'].dt.day\n",
        "train_data['time'] = train_data['transaction_initiation'].dt.time\n",
        "train_data.drop(columns='transaction_initiation', axis='1', inplace=True)"
      ],
      "metadata": {
        "id": "1MNkvzjvgfO9"
      },
      "execution_count": null,
      "outputs": []
    },
    {
      "cell_type": "code",
      "source": [
        "train_data.head()"
      ],
      "metadata": {
        "colab": {
          "base_uri": "https://localhost:8080/",
          "height": 270
        },
        "id": "5vJu04cMhBLa",
        "outputId": "dd27140e-3361-4cba-a7b9-db10b6c4262e"
      },
      "execution_count": null,
      "outputs": [
        {
          "output_type": "execute_result",
          "data": {
            "text/plain": [
              "   transaction_number   user_id          payment_method  partner_id  \\\n",
              "0        144703125000  17539344  sbi_atm_cum_debit_card       47334   \n",
              "1      77406814453032  24710841       e_wallet_payments       78890   \n",
              "2     308929485482801  24265476       e_wallet_payments       78890   \n",
              "3     665270027747073  10240000       other_debit_cards      102557   \n",
              "4      38276160171101   5880625       other_debit_cards      118335   \n",
              "\n",
              "  partner_category  country      device_type  money_transacted  \\\n",
              "0            cat_1  IND_INR  android_devices              -5.0   \n",
              "1            cat_2  IND_INR        other_pcs             100.0   \n",
              "2            cat_2  IND_INR        other_pcs              50.0   \n",
              "3            cat_3  IND_INR        other_pcs            1000.0   \n",
              "4            cat_1  IND_INR        other_pcs             200.0   \n",
              "\n",
              "   partner_pricing_category  is_fraud  year  month  day      time  \n",
              "0                         2         0  2016     11   15  19:16:12  \n",
              "1                         2         0  2017      1   11  09:25:33  \n",
              "2                         2         0  2016     12    7  07:58:09  \n",
              "3                         2         0  2017      1   11  16:15:44  \n",
              "4                         2         0  2016     11   16  17:04:42  "
            ],
            "text/html": [
              "\n",
              "  <div id=\"df-35b4ec8a-a34c-4934-858a-8cd133710352\">\n",
              "    <div class=\"colab-df-container\">\n",
              "      <div>\n",
              "<style scoped>\n",
              "    .dataframe tbody tr th:only-of-type {\n",
              "        vertical-align: middle;\n",
              "    }\n",
              "\n",
              "    .dataframe tbody tr th {\n",
              "        vertical-align: top;\n",
              "    }\n",
              "\n",
              "    .dataframe thead th {\n",
              "        text-align: right;\n",
              "    }\n",
              "</style>\n",
              "<table border=\"1\" class=\"dataframe\">\n",
              "  <thead>\n",
              "    <tr style=\"text-align: right;\">\n",
              "      <th></th>\n",
              "      <th>transaction_number</th>\n",
              "      <th>user_id</th>\n",
              "      <th>payment_method</th>\n",
              "      <th>partner_id</th>\n",
              "      <th>partner_category</th>\n",
              "      <th>country</th>\n",
              "      <th>device_type</th>\n",
              "      <th>money_transacted</th>\n",
              "      <th>partner_pricing_category</th>\n",
              "      <th>is_fraud</th>\n",
              "      <th>year</th>\n",
              "      <th>month</th>\n",
              "      <th>day</th>\n",
              "      <th>time</th>\n",
              "    </tr>\n",
              "  </thead>\n",
              "  <tbody>\n",
              "    <tr>\n",
              "      <th>0</th>\n",
              "      <td>144703125000</td>\n",
              "      <td>17539344</td>\n",
              "      <td>sbi_atm_cum_debit_card</td>\n",
              "      <td>47334</td>\n",
              "      <td>cat_1</td>\n",
              "      <td>IND_INR</td>\n",
              "      <td>android_devices</td>\n",
              "      <td>-5.0</td>\n",
              "      <td>2</td>\n",
              "      <td>0</td>\n",
              "      <td>2016</td>\n",
              "      <td>11</td>\n",
              "      <td>15</td>\n",
              "      <td>19:16:12</td>\n",
              "    </tr>\n",
              "    <tr>\n",
              "      <th>1</th>\n",
              "      <td>77406814453032</td>\n",
              "      <td>24710841</td>\n",
              "      <td>e_wallet_payments</td>\n",
              "      <td>78890</td>\n",
              "      <td>cat_2</td>\n",
              "      <td>IND_INR</td>\n",
              "      <td>other_pcs</td>\n",
              "      <td>100.0</td>\n",
              "      <td>2</td>\n",
              "      <td>0</td>\n",
              "      <td>2017</td>\n",
              "      <td>1</td>\n",
              "      <td>11</td>\n",
              "      <td>09:25:33</td>\n",
              "    </tr>\n",
              "    <tr>\n",
              "      <th>2</th>\n",
              "      <td>308929485482801</td>\n",
              "      <td>24265476</td>\n",
              "      <td>e_wallet_payments</td>\n",
              "      <td>78890</td>\n",
              "      <td>cat_2</td>\n",
              "      <td>IND_INR</td>\n",
              "      <td>other_pcs</td>\n",
              "      <td>50.0</td>\n",
              "      <td>2</td>\n",
              "      <td>0</td>\n",
              "      <td>2016</td>\n",
              "      <td>12</td>\n",
              "      <td>7</td>\n",
              "      <td>07:58:09</td>\n",
              "    </tr>\n",
              "    <tr>\n",
              "      <th>3</th>\n",
              "      <td>665270027747073</td>\n",
              "      <td>10240000</td>\n",
              "      <td>other_debit_cards</td>\n",
              "      <td>102557</td>\n",
              "      <td>cat_3</td>\n",
              "      <td>IND_INR</td>\n",
              "      <td>other_pcs</td>\n",
              "      <td>1000.0</td>\n",
              "      <td>2</td>\n",
              "      <td>0</td>\n",
              "      <td>2017</td>\n",
              "      <td>1</td>\n",
              "      <td>11</td>\n",
              "      <td>16:15:44</td>\n",
              "    </tr>\n",
              "    <tr>\n",
              "      <th>4</th>\n",
              "      <td>38276160171101</td>\n",
              "      <td>5880625</td>\n",
              "      <td>other_debit_cards</td>\n",
              "      <td>118335</td>\n",
              "      <td>cat_1</td>\n",
              "      <td>IND_INR</td>\n",
              "      <td>other_pcs</td>\n",
              "      <td>200.0</td>\n",
              "      <td>2</td>\n",
              "      <td>0</td>\n",
              "      <td>2016</td>\n",
              "      <td>11</td>\n",
              "      <td>16</td>\n",
              "      <td>17:04:42</td>\n",
              "    </tr>\n",
              "  </tbody>\n",
              "</table>\n",
              "</div>\n",
              "      <button class=\"colab-df-convert\" onclick=\"convertToInteractive('df-35b4ec8a-a34c-4934-858a-8cd133710352')\"\n",
              "              title=\"Convert this dataframe to an interactive table.\"\n",
              "              style=\"display:none;\">\n",
              "        \n",
              "  <svg xmlns=\"http://www.w3.org/2000/svg\" height=\"24px\"viewBox=\"0 0 24 24\"\n",
              "       width=\"24px\">\n",
              "    <path d=\"M0 0h24v24H0V0z\" fill=\"none\"/>\n",
              "    <path d=\"M18.56 5.44l.94 2.06.94-2.06 2.06-.94-2.06-.94-.94-2.06-.94 2.06-2.06.94zm-11 1L8.5 8.5l.94-2.06 2.06-.94-2.06-.94L8.5 2.5l-.94 2.06-2.06.94zm10 10l.94 2.06.94-2.06 2.06-.94-2.06-.94-.94-2.06-.94 2.06-2.06.94z\"/><path d=\"M17.41 7.96l-1.37-1.37c-.4-.4-.92-.59-1.43-.59-.52 0-1.04.2-1.43.59L10.3 9.45l-7.72 7.72c-.78.78-.78 2.05 0 2.83L4 21.41c.39.39.9.59 1.41.59.51 0 1.02-.2 1.41-.59l7.78-7.78 2.81-2.81c.8-.78.8-2.07 0-2.86zM5.41 20L4 18.59l7.72-7.72 1.47 1.35L5.41 20z\"/>\n",
              "  </svg>\n",
              "      </button>\n",
              "      \n",
              "  <style>\n",
              "    .colab-df-container {\n",
              "      display:flex;\n",
              "      flex-wrap:wrap;\n",
              "      gap: 12px;\n",
              "    }\n",
              "\n",
              "    .colab-df-convert {\n",
              "      background-color: #E8F0FE;\n",
              "      border: none;\n",
              "      border-radius: 50%;\n",
              "      cursor: pointer;\n",
              "      display: none;\n",
              "      fill: #1967D2;\n",
              "      height: 32px;\n",
              "      padding: 0 0 0 0;\n",
              "      width: 32px;\n",
              "    }\n",
              "\n",
              "    .colab-df-convert:hover {\n",
              "      background-color: #E2EBFA;\n",
              "      box-shadow: 0px 1px 2px rgba(60, 64, 67, 0.3), 0px 1px 3px 1px rgba(60, 64, 67, 0.15);\n",
              "      fill: #174EA6;\n",
              "    }\n",
              "\n",
              "    [theme=dark] .colab-df-convert {\n",
              "      background-color: #3B4455;\n",
              "      fill: #D2E3FC;\n",
              "    }\n",
              "\n",
              "    [theme=dark] .colab-df-convert:hover {\n",
              "      background-color: #434B5C;\n",
              "      box-shadow: 0px 1px 3px 1px rgba(0, 0, 0, 0.15);\n",
              "      filter: drop-shadow(0px 1px 2px rgba(0, 0, 0, 0.3));\n",
              "      fill: #FFFFFF;\n",
              "    }\n",
              "  </style>\n",
              "\n",
              "      <script>\n",
              "        const buttonEl =\n",
              "          document.querySelector('#df-35b4ec8a-a34c-4934-858a-8cd133710352 button.colab-df-convert');\n",
              "        buttonEl.style.display =\n",
              "          google.colab.kernel.accessAllowed ? 'block' : 'none';\n",
              "\n",
              "        async function convertToInteractive(key) {\n",
              "          const element = document.querySelector('#df-35b4ec8a-a34c-4934-858a-8cd133710352');\n",
              "          const dataTable =\n",
              "            await google.colab.kernel.invokeFunction('convertToInteractive',\n",
              "                                                     [key], {});\n",
              "          if (!dataTable) return;\n",
              "\n",
              "          const docLinkHtml = 'Like what you see? Visit the ' +\n",
              "            '<a target=\"_blank\" href=https://colab.research.google.com/notebooks/data_table.ipynb>data table notebook</a>'\n",
              "            + ' to learn more about interactive tables.';\n",
              "          element.innerHTML = '';\n",
              "          dataTable['output_type'] = 'display_data';\n",
              "          await google.colab.output.renderOutput(dataTable, element);\n",
              "          const docLink = document.createElement('div');\n",
              "          docLink.innerHTML = docLinkHtml;\n",
              "          element.appendChild(docLink);\n",
              "        }\n",
              "      </script>\n",
              "    </div>\n",
              "  </div>\n",
              "  "
            ]
          },
          "metadata": {},
          "execution_count": 34
        }
      ]
    },
    {
      "cell_type": "code",
      "source": [
        "train_data.dtypes"
      ],
      "metadata": {
        "colab": {
          "base_uri": "https://localhost:8080/"
        },
        "id": "DEC1c8c_j9BN",
        "outputId": "461da28e-1f23-47b5-e587-1acd528e9846"
      },
      "execution_count": null,
      "outputs": [
        {
          "output_type": "execute_result",
          "data": {
            "text/plain": [
              "transaction_number            int64\n",
              "user_id                       int64\n",
              "payment_method               object\n",
              "partner_id                    int64\n",
              "partner_category             object\n",
              "country                      object\n",
              "device_type                  object\n",
              "money_transacted            float64\n",
              "partner_pricing_category      int64\n",
              "is_fraud                      int64\n",
              "year                          int64\n",
              "month                         int64\n",
              "day                           int64\n",
              "time                         object\n",
              "dtype: object"
            ]
          },
          "metadata": {},
          "execution_count": 35
        }
      ]
    },
    {
      "cell_type": "code",
      "source": [
        "train_data.head()"
      ],
      "metadata": {
        "colab": {
          "base_uri": "https://localhost:8080/",
          "height": 270
        },
        "id": "zB-PFv0km_YW",
        "outputId": "bf74369d-0c5f-42f4-9fac-0b42cccd11e9"
      },
      "execution_count": null,
      "outputs": [
        {
          "output_type": "execute_result",
          "data": {
            "text/plain": [
              "   transaction_number   user_id          payment_method  partner_id  \\\n",
              "0        144703125000  17539344  sbi_atm_cum_debit_card       47334   \n",
              "1      77406814453032  24710841       e_wallet_payments       78890   \n",
              "2     308929485482801  24265476       e_wallet_payments       78890   \n",
              "3     665270027747073  10240000       other_debit_cards      102557   \n",
              "4      38276160171101   5880625       other_debit_cards      118335   \n",
              "\n",
              "  partner_category  country      device_type  money_transacted  \\\n",
              "0            cat_1  IND_INR  android_devices              -5.0   \n",
              "1            cat_2  IND_INR        other_pcs             100.0   \n",
              "2            cat_2  IND_INR        other_pcs              50.0   \n",
              "3            cat_3  IND_INR        other_pcs            1000.0   \n",
              "4            cat_1  IND_INR        other_pcs             200.0   \n",
              "\n",
              "   partner_pricing_category  is_fraud  year  month  day      time  \n",
              "0                         2         0  2016     11   15  19:16:12  \n",
              "1                         2         0  2017      1   11  09:25:33  \n",
              "2                         2         0  2016     12    7  07:58:09  \n",
              "3                         2         0  2017      1   11  16:15:44  \n",
              "4                         2         0  2016     11   16  17:04:42  "
            ],
            "text/html": [
              "\n",
              "  <div id=\"df-2bf6f4dc-3d19-4ce3-aa05-e3bf011bd6f5\">\n",
              "    <div class=\"colab-df-container\">\n",
              "      <div>\n",
              "<style scoped>\n",
              "    .dataframe tbody tr th:only-of-type {\n",
              "        vertical-align: middle;\n",
              "    }\n",
              "\n",
              "    .dataframe tbody tr th {\n",
              "        vertical-align: top;\n",
              "    }\n",
              "\n",
              "    .dataframe thead th {\n",
              "        text-align: right;\n",
              "    }\n",
              "</style>\n",
              "<table border=\"1\" class=\"dataframe\">\n",
              "  <thead>\n",
              "    <tr style=\"text-align: right;\">\n",
              "      <th></th>\n",
              "      <th>transaction_number</th>\n",
              "      <th>user_id</th>\n",
              "      <th>payment_method</th>\n",
              "      <th>partner_id</th>\n",
              "      <th>partner_category</th>\n",
              "      <th>country</th>\n",
              "      <th>device_type</th>\n",
              "      <th>money_transacted</th>\n",
              "      <th>partner_pricing_category</th>\n",
              "      <th>is_fraud</th>\n",
              "      <th>year</th>\n",
              "      <th>month</th>\n",
              "      <th>day</th>\n",
              "      <th>time</th>\n",
              "    </tr>\n",
              "  </thead>\n",
              "  <tbody>\n",
              "    <tr>\n",
              "      <th>0</th>\n",
              "      <td>144703125000</td>\n",
              "      <td>17539344</td>\n",
              "      <td>sbi_atm_cum_debit_card</td>\n",
              "      <td>47334</td>\n",
              "      <td>cat_1</td>\n",
              "      <td>IND_INR</td>\n",
              "      <td>android_devices</td>\n",
              "      <td>-5.0</td>\n",
              "      <td>2</td>\n",
              "      <td>0</td>\n",
              "      <td>2016</td>\n",
              "      <td>11</td>\n",
              "      <td>15</td>\n",
              "      <td>19:16:12</td>\n",
              "    </tr>\n",
              "    <tr>\n",
              "      <th>1</th>\n",
              "      <td>77406814453032</td>\n",
              "      <td>24710841</td>\n",
              "      <td>e_wallet_payments</td>\n",
              "      <td>78890</td>\n",
              "      <td>cat_2</td>\n",
              "      <td>IND_INR</td>\n",
              "      <td>other_pcs</td>\n",
              "      <td>100.0</td>\n",
              "      <td>2</td>\n",
              "      <td>0</td>\n",
              "      <td>2017</td>\n",
              "      <td>1</td>\n",
              "      <td>11</td>\n",
              "      <td>09:25:33</td>\n",
              "    </tr>\n",
              "    <tr>\n",
              "      <th>2</th>\n",
              "      <td>308929485482801</td>\n",
              "      <td>24265476</td>\n",
              "      <td>e_wallet_payments</td>\n",
              "      <td>78890</td>\n",
              "      <td>cat_2</td>\n",
              "      <td>IND_INR</td>\n",
              "      <td>other_pcs</td>\n",
              "      <td>50.0</td>\n",
              "      <td>2</td>\n",
              "      <td>0</td>\n",
              "      <td>2016</td>\n",
              "      <td>12</td>\n",
              "      <td>7</td>\n",
              "      <td>07:58:09</td>\n",
              "    </tr>\n",
              "    <tr>\n",
              "      <th>3</th>\n",
              "      <td>665270027747073</td>\n",
              "      <td>10240000</td>\n",
              "      <td>other_debit_cards</td>\n",
              "      <td>102557</td>\n",
              "      <td>cat_3</td>\n",
              "      <td>IND_INR</td>\n",
              "      <td>other_pcs</td>\n",
              "      <td>1000.0</td>\n",
              "      <td>2</td>\n",
              "      <td>0</td>\n",
              "      <td>2017</td>\n",
              "      <td>1</td>\n",
              "      <td>11</td>\n",
              "      <td>16:15:44</td>\n",
              "    </tr>\n",
              "    <tr>\n",
              "      <th>4</th>\n",
              "      <td>38276160171101</td>\n",
              "      <td>5880625</td>\n",
              "      <td>other_debit_cards</td>\n",
              "      <td>118335</td>\n",
              "      <td>cat_1</td>\n",
              "      <td>IND_INR</td>\n",
              "      <td>other_pcs</td>\n",
              "      <td>200.0</td>\n",
              "      <td>2</td>\n",
              "      <td>0</td>\n",
              "      <td>2016</td>\n",
              "      <td>11</td>\n",
              "      <td>16</td>\n",
              "      <td>17:04:42</td>\n",
              "    </tr>\n",
              "  </tbody>\n",
              "</table>\n",
              "</div>\n",
              "      <button class=\"colab-df-convert\" onclick=\"convertToInteractive('df-2bf6f4dc-3d19-4ce3-aa05-e3bf011bd6f5')\"\n",
              "              title=\"Convert this dataframe to an interactive table.\"\n",
              "              style=\"display:none;\">\n",
              "        \n",
              "  <svg xmlns=\"http://www.w3.org/2000/svg\" height=\"24px\"viewBox=\"0 0 24 24\"\n",
              "       width=\"24px\">\n",
              "    <path d=\"M0 0h24v24H0V0z\" fill=\"none\"/>\n",
              "    <path d=\"M18.56 5.44l.94 2.06.94-2.06 2.06-.94-2.06-.94-.94-2.06-.94 2.06-2.06.94zm-11 1L8.5 8.5l.94-2.06 2.06-.94-2.06-.94L8.5 2.5l-.94 2.06-2.06.94zm10 10l.94 2.06.94-2.06 2.06-.94-2.06-.94-.94-2.06-.94 2.06-2.06.94z\"/><path d=\"M17.41 7.96l-1.37-1.37c-.4-.4-.92-.59-1.43-.59-.52 0-1.04.2-1.43.59L10.3 9.45l-7.72 7.72c-.78.78-.78 2.05 0 2.83L4 21.41c.39.39.9.59 1.41.59.51 0 1.02-.2 1.41-.59l7.78-7.78 2.81-2.81c.8-.78.8-2.07 0-2.86zM5.41 20L4 18.59l7.72-7.72 1.47 1.35L5.41 20z\"/>\n",
              "  </svg>\n",
              "      </button>\n",
              "      \n",
              "  <style>\n",
              "    .colab-df-container {\n",
              "      display:flex;\n",
              "      flex-wrap:wrap;\n",
              "      gap: 12px;\n",
              "    }\n",
              "\n",
              "    .colab-df-convert {\n",
              "      background-color: #E8F0FE;\n",
              "      border: none;\n",
              "      border-radius: 50%;\n",
              "      cursor: pointer;\n",
              "      display: none;\n",
              "      fill: #1967D2;\n",
              "      height: 32px;\n",
              "      padding: 0 0 0 0;\n",
              "      width: 32px;\n",
              "    }\n",
              "\n",
              "    .colab-df-convert:hover {\n",
              "      background-color: #E2EBFA;\n",
              "      box-shadow: 0px 1px 2px rgba(60, 64, 67, 0.3), 0px 1px 3px 1px rgba(60, 64, 67, 0.15);\n",
              "      fill: #174EA6;\n",
              "    }\n",
              "\n",
              "    [theme=dark] .colab-df-convert {\n",
              "      background-color: #3B4455;\n",
              "      fill: #D2E3FC;\n",
              "    }\n",
              "\n",
              "    [theme=dark] .colab-df-convert:hover {\n",
              "      background-color: #434B5C;\n",
              "      box-shadow: 0px 1px 3px 1px rgba(0, 0, 0, 0.15);\n",
              "      filter: drop-shadow(0px 1px 2px rgba(0, 0, 0, 0.3));\n",
              "      fill: #FFFFFF;\n",
              "    }\n",
              "  </style>\n",
              "\n",
              "      <script>\n",
              "        const buttonEl =\n",
              "          document.querySelector('#df-2bf6f4dc-3d19-4ce3-aa05-e3bf011bd6f5 button.colab-df-convert');\n",
              "        buttonEl.style.display =\n",
              "          google.colab.kernel.accessAllowed ? 'block' : 'none';\n",
              "\n",
              "        async function convertToInteractive(key) {\n",
              "          const element = document.querySelector('#df-2bf6f4dc-3d19-4ce3-aa05-e3bf011bd6f5');\n",
              "          const dataTable =\n",
              "            await google.colab.kernel.invokeFunction('convertToInteractive',\n",
              "                                                     [key], {});\n",
              "          if (!dataTable) return;\n",
              "\n",
              "          const docLinkHtml = 'Like what you see? Visit the ' +\n",
              "            '<a target=\"_blank\" href=https://colab.research.google.com/notebooks/data_table.ipynb>data table notebook</a>'\n",
              "            + ' to learn more about interactive tables.';\n",
              "          element.innerHTML = '';\n",
              "          dataTable['output_type'] = 'display_data';\n",
              "          await google.colab.output.renderOutput(dataTable, element);\n",
              "          const docLink = document.createElement('div');\n",
              "          docLink.innerHTML = docLinkHtml;\n",
              "          element.appendChild(docLink);\n",
              "        }\n",
              "      </script>\n",
              "    </div>\n",
              "  </div>\n",
              "  "
            ]
          },
          "metadata": {},
          "execution_count": 36
        }
      ]
    },
    {
      "cell_type": "code",
      "source": [
        "train_data=train_data.drop(\"time\",axis=1)\n",
        "train_data.head()"
      ],
      "metadata": {
        "colab": {
          "base_uri": "https://localhost:8080/",
          "height": 270
        },
        "id": "kumh7h3gmpdn",
        "outputId": "e6b9af86-3d16-4f96-8889-1fed22e8217a"
      },
      "execution_count": null,
      "outputs": [
        {
          "output_type": "execute_result",
          "data": {
            "text/plain": [
              "   transaction_number   user_id          payment_method  partner_id  \\\n",
              "0        144703125000  17539344  sbi_atm_cum_debit_card       47334   \n",
              "1      77406814453032  24710841       e_wallet_payments       78890   \n",
              "2     308929485482801  24265476       e_wallet_payments       78890   \n",
              "3     665270027747073  10240000       other_debit_cards      102557   \n",
              "4      38276160171101   5880625       other_debit_cards      118335   \n",
              "\n",
              "  partner_category  country      device_type  money_transacted  \\\n",
              "0            cat_1  IND_INR  android_devices              -5.0   \n",
              "1            cat_2  IND_INR        other_pcs             100.0   \n",
              "2            cat_2  IND_INR        other_pcs              50.0   \n",
              "3            cat_3  IND_INR        other_pcs            1000.0   \n",
              "4            cat_1  IND_INR        other_pcs             200.0   \n",
              "\n",
              "   partner_pricing_category  is_fraud  year  month  day  \n",
              "0                         2         0  2016     11   15  \n",
              "1                         2         0  2017      1   11  \n",
              "2                         2         0  2016     12    7  \n",
              "3                         2         0  2017      1   11  \n",
              "4                         2         0  2016     11   16  "
            ],
            "text/html": [
              "\n",
              "  <div id=\"df-e0209697-6b87-4656-a02d-f6569397b580\">\n",
              "    <div class=\"colab-df-container\">\n",
              "      <div>\n",
              "<style scoped>\n",
              "    .dataframe tbody tr th:only-of-type {\n",
              "        vertical-align: middle;\n",
              "    }\n",
              "\n",
              "    .dataframe tbody tr th {\n",
              "        vertical-align: top;\n",
              "    }\n",
              "\n",
              "    .dataframe thead th {\n",
              "        text-align: right;\n",
              "    }\n",
              "</style>\n",
              "<table border=\"1\" class=\"dataframe\">\n",
              "  <thead>\n",
              "    <tr style=\"text-align: right;\">\n",
              "      <th></th>\n",
              "      <th>transaction_number</th>\n",
              "      <th>user_id</th>\n",
              "      <th>payment_method</th>\n",
              "      <th>partner_id</th>\n",
              "      <th>partner_category</th>\n",
              "      <th>country</th>\n",
              "      <th>device_type</th>\n",
              "      <th>money_transacted</th>\n",
              "      <th>partner_pricing_category</th>\n",
              "      <th>is_fraud</th>\n",
              "      <th>year</th>\n",
              "      <th>month</th>\n",
              "      <th>day</th>\n",
              "    </tr>\n",
              "  </thead>\n",
              "  <tbody>\n",
              "    <tr>\n",
              "      <th>0</th>\n",
              "      <td>144703125000</td>\n",
              "      <td>17539344</td>\n",
              "      <td>sbi_atm_cum_debit_card</td>\n",
              "      <td>47334</td>\n",
              "      <td>cat_1</td>\n",
              "      <td>IND_INR</td>\n",
              "      <td>android_devices</td>\n",
              "      <td>-5.0</td>\n",
              "      <td>2</td>\n",
              "      <td>0</td>\n",
              "      <td>2016</td>\n",
              "      <td>11</td>\n",
              "      <td>15</td>\n",
              "    </tr>\n",
              "    <tr>\n",
              "      <th>1</th>\n",
              "      <td>77406814453032</td>\n",
              "      <td>24710841</td>\n",
              "      <td>e_wallet_payments</td>\n",
              "      <td>78890</td>\n",
              "      <td>cat_2</td>\n",
              "      <td>IND_INR</td>\n",
              "      <td>other_pcs</td>\n",
              "      <td>100.0</td>\n",
              "      <td>2</td>\n",
              "      <td>0</td>\n",
              "      <td>2017</td>\n",
              "      <td>1</td>\n",
              "      <td>11</td>\n",
              "    </tr>\n",
              "    <tr>\n",
              "      <th>2</th>\n",
              "      <td>308929485482801</td>\n",
              "      <td>24265476</td>\n",
              "      <td>e_wallet_payments</td>\n",
              "      <td>78890</td>\n",
              "      <td>cat_2</td>\n",
              "      <td>IND_INR</td>\n",
              "      <td>other_pcs</td>\n",
              "      <td>50.0</td>\n",
              "      <td>2</td>\n",
              "      <td>0</td>\n",
              "      <td>2016</td>\n",
              "      <td>12</td>\n",
              "      <td>7</td>\n",
              "    </tr>\n",
              "    <tr>\n",
              "      <th>3</th>\n",
              "      <td>665270027747073</td>\n",
              "      <td>10240000</td>\n",
              "      <td>other_debit_cards</td>\n",
              "      <td>102557</td>\n",
              "      <td>cat_3</td>\n",
              "      <td>IND_INR</td>\n",
              "      <td>other_pcs</td>\n",
              "      <td>1000.0</td>\n",
              "      <td>2</td>\n",
              "      <td>0</td>\n",
              "      <td>2017</td>\n",
              "      <td>1</td>\n",
              "      <td>11</td>\n",
              "    </tr>\n",
              "    <tr>\n",
              "      <th>4</th>\n",
              "      <td>38276160171101</td>\n",
              "      <td>5880625</td>\n",
              "      <td>other_debit_cards</td>\n",
              "      <td>118335</td>\n",
              "      <td>cat_1</td>\n",
              "      <td>IND_INR</td>\n",
              "      <td>other_pcs</td>\n",
              "      <td>200.0</td>\n",
              "      <td>2</td>\n",
              "      <td>0</td>\n",
              "      <td>2016</td>\n",
              "      <td>11</td>\n",
              "      <td>16</td>\n",
              "    </tr>\n",
              "  </tbody>\n",
              "</table>\n",
              "</div>\n",
              "      <button class=\"colab-df-convert\" onclick=\"convertToInteractive('df-e0209697-6b87-4656-a02d-f6569397b580')\"\n",
              "              title=\"Convert this dataframe to an interactive table.\"\n",
              "              style=\"display:none;\">\n",
              "        \n",
              "  <svg xmlns=\"http://www.w3.org/2000/svg\" height=\"24px\"viewBox=\"0 0 24 24\"\n",
              "       width=\"24px\">\n",
              "    <path d=\"M0 0h24v24H0V0z\" fill=\"none\"/>\n",
              "    <path d=\"M18.56 5.44l.94 2.06.94-2.06 2.06-.94-2.06-.94-.94-2.06-.94 2.06-2.06.94zm-11 1L8.5 8.5l.94-2.06 2.06-.94-2.06-.94L8.5 2.5l-.94 2.06-2.06.94zm10 10l.94 2.06.94-2.06 2.06-.94-2.06-.94-.94-2.06-.94 2.06-2.06.94z\"/><path d=\"M17.41 7.96l-1.37-1.37c-.4-.4-.92-.59-1.43-.59-.52 0-1.04.2-1.43.59L10.3 9.45l-7.72 7.72c-.78.78-.78 2.05 0 2.83L4 21.41c.39.39.9.59 1.41.59.51 0 1.02-.2 1.41-.59l7.78-7.78 2.81-2.81c.8-.78.8-2.07 0-2.86zM5.41 20L4 18.59l7.72-7.72 1.47 1.35L5.41 20z\"/>\n",
              "  </svg>\n",
              "      </button>\n",
              "      \n",
              "  <style>\n",
              "    .colab-df-container {\n",
              "      display:flex;\n",
              "      flex-wrap:wrap;\n",
              "      gap: 12px;\n",
              "    }\n",
              "\n",
              "    .colab-df-convert {\n",
              "      background-color: #E8F0FE;\n",
              "      border: none;\n",
              "      border-radius: 50%;\n",
              "      cursor: pointer;\n",
              "      display: none;\n",
              "      fill: #1967D2;\n",
              "      height: 32px;\n",
              "      padding: 0 0 0 0;\n",
              "      width: 32px;\n",
              "    }\n",
              "\n",
              "    .colab-df-convert:hover {\n",
              "      background-color: #E2EBFA;\n",
              "      box-shadow: 0px 1px 2px rgba(60, 64, 67, 0.3), 0px 1px 3px 1px rgba(60, 64, 67, 0.15);\n",
              "      fill: #174EA6;\n",
              "    }\n",
              "\n",
              "    [theme=dark] .colab-df-convert {\n",
              "      background-color: #3B4455;\n",
              "      fill: #D2E3FC;\n",
              "    }\n",
              "\n",
              "    [theme=dark] .colab-df-convert:hover {\n",
              "      background-color: #434B5C;\n",
              "      box-shadow: 0px 1px 3px 1px rgba(0, 0, 0, 0.15);\n",
              "      filter: drop-shadow(0px 1px 2px rgba(0, 0, 0, 0.3));\n",
              "      fill: #FFFFFF;\n",
              "    }\n",
              "  </style>\n",
              "\n",
              "      <script>\n",
              "        const buttonEl =\n",
              "          document.querySelector('#df-e0209697-6b87-4656-a02d-f6569397b580 button.colab-df-convert');\n",
              "        buttonEl.style.display =\n",
              "          google.colab.kernel.accessAllowed ? 'block' : 'none';\n",
              "\n",
              "        async function convertToInteractive(key) {\n",
              "          const element = document.querySelector('#df-e0209697-6b87-4656-a02d-f6569397b580');\n",
              "          const dataTable =\n",
              "            await google.colab.kernel.invokeFunction('convertToInteractive',\n",
              "                                                     [key], {});\n",
              "          if (!dataTable) return;\n",
              "\n",
              "          const docLinkHtml = 'Like what you see? Visit the ' +\n",
              "            '<a target=\"_blank\" href=https://colab.research.google.com/notebooks/data_table.ipynb>data table notebook</a>'\n",
              "            + ' to learn more about interactive tables.';\n",
              "          element.innerHTML = '';\n",
              "          dataTable['output_type'] = 'display_data';\n",
              "          await google.colab.output.renderOutput(dataTable, element);\n",
              "          const docLink = document.createElement('div');\n",
              "          docLink.innerHTML = docLinkHtml;\n",
              "          element.appendChild(docLink);\n",
              "        }\n",
              "      </script>\n",
              "    </div>\n",
              "  </div>\n",
              "  "
            ]
          },
          "metadata": {},
          "execution_count": 37
        }
      ]
    },
    {
      "cell_type": "code",
      "source": [
        "train_data.dtypes"
      ],
      "metadata": {
        "colab": {
          "base_uri": "https://localhost:8080/"
        },
        "id": "rvmNsML8qbRf",
        "outputId": "374f3b93-3bc9-4f05-a354-74bd939cedb0"
      },
      "execution_count": null,
      "outputs": [
        {
          "output_type": "execute_result",
          "data": {
            "text/plain": [
              "transaction_number            int64\n",
              "user_id                       int64\n",
              "payment_method               object\n",
              "partner_id                    int64\n",
              "partner_category             object\n",
              "country                      object\n",
              "device_type                  object\n",
              "money_transacted            float64\n",
              "partner_pricing_category      int64\n",
              "is_fraud                      int64\n",
              "year                          int64\n",
              "month                         int64\n",
              "day                           int64\n",
              "dtype: object"
            ]
          },
          "metadata": {},
          "execution_count": 38
        }
      ]
    },
    {
      "cell_type": "markdown",
      "source": [
        "#preprocessing"
      ],
      "metadata": {
        "id": "DH6XMwD2wrqa"
      }
    },
    {
      "cell_type": "code",
      "source": [
        "cat_attr=([\"payment_method\",\"partner_category\",\"device_type\"])\n",
        "train_data[cat_attr]=train_data[cat_attr].astype('category')"
      ],
      "metadata": {
        "id": "TC1ttok3hmR-"
      },
      "execution_count": null,
      "outputs": []
    },
    {
      "cell_type": "code",
      "source": [
        "train_data.dtypes"
      ],
      "metadata": {
        "colab": {
          "base_uri": "https://localhost:8080/"
        },
        "id": "1rMmctqIrsJA",
        "outputId": "a4af2b35-56e1-4f86-e06a-f9c5f0ba0657"
      },
      "execution_count": null,
      "outputs": [
        {
          "output_type": "execute_result",
          "data": {
            "text/plain": [
              "transaction_number             int64\n",
              "user_id                        int64\n",
              "payment_method              category\n",
              "partner_id                     int64\n",
              "partner_category            category\n",
              "country                       object\n",
              "device_type                 category\n",
              "money_transacted             float64\n",
              "partner_pricing_category       int64\n",
              "is_fraud                       int64\n",
              "year                           int64\n",
              "month                          int64\n",
              "day                            int64\n",
              "dtype: object"
            ]
          },
          "metadata": {},
          "execution_count": 40
        }
      ]
    },
    {
      "cell_type": "code",
      "source": [
        "train_data=train_data.drop(['transaction_number','country'],axis=1)\n",
        "train_data.head()"
      ],
      "metadata": {
        "colab": {
          "base_uri": "https://localhost:8080/",
          "height": 270
        },
        "id": "hJAVtR6hrt0j",
        "outputId": "b3acc661-ca02-49de-ba1c-5d046e913756"
      },
      "execution_count": null,
      "outputs": [
        {
          "output_type": "execute_result",
          "data": {
            "text/plain": [
              "    user_id          payment_method  partner_id partner_category  \\\n",
              "0  17539344  sbi_atm_cum_debit_card       47334            cat_1   \n",
              "1  24710841       e_wallet_payments       78890            cat_2   \n",
              "2  24265476       e_wallet_payments       78890            cat_2   \n",
              "3  10240000       other_debit_cards      102557            cat_3   \n",
              "4   5880625       other_debit_cards      118335            cat_1   \n",
              "\n",
              "       device_type  money_transacted  partner_pricing_category  is_fraud  \\\n",
              "0  android_devices              -5.0                         2         0   \n",
              "1        other_pcs             100.0                         2         0   \n",
              "2        other_pcs              50.0                         2         0   \n",
              "3        other_pcs            1000.0                         2         0   \n",
              "4        other_pcs             200.0                         2         0   \n",
              "\n",
              "   year  month  day  \n",
              "0  2016     11   15  \n",
              "1  2017      1   11  \n",
              "2  2016     12    7  \n",
              "3  2017      1   11  \n",
              "4  2016     11   16  "
            ],
            "text/html": [
              "\n",
              "  <div id=\"df-8cd9c0d7-52a0-4c32-b3e3-bc2eb8ee0308\">\n",
              "    <div class=\"colab-df-container\">\n",
              "      <div>\n",
              "<style scoped>\n",
              "    .dataframe tbody tr th:only-of-type {\n",
              "        vertical-align: middle;\n",
              "    }\n",
              "\n",
              "    .dataframe tbody tr th {\n",
              "        vertical-align: top;\n",
              "    }\n",
              "\n",
              "    .dataframe thead th {\n",
              "        text-align: right;\n",
              "    }\n",
              "</style>\n",
              "<table border=\"1\" class=\"dataframe\">\n",
              "  <thead>\n",
              "    <tr style=\"text-align: right;\">\n",
              "      <th></th>\n",
              "      <th>user_id</th>\n",
              "      <th>payment_method</th>\n",
              "      <th>partner_id</th>\n",
              "      <th>partner_category</th>\n",
              "      <th>device_type</th>\n",
              "      <th>money_transacted</th>\n",
              "      <th>partner_pricing_category</th>\n",
              "      <th>is_fraud</th>\n",
              "      <th>year</th>\n",
              "      <th>month</th>\n",
              "      <th>day</th>\n",
              "    </tr>\n",
              "  </thead>\n",
              "  <tbody>\n",
              "    <tr>\n",
              "      <th>0</th>\n",
              "      <td>17539344</td>\n",
              "      <td>sbi_atm_cum_debit_card</td>\n",
              "      <td>47334</td>\n",
              "      <td>cat_1</td>\n",
              "      <td>android_devices</td>\n",
              "      <td>-5.0</td>\n",
              "      <td>2</td>\n",
              "      <td>0</td>\n",
              "      <td>2016</td>\n",
              "      <td>11</td>\n",
              "      <td>15</td>\n",
              "    </tr>\n",
              "    <tr>\n",
              "      <th>1</th>\n",
              "      <td>24710841</td>\n",
              "      <td>e_wallet_payments</td>\n",
              "      <td>78890</td>\n",
              "      <td>cat_2</td>\n",
              "      <td>other_pcs</td>\n",
              "      <td>100.0</td>\n",
              "      <td>2</td>\n",
              "      <td>0</td>\n",
              "      <td>2017</td>\n",
              "      <td>1</td>\n",
              "      <td>11</td>\n",
              "    </tr>\n",
              "    <tr>\n",
              "      <th>2</th>\n",
              "      <td>24265476</td>\n",
              "      <td>e_wallet_payments</td>\n",
              "      <td>78890</td>\n",
              "      <td>cat_2</td>\n",
              "      <td>other_pcs</td>\n",
              "      <td>50.0</td>\n",
              "      <td>2</td>\n",
              "      <td>0</td>\n",
              "      <td>2016</td>\n",
              "      <td>12</td>\n",
              "      <td>7</td>\n",
              "    </tr>\n",
              "    <tr>\n",
              "      <th>3</th>\n",
              "      <td>10240000</td>\n",
              "      <td>other_debit_cards</td>\n",
              "      <td>102557</td>\n",
              "      <td>cat_3</td>\n",
              "      <td>other_pcs</td>\n",
              "      <td>1000.0</td>\n",
              "      <td>2</td>\n",
              "      <td>0</td>\n",
              "      <td>2017</td>\n",
              "      <td>1</td>\n",
              "      <td>11</td>\n",
              "    </tr>\n",
              "    <tr>\n",
              "      <th>4</th>\n",
              "      <td>5880625</td>\n",
              "      <td>other_debit_cards</td>\n",
              "      <td>118335</td>\n",
              "      <td>cat_1</td>\n",
              "      <td>other_pcs</td>\n",
              "      <td>200.0</td>\n",
              "      <td>2</td>\n",
              "      <td>0</td>\n",
              "      <td>2016</td>\n",
              "      <td>11</td>\n",
              "      <td>16</td>\n",
              "    </tr>\n",
              "  </tbody>\n",
              "</table>\n",
              "</div>\n",
              "      <button class=\"colab-df-convert\" onclick=\"convertToInteractive('df-8cd9c0d7-52a0-4c32-b3e3-bc2eb8ee0308')\"\n",
              "              title=\"Convert this dataframe to an interactive table.\"\n",
              "              style=\"display:none;\">\n",
              "        \n",
              "  <svg xmlns=\"http://www.w3.org/2000/svg\" height=\"24px\"viewBox=\"0 0 24 24\"\n",
              "       width=\"24px\">\n",
              "    <path d=\"M0 0h24v24H0V0z\" fill=\"none\"/>\n",
              "    <path d=\"M18.56 5.44l.94 2.06.94-2.06 2.06-.94-2.06-.94-.94-2.06-.94 2.06-2.06.94zm-11 1L8.5 8.5l.94-2.06 2.06-.94-2.06-.94L8.5 2.5l-.94 2.06-2.06.94zm10 10l.94 2.06.94-2.06 2.06-.94-2.06-.94-.94-2.06-.94 2.06-2.06.94z\"/><path d=\"M17.41 7.96l-1.37-1.37c-.4-.4-.92-.59-1.43-.59-.52 0-1.04.2-1.43.59L10.3 9.45l-7.72 7.72c-.78.78-.78 2.05 0 2.83L4 21.41c.39.39.9.59 1.41.59.51 0 1.02-.2 1.41-.59l7.78-7.78 2.81-2.81c.8-.78.8-2.07 0-2.86zM5.41 20L4 18.59l7.72-7.72 1.47 1.35L5.41 20z\"/>\n",
              "  </svg>\n",
              "      </button>\n",
              "      \n",
              "  <style>\n",
              "    .colab-df-container {\n",
              "      display:flex;\n",
              "      flex-wrap:wrap;\n",
              "      gap: 12px;\n",
              "    }\n",
              "\n",
              "    .colab-df-convert {\n",
              "      background-color: #E8F0FE;\n",
              "      border: none;\n",
              "      border-radius: 50%;\n",
              "      cursor: pointer;\n",
              "      display: none;\n",
              "      fill: #1967D2;\n",
              "      height: 32px;\n",
              "      padding: 0 0 0 0;\n",
              "      width: 32px;\n",
              "    }\n",
              "\n",
              "    .colab-df-convert:hover {\n",
              "      background-color: #E2EBFA;\n",
              "      box-shadow: 0px 1px 2px rgba(60, 64, 67, 0.3), 0px 1px 3px 1px rgba(60, 64, 67, 0.15);\n",
              "      fill: #174EA6;\n",
              "    }\n",
              "\n",
              "    [theme=dark] .colab-df-convert {\n",
              "      background-color: #3B4455;\n",
              "      fill: #D2E3FC;\n",
              "    }\n",
              "\n",
              "    [theme=dark] .colab-df-convert:hover {\n",
              "      background-color: #434B5C;\n",
              "      box-shadow: 0px 1px 3px 1px rgba(0, 0, 0, 0.15);\n",
              "      filter: drop-shadow(0px 1px 2px rgba(0, 0, 0, 0.3));\n",
              "      fill: #FFFFFF;\n",
              "    }\n",
              "  </style>\n",
              "\n",
              "      <script>\n",
              "        const buttonEl =\n",
              "          document.querySelector('#df-8cd9c0d7-52a0-4c32-b3e3-bc2eb8ee0308 button.colab-df-convert');\n",
              "        buttonEl.style.display =\n",
              "          google.colab.kernel.accessAllowed ? 'block' : 'none';\n",
              "\n",
              "        async function convertToInteractive(key) {\n",
              "          const element = document.querySelector('#df-8cd9c0d7-52a0-4c32-b3e3-bc2eb8ee0308');\n",
              "          const dataTable =\n",
              "            await google.colab.kernel.invokeFunction('convertToInteractive',\n",
              "                                                     [key], {});\n",
              "          if (!dataTable) return;\n",
              "\n",
              "          const docLinkHtml = 'Like what you see? Visit the ' +\n",
              "            '<a target=\"_blank\" href=https://colab.research.google.com/notebooks/data_table.ipynb>data table notebook</a>'\n",
              "            + ' to learn more about interactive tables.';\n",
              "          element.innerHTML = '';\n",
              "          dataTable['output_type'] = 'display_data';\n",
              "          await google.colab.output.renderOutput(dataTable, element);\n",
              "          const docLink = document.createElement('div');\n",
              "          docLink.innerHTML = docLinkHtml;\n",
              "          element.appendChild(docLink);\n",
              "        }\n",
              "      </script>\n",
              "    </div>\n",
              "  </div>\n",
              "  "
            ]
          },
          "metadata": {},
          "execution_count": 41
        }
      ]
    },
    {
      "cell_type": "markdown",
      "source": [
        "#Encoding"
      ],
      "metadata": {
        "id": "msSZFCpQxLHi"
      }
    },
    {
      "cell_type": "code",
      "source": [
        "train_data=pd.get_dummies(train_data)"
      ],
      "metadata": {
        "id": "SzshMiHMsfeE"
      },
      "execution_count": null,
      "outputs": []
    },
    {
      "cell_type": "code",
      "source": [
        "train_data.columns"
      ],
      "metadata": {
        "colab": {
          "base_uri": "https://localhost:8080/"
        },
        "id": "s6KL0NYxsm_B",
        "outputId": "2eafeb25-6950-44ea-e1b5-04b1836ab660"
      },
      "execution_count": null,
      "outputs": [
        {
          "output_type": "execute_result",
          "data": {
            "text/plain": [
              "Index(['user_id', 'partner_id', 'money_transacted', 'partner_pricing_category',\n",
              "       'is_fraud', 'year', 'month', 'day', 'payment_method_e_wallet_payments',\n",
              "       'payment_method_other_debit_cards',\n",
              "       'payment_method_sbi_atm_cum_debit_card',\n",
              "       'payment_method_unified_payments_interface',\n",
              "       'payment_method_visa_master_credit_cards',\n",
              "       'payment_method_visa_master_debit_cards', 'partner_category_cat_1',\n",
              "       'partner_category_cat_2', 'partner_category_cat_3',\n",
              "       'partner_category_cat_4', 'partner_category_cat_5',\n",
              "       'partner_category_cat_6', 'partner_category_cat_7',\n",
              "       'partner_category_cat_8', 'partner_category_cat_9',\n",
              "       'device_type_android_devices', 'device_type_ios_devices',\n",
              "       'device_type_other_pcs', 'device_type_windows_pcs'],\n",
              "      dtype='object')"
            ]
          },
          "metadata": {},
          "execution_count": 71
        }
      ]
    },
    {
      "cell_type": "code",
      "source": [
        "train_data.shape"
      ],
      "metadata": {
        "colab": {
          "base_uri": "https://localhost:8080/"
        },
        "id": "8ZPx1SbM8K7C",
        "outputId": "fff0e694-5e34-4b69-deac-cdc42060cb67"
      },
      "execution_count": null,
      "outputs": [
        {
          "output_type": "execute_result",
          "data": {
            "text/plain": [
              "(76529, 27)"
            ]
          },
          "metadata": {},
          "execution_count": 72
        }
      ]
    },
    {
      "cell_type": "markdown",
      "source": [
        "# Spliting the data"
      ],
      "metadata": {
        "id": "2wJF4ysc8XlR"
      }
    },
    {
      "cell_type": "code",
      "source": [
        "from sklearn.model_selection import train_test_split\n",
        "y=train_data[\"is_fraud\"]\n",
        "x=train_data.drop(\"is_fraud\",axis=1)\n",
        "x_train,x_test,y_train,y_test=train_test_split(x,y,test_size=0.2,random_state=123)"
      ],
      "metadata": {
        "id": "h9Uh-dsX8xKJ"
      },
      "execution_count": null,
      "outputs": []
    },
    {
      "cell_type": "code",
      "source": [
        "print(x_train.shape)\n",
        "print(x_test.shape)\n",
        "print(y_train.shape)\n",
        "print(y_test.shape)"
      ],
      "metadata": {
        "colab": {
          "base_uri": "https://localhost:8080/"
        },
        "id": "n_W5qIM1-6Fm",
        "outputId": "43525f93-f035-406a-be6f-d6a2214ef71d"
      },
      "execution_count": null,
      "outputs": [
        {
          "output_type": "stream",
          "name": "stdout",
          "text": [
            "(61223, 26)\n",
            "(15306, 26)\n",
            "(61223,)\n",
            "(15306,)\n"
          ]
        }
      ]
    },
    {
      "cell_type": "markdown",
      "source": [
        "## Standardize the data"
      ],
      "metadata": {
        "id": "bQSl36CFAn3h"
      }
    },
    {
      "cell_type": "code",
      "source": [
        "num_art=x_train.select_dtypes(['int64','float64']).columns\n",
        "num_art_test=x_test.select_dtypes(['int64','float64']).columns\n",
        "print(num_art)\n",
        "print(num_art_test)"
      ],
      "metadata": {
        "colab": {
          "base_uri": "https://localhost:8080/"
        },
        "id": "xF7P4VS9BKHe",
        "outputId": "2004df03-9975-4008-fae4-6d6062bdf4b2"
      },
      "execution_count": null,
      "outputs": [
        {
          "output_type": "stream",
          "name": "stdout",
          "text": [
            "Index(['user_id', 'partner_id', 'money_transacted', 'partner_pricing_category',\n",
            "       'year', 'month', 'day'],\n",
            "      dtype='object')\n",
            "Index(['user_id', 'partner_id', 'money_transacted', 'partner_pricing_category',\n",
            "       'year', 'month', 'day'],\n",
            "      dtype='object')\n"
          ]
        }
      ]
    },
    {
      "cell_type": "code",
      "source": [
        "from sklearn.preprocessing import StandardScaler"
      ],
      "metadata": {
        "id": "NwBSVaCVAnkC"
      },
      "execution_count": null,
      "outputs": []
    },
    {
      "cell_type": "code",
      "source": [
        "scaler=StandardScaler()\n",
        "x_train[num_art]=scaler.fit_transform(x_train[num_art])\n",
        "x_test[num_art_test]=scaler.fit_transform(x_test[num_art])"
      ],
      "metadata": {
        "id": "TGNdTOAQBcy0"
      },
      "execution_count": null,
      "outputs": []
    },
    {
      "cell_type": "code",
      "source": [
        "print(x_train[num_art].shape)\n",
        "print(x_test[num_art_test].shape)"
      ],
      "metadata": {
        "colab": {
          "base_uri": "https://localhost:8080/"
        },
        "id": "zuhWXA8BB0s_",
        "outputId": "5030367a-a133-4fcd-f66d-83ebd7935f33"
      },
      "execution_count": null,
      "outputs": [
        {
          "output_type": "stream",
          "name": "stdout",
          "text": [
            "(61223, 7)\n",
            "(15306, 7)\n"
          ]
        }
      ]
    },
    {
      "cell_type": "code",
      "source": [
        "train_data=train_data.drop(\"partner_category_cat_9\",axis=1)"
      ],
      "metadata": {
        "id": "X5MRnvP4tjEI"
      },
      "execution_count": null,
      "outputs": []
    },
    {
      "cell_type": "markdown",
      "source": [
        "#Building models"
      ],
      "metadata": {
        "id": "jNNcJnPLDwuA"
      }
    },
    {
      "cell_type": "code",
      "source": [
        "from sklearn.neighbors import KNeighborsClassifier\n",
        "from sklearn.linear_model import LogisticRegression\n",
        "from sklearn.tree import DecisionTreeClassifier\n",
        "from sklearn.ensemble import RandomForestClassifier\n",
        "import xgboost as xgb\n",
        "from xgboost.sklearn import XGBClassifier"
      ],
      "metadata": {
        "id": "BKF4RbrnDwSJ"
      },
      "execution_count": null,
      "outputs": []
    },
    {
      "cell_type": "code",
      "source": [
        "import statistics as stat"
      ],
      "metadata": {
        "id": "zn5K2mx9M3pw"
      },
      "execution_count": null,
      "outputs": []
    },
    {
      "cell_type": "code",
      "source": [
        "model1=KNeighborsClassifier()\n",
        "model2=LogisticRegression()\n",
        "model3=DecisionTreeClassifier()\n",
        "model4=RandomForestClassifier()\n",
        "model5=XGBClassifier()"
      ],
      "metadata": {
        "id": "Oq6VqMA_Fx0F"
      },
      "execution_count": null,
      "outputs": []
    },
    {
      "cell_type": "code",
      "source": [
        "model1.fit(x_train,y_train)\n",
        "model2.fit(x_train,y_train)\n",
        "model3.fit(x_train,y_train)\n",
        "model4.fit(x_train,y_train)\n",
        "model5.fit(x_train,y_train)"
      ],
      "metadata": {
        "colab": {
          "base_uri": "https://localhost:8080/"
        },
        "id": "VR872YxSGkXk",
        "outputId": "694285bd-4697-4e8a-b0c5-166b808ea375"
      },
      "execution_count": null,
      "outputs": [
        {
          "output_type": "execute_result",
          "data": {
            "text/plain": [
              "XGBClassifier()"
            ]
          },
          "metadata": {},
          "execution_count": 83
        }
      ]
    },
    {
      "cell_type": "code",
      "source": [
        "train_prds1=model1.predict(x_train)\n",
        "train_prds2=model2.predict(x_train)\n",
        "train_prds3=model3.predict(x_train)\n",
        "train_prds4=model4.predict(x_train)\n",
        "train_prds5=model5.predict(x_train)"
      ],
      "metadata": {
        "id": "layedC7eGnDi"
      },
      "execution_count": null,
      "outputs": []
    },
    {
      "cell_type": "code",
      "source": [
        "test_prds1=model1.predict(x_test)\n",
        "test_prds2=model2.predict(x_test)\n",
        "test_prds3=model3.predict(x_test)\n",
        "test_prds4=model4.predict(x_test)\n",
        "test_prds5=model5.predict(x_test)"
      ],
      "metadata": {
        "id": "2ycy26XSGpIH"
      },
      "execution_count": null,
      "outputs": []
    },
    {
      "cell_type": "code",
      "source": [
        "from sklearn.ensemble import AdaBoostClassifier\n",
        "from sklearn.metrics import confusion_matrix\n",
        "from sklearn.metrics import f1_score"
      ],
      "metadata": {
        "id": "HiQNU-TBJX4i"
      },
      "execution_count": null,
      "outputs": []
    },
    {
      "cell_type": "code",
      "source": [
        "print('========Train=======')\n",
        "print(f\"Confusion Matrix of KNN \\n{confusion_matrix(y_train, train_prds1)}\")\n",
        "print('========Train=======')\n",
        "print(f\"Confusion Matrix of LR \\n{confusion_matrix(y_train, train_prds2)}\")\n",
        "print('========Train=======')\n",
        "print(f\"Confusion Matrix of DT \\n{confusion_matrix(y_train, train_prds3)}\")\n",
        "print('========Train=======')\n",
        "print(f\"Confusion Matrix of RFC \\n{confusion_matrix(y_train, train_prds4)}\")\n",
        "print('========Train=======')\n",
        "print(f\"Confusion Matrix of XGB \\n{confusion_matrix(y_train, train_prds5)}\")"
      ],
      "metadata": {
        "colab": {
          "base_uri": "https://localhost:8080/"
        },
        "id": "v102vibLNEaL",
        "outputId": "830bf30f-d6bc-42f7-924c-6dea76c618a7"
      },
      "execution_count": null,
      "outputs": [
        {
          "output_type": "stream",
          "name": "stdout",
          "text": [
            "========Train=======\n",
            "Confusion Matrix of KNN \n",
            "[[61103     3]\n",
            " [   25    92]]\n",
            "========Train=======\n",
            "Confusion Matrix of LR \n",
            "[[61087    19]\n",
            " [   77    40]]\n",
            "========Train=======\n",
            "Confusion Matrix of DT \n",
            "[[61106     0]\n",
            " [    3   114]]\n",
            "========Train=======\n",
            "Confusion Matrix of RFC \n",
            "[[61103     3]\n",
            " [    0   117]]\n",
            "========Train=======\n",
            "Confusion Matrix of XGB \n",
            "[[61104     2]\n",
            " [   15   102]]\n"
          ]
        }
      ]
    },
    {
      "cell_type": "code",
      "source": [
        "print('========Test=======')\n",
        "print(f\"Confusion Matrix of KNN \\n{confusion_matrix(y_test, test_prds1)}\")\n",
        "print('========Test=======')\n",
        "print(f\"Confusion Matrix of LR \\n{confusion_matrix(y_test, test_prds2)}\")\n",
        "print('========Test=======')\n",
        "print(f\"Confusion Matrix of DT \\n{confusion_matrix(y_test, test_prds3)}\")\n",
        "print('========Test=======')\n",
        "print(f\"Confusion Matrix of RFC \\n{confusion_matrix(y_test, test_prds4)}\")\n",
        "print('========Test=======')\n",
        "print(f\"Confusion Matrix of XGB \\n{confusion_matrix(y_test, test_prds5)}\")"
      ],
      "metadata": {
        "colab": {
          "base_uri": "https://localhost:8080/"
        },
        "id": "_V6g7yPYP8GH",
        "outputId": "c60148b0-1df5-4faf-e56f-ce5446d1d3b7"
      },
      "execution_count": null,
      "outputs": [
        {
          "output_type": "stream",
          "name": "stdout",
          "text": [
            "========Test=======\n",
            "Confusion Matrix of KNN \n",
            "[[15267     2]\n",
            " [    8    29]]\n",
            "========Test=======\n",
            "Confusion Matrix of LR \n",
            "[[15263     6]\n",
            " [   28     9]]\n",
            "========Test=======\n",
            "Confusion Matrix of DT \n",
            "[[15262     7]\n",
            " [    6    31]]\n",
            "========Test=======\n",
            "Confusion Matrix of RFC \n",
            "[[15265     4]\n",
            " [    9    28]]\n",
            "========Test=======\n",
            "Confusion Matrix of XGB \n",
            "[[15268     1]\n",
            " [    7    30]]\n"
          ]
        }
      ]
    },
    {
      "cell_type": "code",
      "source": [
        "print(\"train f1_score of KNeighborsClassifier :\",f1_score (y_train,train_prds1,))\n",
        "print(\"train f1_score of LogisticRegression :\", f1_score(y_train,train_prds2))\n",
        "print(\"train f1_score of DecisionTreeClassifier :\" ,f1_score(y_train,train_prds3))\n",
        "print(\"train f1_score of RandomForestClassifier :\" ,f1_score(y_train,train_prds4))\n",
        "print(\"train f1_score of XGBClassifier :\" ,f1_score(y_train,train_prds5))"
      ],
      "metadata": {
        "colab": {
          "base_uri": "https://localhost:8080/"
        },
        "id": "YNnr3N3_LQXK",
        "outputId": "8509bd2b-e7a2-48f9-f844-e7043d846e68"
      },
      "execution_count": null,
      "outputs": [
        {
          "output_type": "stream",
          "name": "stdout",
          "text": [
            "train f1_score of KNeighborsClassifier : 0.8679245283018867\n",
            "train f1_score of LogisticRegression : 0.4545454545454545\n",
            "train f1_score of DecisionTreeClassifier : 0.9870129870129869\n",
            "train f1_score of RandomForestClassifier : 0.9873417721518987\n",
            "train f1_score of XGBClassifier : 0.9230769230769229\n"
          ]
        }
      ]
    },
    {
      "cell_type": "code",
      "source": [
        "print(\"test f1_score of KNeighborsClassifier :\" ,f1_score(y_test,test_prds1))\n",
        "print(\"test f1_score of LogisticRegression :\" ,f1_score(y_test,test_prds2))\n",
        "print(\"test f1_score of DecisionTreeClassifier :\" ,f1_score(y_test,test_prds3))\n",
        "print(\"test f1_score of RandomForestClassifier :\" ,f1_score(y_test,test_prds4))\n",
        "print(\"train f1_score of XGBClassifier :\" ,f1_score(y_test,test_prds5))"
      ],
      "metadata": {
        "colab": {
          "base_uri": "https://localhost:8080/"
        },
        "id": "5M8zj7uwLtXu",
        "outputId": "4b8c1068-f0ab-422f-9ab5-c7529bb1d3cb"
      },
      "execution_count": null,
      "outputs": [
        {
          "output_type": "stream",
          "name": "stdout",
          "text": [
            "test f1_score of KNeighborsClassifier : 0.8529411764705881\n",
            "test f1_score of LogisticRegression : 0.34615384615384615\n",
            "test f1_score of DecisionTreeClassifier : 0.8266666666666665\n",
            "test f1_score of RandomForestClassifier : 0.8115942028985507\n",
            "train f1_score of XGBClassifier : 0.8823529411764706\n"
          ]
        }
      ]
    },
    {
      "cell_type": "markdown",
      "source": [
        "#Test Dataset\n"
      ],
      "metadata": {
        "id": "7Iajuf7suk3-"
      }
    },
    {
      "cell_type": "code",
      "source": [
        "test_data=pd.read_csv(\"/content/test_data-1611220982388.csv\")"
      ],
      "metadata": {
        "id": "kF4oYNbBunnr"
      },
      "execution_count": null,
      "outputs": []
    },
    {
      "cell_type": "code",
      "source": [
        "test_data.head()"
      ],
      "metadata": {
        "colab": {
          "base_uri": "https://localhost:8080/",
          "height": 357
        },
        "id": "Y5qyYwkBuxqs",
        "outputId": "bc8cbe6a-1a34-419f-ddaf-66199106e221"
      },
      "execution_count": null,
      "outputs": [
        {
          "output_type": "execute_result",
          "data": {
            "text/plain": [
              "   transaction_number   user_id            payment_method  partner_id  \\\n",
              "0     857050141038272   3802500   visa_master_debit_cards      118335   \n",
              "1       4400462872603    200704         e_wallet_payments       23667   \n",
              "2    1207915598569499  25150225    sbi_atm_cum_debit_card       47334   \n",
              "3    2009725616777536  21827584  visa_master_credit_cards       78890   \n",
              "4    2319205210274863    576081         e_wallet_payments       23667   \n",
              "\n",
              "  partner_category  country      device_type  money_transacted  \\\n",
              "0            cat_1  IND_INR        other_pcs             200.0   \n",
              "1            cat_2  IND_INR        other_pcs              20.0   \n",
              "2            cat_1  IND_INR  android_devices            -100.0   \n",
              "3            cat_2  IND_INR        other_pcs             200.0   \n",
              "4            cat_2  IND_INR        other_pcs             100.0   \n",
              "\n",
              "      transaction_initiation  partner_pricing_category  \n",
              "0  2016-12-28 14:44:37+00:00                         2  \n",
              "1  2016-12-14 17:49:48+00:00                         2  \n",
              "2  2017-01-21 10:18:11+00:00                         2  \n",
              "3  2017-01-16 13:25:10+00:00                         1  \n",
              "4  2017-02-09 12:47:28+00:00                         2  "
            ],
            "text/html": [
              "\n",
              "  <div id=\"df-0004b992-43d9-4289-b5f5-b4c866399a03\">\n",
              "    <div class=\"colab-df-container\">\n",
              "      <div>\n",
              "<style scoped>\n",
              "    .dataframe tbody tr th:only-of-type {\n",
              "        vertical-align: middle;\n",
              "    }\n",
              "\n",
              "    .dataframe tbody tr th {\n",
              "        vertical-align: top;\n",
              "    }\n",
              "\n",
              "    .dataframe thead th {\n",
              "        text-align: right;\n",
              "    }\n",
              "</style>\n",
              "<table border=\"1\" class=\"dataframe\">\n",
              "  <thead>\n",
              "    <tr style=\"text-align: right;\">\n",
              "      <th></th>\n",
              "      <th>transaction_number</th>\n",
              "      <th>user_id</th>\n",
              "      <th>payment_method</th>\n",
              "      <th>partner_id</th>\n",
              "      <th>partner_category</th>\n",
              "      <th>country</th>\n",
              "      <th>device_type</th>\n",
              "      <th>money_transacted</th>\n",
              "      <th>transaction_initiation</th>\n",
              "      <th>partner_pricing_category</th>\n",
              "    </tr>\n",
              "  </thead>\n",
              "  <tbody>\n",
              "    <tr>\n",
              "      <th>0</th>\n",
              "      <td>857050141038272</td>\n",
              "      <td>3802500</td>\n",
              "      <td>visa_master_debit_cards</td>\n",
              "      <td>118335</td>\n",
              "      <td>cat_1</td>\n",
              "      <td>IND_INR</td>\n",
              "      <td>other_pcs</td>\n",
              "      <td>200.0</td>\n",
              "      <td>2016-12-28 14:44:37+00:00</td>\n",
              "      <td>2</td>\n",
              "    </tr>\n",
              "    <tr>\n",
              "      <th>1</th>\n",
              "      <td>4400462872603</td>\n",
              "      <td>200704</td>\n",
              "      <td>e_wallet_payments</td>\n",
              "      <td>23667</td>\n",
              "      <td>cat_2</td>\n",
              "      <td>IND_INR</td>\n",
              "      <td>other_pcs</td>\n",
              "      <td>20.0</td>\n",
              "      <td>2016-12-14 17:49:48+00:00</td>\n",
              "      <td>2</td>\n",
              "    </tr>\n",
              "    <tr>\n",
              "      <th>2</th>\n",
              "      <td>1207915598569499</td>\n",
              "      <td>25150225</td>\n",
              "      <td>sbi_atm_cum_debit_card</td>\n",
              "      <td>47334</td>\n",
              "      <td>cat_1</td>\n",
              "      <td>IND_INR</td>\n",
              "      <td>android_devices</td>\n",
              "      <td>-100.0</td>\n",
              "      <td>2017-01-21 10:18:11+00:00</td>\n",
              "      <td>2</td>\n",
              "    </tr>\n",
              "    <tr>\n",
              "      <th>3</th>\n",
              "      <td>2009725616777536</td>\n",
              "      <td>21827584</td>\n",
              "      <td>visa_master_credit_cards</td>\n",
              "      <td>78890</td>\n",
              "      <td>cat_2</td>\n",
              "      <td>IND_INR</td>\n",
              "      <td>other_pcs</td>\n",
              "      <td>200.0</td>\n",
              "      <td>2017-01-16 13:25:10+00:00</td>\n",
              "      <td>1</td>\n",
              "    </tr>\n",
              "    <tr>\n",
              "      <th>4</th>\n",
              "      <td>2319205210274863</td>\n",
              "      <td>576081</td>\n",
              "      <td>e_wallet_payments</td>\n",
              "      <td>23667</td>\n",
              "      <td>cat_2</td>\n",
              "      <td>IND_INR</td>\n",
              "      <td>other_pcs</td>\n",
              "      <td>100.0</td>\n",
              "      <td>2017-02-09 12:47:28+00:00</td>\n",
              "      <td>2</td>\n",
              "    </tr>\n",
              "  </tbody>\n",
              "</table>\n",
              "</div>\n",
              "      <button class=\"colab-df-convert\" onclick=\"convertToInteractive('df-0004b992-43d9-4289-b5f5-b4c866399a03')\"\n",
              "              title=\"Convert this dataframe to an interactive table.\"\n",
              "              style=\"display:none;\">\n",
              "        \n",
              "  <svg xmlns=\"http://www.w3.org/2000/svg\" height=\"24px\"viewBox=\"0 0 24 24\"\n",
              "       width=\"24px\">\n",
              "    <path d=\"M0 0h24v24H0V0z\" fill=\"none\"/>\n",
              "    <path d=\"M18.56 5.44l.94 2.06.94-2.06 2.06-.94-2.06-.94-.94-2.06-.94 2.06-2.06.94zm-11 1L8.5 8.5l.94-2.06 2.06-.94-2.06-.94L8.5 2.5l-.94 2.06-2.06.94zm10 10l.94 2.06.94-2.06 2.06-.94-2.06-.94-.94-2.06-.94 2.06-2.06.94z\"/><path d=\"M17.41 7.96l-1.37-1.37c-.4-.4-.92-.59-1.43-.59-.52 0-1.04.2-1.43.59L10.3 9.45l-7.72 7.72c-.78.78-.78 2.05 0 2.83L4 21.41c.39.39.9.59 1.41.59.51 0 1.02-.2 1.41-.59l7.78-7.78 2.81-2.81c.8-.78.8-2.07 0-2.86zM5.41 20L4 18.59l7.72-7.72 1.47 1.35L5.41 20z\"/>\n",
              "  </svg>\n",
              "      </button>\n",
              "      \n",
              "  <style>\n",
              "    .colab-df-container {\n",
              "      display:flex;\n",
              "      flex-wrap:wrap;\n",
              "      gap: 12px;\n",
              "    }\n",
              "\n",
              "    .colab-df-convert {\n",
              "      background-color: #E8F0FE;\n",
              "      border: none;\n",
              "      border-radius: 50%;\n",
              "      cursor: pointer;\n",
              "      display: none;\n",
              "      fill: #1967D2;\n",
              "      height: 32px;\n",
              "      padding: 0 0 0 0;\n",
              "      width: 32px;\n",
              "    }\n",
              "\n",
              "    .colab-df-convert:hover {\n",
              "      background-color: #E2EBFA;\n",
              "      box-shadow: 0px 1px 2px rgba(60, 64, 67, 0.3), 0px 1px 3px 1px rgba(60, 64, 67, 0.15);\n",
              "      fill: #174EA6;\n",
              "    }\n",
              "\n",
              "    [theme=dark] .colab-df-convert {\n",
              "      background-color: #3B4455;\n",
              "      fill: #D2E3FC;\n",
              "    }\n",
              "\n",
              "    [theme=dark] .colab-df-convert:hover {\n",
              "      background-color: #434B5C;\n",
              "      box-shadow: 0px 1px 3px 1px rgba(0, 0, 0, 0.15);\n",
              "      filter: drop-shadow(0px 1px 2px rgba(0, 0, 0, 0.3));\n",
              "      fill: #FFFFFF;\n",
              "    }\n",
              "  </style>\n",
              "\n",
              "      <script>\n",
              "        const buttonEl =\n",
              "          document.querySelector('#df-0004b992-43d9-4289-b5f5-b4c866399a03 button.colab-df-convert');\n",
              "        buttonEl.style.display =\n",
              "          google.colab.kernel.accessAllowed ? 'block' : 'none';\n",
              "\n",
              "        async function convertToInteractive(key) {\n",
              "          const element = document.querySelector('#df-0004b992-43d9-4289-b5f5-b4c866399a03');\n",
              "          const dataTable =\n",
              "            await google.colab.kernel.invokeFunction('convertToInteractive',\n",
              "                                                     [key], {});\n",
              "          if (!dataTable) return;\n",
              "\n",
              "          const docLinkHtml = 'Like what you see? Visit the ' +\n",
              "            '<a target=\"_blank\" href=https://colab.research.google.com/notebooks/data_table.ipynb>data table notebook</a>'\n",
              "            + ' to learn more about interactive tables.';\n",
              "          element.innerHTML = '';\n",
              "          dataTable['output_type'] = 'display_data';\n",
              "          await google.colab.output.renderOutput(dataTable, element);\n",
              "          const docLink = document.createElement('div');\n",
              "          docLink.innerHTML = docLinkHtml;\n",
              "          element.appendChild(docLink);\n",
              "        }\n",
              "      </script>\n",
              "    </div>\n",
              "  </div>\n",
              "  "
            ]
          },
          "metadata": {},
          "execution_count": 92
        }
      ]
    },
    {
      "cell_type": "code",
      "source": [
        "test_data.columns"
      ],
      "metadata": {
        "colab": {
          "base_uri": "https://localhost:8080/"
        },
        "id": "EtC7DN-wu0Ur",
        "outputId": "c96b3812-60c5-4edc-a9c9-72b2988a6350"
      },
      "execution_count": null,
      "outputs": [
        {
          "output_type": "execute_result",
          "data": {
            "text/plain": [
              "Index(['transaction_number', 'user_id', 'payment_method', 'partner_id',\n",
              "       'partner_category', 'country', 'device_type', 'money_transacted',\n",
              "       'transaction_initiation', 'partner_pricing_category'],\n",
              "      dtype='object')"
            ]
          },
          "metadata": {},
          "execution_count": 93
        }
      ]
    },
    {
      "cell_type": "code",
      "source": [
        "test_data.dtypes"
      ],
      "metadata": {
        "colab": {
          "base_uri": "https://localhost:8080/"
        },
        "id": "3_QmPKDiu5m0",
        "outputId": "07e5ec2e-9031-427e-aed6-9db624d75553"
      },
      "execution_count": null,
      "outputs": [
        {
          "output_type": "execute_result",
          "data": {
            "text/plain": [
              "transaction_number            int64\n",
              "user_id                       int64\n",
              "payment_method               object\n",
              "partner_id                    int64\n",
              "partner_category             object\n",
              "country                      object\n",
              "device_type                  object\n",
              "money_transacted            float64\n",
              "transaction_initiation       object\n",
              "partner_pricing_category      int64\n",
              "dtype: object"
            ]
          },
          "metadata": {},
          "execution_count": 94
        }
      ]
    },
    {
      "cell_type": "code",
      "source": [
        "test_data.describe()"
      ],
      "metadata": {
        "colab": {
          "base_uri": "https://localhost:8080/",
          "height": 300
        },
        "id": "Uhr9N6dWu9_v",
        "outputId": "7814e196-64ea-4178-d0d5-3b6c83c610cc"
      },
      "execution_count": null,
      "outputs": [
        {
          "output_type": "execute_result",
          "data": {
            "text/plain": [
              "       transaction_number       user_id     partner_id  money_transacted  \\\n",
              "count        1.913300e+04  1.913300e+04   19133.000000      19133.000000   \n",
              "mean         7.037622e+14  1.261609e+07   58656.424084        140.886995   \n",
              "std          7.946458e+14  1.228365e+07   36692.507399       2883.975048   \n",
              "min          1.000000e+00  3.600000e+01    7889.000000     -20000.000000   \n",
              "25%          4.313645e+13  3.515625e+06   23667.000000         -1.000000   \n",
              "50%          3.585617e+14  9.922500e+06   47334.000000         20.000000   \n",
              "75%          1.184018e+15  1.796064e+07   78890.000000         60.000000   \n",
              "max          2.783822e+15  5.593544e+07  213003.000000     197600.000000   \n",
              "\n",
              "       partner_pricing_category  \n",
              "count              19133.000000  \n",
              "mean                   2.257043  \n",
              "std                    0.735934  \n",
              "min                    0.000000  \n",
              "25%                    2.000000  \n",
              "50%                    2.000000  \n",
              "75%                    2.000000  \n",
              "max                    4.000000  "
            ],
            "text/html": [
              "\n",
              "  <div id=\"df-03013678-8abb-4e1e-9481-9bc6f7f1ff0b\">\n",
              "    <div class=\"colab-df-container\">\n",
              "      <div>\n",
              "<style scoped>\n",
              "    .dataframe tbody tr th:only-of-type {\n",
              "        vertical-align: middle;\n",
              "    }\n",
              "\n",
              "    .dataframe tbody tr th {\n",
              "        vertical-align: top;\n",
              "    }\n",
              "\n",
              "    .dataframe thead th {\n",
              "        text-align: right;\n",
              "    }\n",
              "</style>\n",
              "<table border=\"1\" class=\"dataframe\">\n",
              "  <thead>\n",
              "    <tr style=\"text-align: right;\">\n",
              "      <th></th>\n",
              "      <th>transaction_number</th>\n",
              "      <th>user_id</th>\n",
              "      <th>partner_id</th>\n",
              "      <th>money_transacted</th>\n",
              "      <th>partner_pricing_category</th>\n",
              "    </tr>\n",
              "  </thead>\n",
              "  <tbody>\n",
              "    <tr>\n",
              "      <th>count</th>\n",
              "      <td>1.913300e+04</td>\n",
              "      <td>1.913300e+04</td>\n",
              "      <td>19133.000000</td>\n",
              "      <td>19133.000000</td>\n",
              "      <td>19133.000000</td>\n",
              "    </tr>\n",
              "    <tr>\n",
              "      <th>mean</th>\n",
              "      <td>7.037622e+14</td>\n",
              "      <td>1.261609e+07</td>\n",
              "      <td>58656.424084</td>\n",
              "      <td>140.886995</td>\n",
              "      <td>2.257043</td>\n",
              "    </tr>\n",
              "    <tr>\n",
              "      <th>std</th>\n",
              "      <td>7.946458e+14</td>\n",
              "      <td>1.228365e+07</td>\n",
              "      <td>36692.507399</td>\n",
              "      <td>2883.975048</td>\n",
              "      <td>0.735934</td>\n",
              "    </tr>\n",
              "    <tr>\n",
              "      <th>min</th>\n",
              "      <td>1.000000e+00</td>\n",
              "      <td>3.600000e+01</td>\n",
              "      <td>7889.000000</td>\n",
              "      <td>-20000.000000</td>\n",
              "      <td>0.000000</td>\n",
              "    </tr>\n",
              "    <tr>\n",
              "      <th>25%</th>\n",
              "      <td>4.313645e+13</td>\n",
              "      <td>3.515625e+06</td>\n",
              "      <td>23667.000000</td>\n",
              "      <td>-1.000000</td>\n",
              "      <td>2.000000</td>\n",
              "    </tr>\n",
              "    <tr>\n",
              "      <th>50%</th>\n",
              "      <td>3.585617e+14</td>\n",
              "      <td>9.922500e+06</td>\n",
              "      <td>47334.000000</td>\n",
              "      <td>20.000000</td>\n",
              "      <td>2.000000</td>\n",
              "    </tr>\n",
              "    <tr>\n",
              "      <th>75%</th>\n",
              "      <td>1.184018e+15</td>\n",
              "      <td>1.796064e+07</td>\n",
              "      <td>78890.000000</td>\n",
              "      <td>60.000000</td>\n",
              "      <td>2.000000</td>\n",
              "    </tr>\n",
              "    <tr>\n",
              "      <th>max</th>\n",
              "      <td>2.783822e+15</td>\n",
              "      <td>5.593544e+07</td>\n",
              "      <td>213003.000000</td>\n",
              "      <td>197600.000000</td>\n",
              "      <td>4.000000</td>\n",
              "    </tr>\n",
              "  </tbody>\n",
              "</table>\n",
              "</div>\n",
              "      <button class=\"colab-df-convert\" onclick=\"convertToInteractive('df-03013678-8abb-4e1e-9481-9bc6f7f1ff0b')\"\n",
              "              title=\"Convert this dataframe to an interactive table.\"\n",
              "              style=\"display:none;\">\n",
              "        \n",
              "  <svg xmlns=\"http://www.w3.org/2000/svg\" height=\"24px\"viewBox=\"0 0 24 24\"\n",
              "       width=\"24px\">\n",
              "    <path d=\"M0 0h24v24H0V0z\" fill=\"none\"/>\n",
              "    <path d=\"M18.56 5.44l.94 2.06.94-2.06 2.06-.94-2.06-.94-.94-2.06-.94 2.06-2.06.94zm-11 1L8.5 8.5l.94-2.06 2.06-.94-2.06-.94L8.5 2.5l-.94 2.06-2.06.94zm10 10l.94 2.06.94-2.06 2.06-.94-2.06-.94-.94-2.06-.94 2.06-2.06.94z\"/><path d=\"M17.41 7.96l-1.37-1.37c-.4-.4-.92-.59-1.43-.59-.52 0-1.04.2-1.43.59L10.3 9.45l-7.72 7.72c-.78.78-.78 2.05 0 2.83L4 21.41c.39.39.9.59 1.41.59.51 0 1.02-.2 1.41-.59l7.78-7.78 2.81-2.81c.8-.78.8-2.07 0-2.86zM5.41 20L4 18.59l7.72-7.72 1.47 1.35L5.41 20z\"/>\n",
              "  </svg>\n",
              "      </button>\n",
              "      \n",
              "  <style>\n",
              "    .colab-df-container {\n",
              "      display:flex;\n",
              "      flex-wrap:wrap;\n",
              "      gap: 12px;\n",
              "    }\n",
              "\n",
              "    .colab-df-convert {\n",
              "      background-color: #E8F0FE;\n",
              "      border: none;\n",
              "      border-radius: 50%;\n",
              "      cursor: pointer;\n",
              "      display: none;\n",
              "      fill: #1967D2;\n",
              "      height: 32px;\n",
              "      padding: 0 0 0 0;\n",
              "      width: 32px;\n",
              "    }\n",
              "\n",
              "    .colab-df-convert:hover {\n",
              "      background-color: #E2EBFA;\n",
              "      box-shadow: 0px 1px 2px rgba(60, 64, 67, 0.3), 0px 1px 3px 1px rgba(60, 64, 67, 0.15);\n",
              "      fill: #174EA6;\n",
              "    }\n",
              "\n",
              "    [theme=dark] .colab-df-convert {\n",
              "      background-color: #3B4455;\n",
              "      fill: #D2E3FC;\n",
              "    }\n",
              "\n",
              "    [theme=dark] .colab-df-convert:hover {\n",
              "      background-color: #434B5C;\n",
              "      box-shadow: 0px 1px 3px 1px rgba(0, 0, 0, 0.15);\n",
              "      filter: drop-shadow(0px 1px 2px rgba(0, 0, 0, 0.3));\n",
              "      fill: #FFFFFF;\n",
              "    }\n",
              "  </style>\n",
              "\n",
              "      <script>\n",
              "        const buttonEl =\n",
              "          document.querySelector('#df-03013678-8abb-4e1e-9481-9bc6f7f1ff0b button.colab-df-convert');\n",
              "        buttonEl.style.display =\n",
              "          google.colab.kernel.accessAllowed ? 'block' : 'none';\n",
              "\n",
              "        async function convertToInteractive(key) {\n",
              "          const element = document.querySelector('#df-03013678-8abb-4e1e-9481-9bc6f7f1ff0b');\n",
              "          const dataTable =\n",
              "            await google.colab.kernel.invokeFunction('convertToInteractive',\n",
              "                                                     [key], {});\n",
              "          if (!dataTable) return;\n",
              "\n",
              "          const docLinkHtml = 'Like what you see? Visit the ' +\n",
              "            '<a target=\"_blank\" href=https://colab.research.google.com/notebooks/data_table.ipynb>data table notebook</a>'\n",
              "            + ' to learn more about interactive tables.';\n",
              "          element.innerHTML = '';\n",
              "          dataTable['output_type'] = 'display_data';\n",
              "          await google.colab.output.renderOutput(dataTable, element);\n",
              "          const docLink = document.createElement('div');\n",
              "          docLink.innerHTML = docLinkHtml;\n",
              "          element.appendChild(docLink);\n",
              "        }\n",
              "      </script>\n",
              "    </div>\n",
              "  </div>\n",
              "  "
            ]
          },
          "metadata": {},
          "execution_count": 95
        }
      ]
    },
    {
      "cell_type": "code",
      "source": [
        "test_data.isnull().sum()"
      ],
      "metadata": {
        "colab": {
          "base_uri": "https://localhost:8080/"
        },
        "id": "vFyIJgNGvRuh",
        "outputId": "32a4869a-4b7f-4e49-e7bf-956362866038"
      },
      "execution_count": null,
      "outputs": [
        {
          "output_type": "execute_result",
          "data": {
            "text/plain": [
              "transaction_number          0\n",
              "user_id                     0\n",
              "payment_method              0\n",
              "partner_id                  0\n",
              "partner_category            0\n",
              "country                     0\n",
              "device_type                 0\n",
              "money_transacted            0\n",
              "transaction_initiation      0\n",
              "partner_pricing_category    0\n",
              "dtype: int64"
            ]
          },
          "metadata": {},
          "execution_count": 96
        }
      ]
    },
    {
      "cell_type": "markdown",
      "source": [
        "#Feature engineering"
      ],
      "metadata": {
        "id": "F7URqJClVMXy"
      }
    },
    {
      "cell_type": "code",
      "source": [
        "test_data['transaction_initiation'] = pd.to_datetime(test_data['transaction_initiation'])\n",
        "test_data['transaction_initiation'].dtypes"
      ],
      "metadata": {
        "colab": {
          "base_uri": "https://localhost:8080/"
        },
        "id": "EHscRuYcSVrc",
        "outputId": "972055a6-ca08-4070-b1e9-7f8654652225"
      },
      "execution_count": null,
      "outputs": [
        {
          "output_type": "execute_result",
          "data": {
            "text/plain": [
              "datetime64[ns, UTC]"
            ]
          },
          "metadata": {},
          "execution_count": 97
        }
      ]
    },
    {
      "cell_type": "code",
      "source": [
        "test_data['year'] = test_data['transaction_initiation'].dt.year\n",
        "test_data['month'] = test_data['transaction_initiation'].dt.month\n",
        "test_data['day'] = test_data['transaction_initiation'].dt.day\n",
        "test_data['time'] = test_data['transaction_initiation'].dt.time\n",
        "test_data.drop(columns='transaction_initiation', axis='1', inplace=True)"
      ],
      "metadata": {
        "id": "KRxZ6rs8VK1D"
      },
      "execution_count": null,
      "outputs": []
    },
    {
      "cell_type": "code",
      "source": [
        "test_data.head()"
      ],
      "metadata": {
        "colab": {
          "base_uri": "https://localhost:8080/",
          "height": 270
        },
        "id": "_N2DzwPzVXS7",
        "outputId": "48b39c13-4c77-4bc7-e771-22390d60a619"
      },
      "execution_count": null,
      "outputs": [
        {
          "output_type": "execute_result",
          "data": {
            "text/plain": [
              "   transaction_number   user_id            payment_method  partner_id  \\\n",
              "0     857050141038272   3802500   visa_master_debit_cards      118335   \n",
              "1       4400462872603    200704         e_wallet_payments       23667   \n",
              "2    1207915598569499  25150225    sbi_atm_cum_debit_card       47334   \n",
              "3    2009725616777536  21827584  visa_master_credit_cards       78890   \n",
              "4    2319205210274863    576081         e_wallet_payments       23667   \n",
              "\n",
              "  partner_category  country      device_type  money_transacted  \\\n",
              "0            cat_1  IND_INR        other_pcs             200.0   \n",
              "1            cat_2  IND_INR        other_pcs              20.0   \n",
              "2            cat_1  IND_INR  android_devices            -100.0   \n",
              "3            cat_2  IND_INR        other_pcs             200.0   \n",
              "4            cat_2  IND_INR        other_pcs             100.0   \n",
              "\n",
              "   partner_pricing_category  year  month  day      time  \n",
              "0                         2  2016     12   28  14:44:37  \n",
              "1                         2  2016     12   14  17:49:48  \n",
              "2                         2  2017      1   21  10:18:11  \n",
              "3                         1  2017      1   16  13:25:10  \n",
              "4                         2  2017      2    9  12:47:28  "
            ],
            "text/html": [
              "\n",
              "  <div id=\"df-5b52f842-3363-44d5-9504-fc3c9eb10a6f\">\n",
              "    <div class=\"colab-df-container\">\n",
              "      <div>\n",
              "<style scoped>\n",
              "    .dataframe tbody tr th:only-of-type {\n",
              "        vertical-align: middle;\n",
              "    }\n",
              "\n",
              "    .dataframe tbody tr th {\n",
              "        vertical-align: top;\n",
              "    }\n",
              "\n",
              "    .dataframe thead th {\n",
              "        text-align: right;\n",
              "    }\n",
              "</style>\n",
              "<table border=\"1\" class=\"dataframe\">\n",
              "  <thead>\n",
              "    <tr style=\"text-align: right;\">\n",
              "      <th></th>\n",
              "      <th>transaction_number</th>\n",
              "      <th>user_id</th>\n",
              "      <th>payment_method</th>\n",
              "      <th>partner_id</th>\n",
              "      <th>partner_category</th>\n",
              "      <th>country</th>\n",
              "      <th>device_type</th>\n",
              "      <th>money_transacted</th>\n",
              "      <th>partner_pricing_category</th>\n",
              "      <th>year</th>\n",
              "      <th>month</th>\n",
              "      <th>day</th>\n",
              "      <th>time</th>\n",
              "    </tr>\n",
              "  </thead>\n",
              "  <tbody>\n",
              "    <tr>\n",
              "      <th>0</th>\n",
              "      <td>857050141038272</td>\n",
              "      <td>3802500</td>\n",
              "      <td>visa_master_debit_cards</td>\n",
              "      <td>118335</td>\n",
              "      <td>cat_1</td>\n",
              "      <td>IND_INR</td>\n",
              "      <td>other_pcs</td>\n",
              "      <td>200.0</td>\n",
              "      <td>2</td>\n",
              "      <td>2016</td>\n",
              "      <td>12</td>\n",
              "      <td>28</td>\n",
              "      <td>14:44:37</td>\n",
              "    </tr>\n",
              "    <tr>\n",
              "      <th>1</th>\n",
              "      <td>4400462872603</td>\n",
              "      <td>200704</td>\n",
              "      <td>e_wallet_payments</td>\n",
              "      <td>23667</td>\n",
              "      <td>cat_2</td>\n",
              "      <td>IND_INR</td>\n",
              "      <td>other_pcs</td>\n",
              "      <td>20.0</td>\n",
              "      <td>2</td>\n",
              "      <td>2016</td>\n",
              "      <td>12</td>\n",
              "      <td>14</td>\n",
              "      <td>17:49:48</td>\n",
              "    </tr>\n",
              "    <tr>\n",
              "      <th>2</th>\n",
              "      <td>1207915598569499</td>\n",
              "      <td>25150225</td>\n",
              "      <td>sbi_atm_cum_debit_card</td>\n",
              "      <td>47334</td>\n",
              "      <td>cat_1</td>\n",
              "      <td>IND_INR</td>\n",
              "      <td>android_devices</td>\n",
              "      <td>-100.0</td>\n",
              "      <td>2</td>\n",
              "      <td>2017</td>\n",
              "      <td>1</td>\n",
              "      <td>21</td>\n",
              "      <td>10:18:11</td>\n",
              "    </tr>\n",
              "    <tr>\n",
              "      <th>3</th>\n",
              "      <td>2009725616777536</td>\n",
              "      <td>21827584</td>\n",
              "      <td>visa_master_credit_cards</td>\n",
              "      <td>78890</td>\n",
              "      <td>cat_2</td>\n",
              "      <td>IND_INR</td>\n",
              "      <td>other_pcs</td>\n",
              "      <td>200.0</td>\n",
              "      <td>1</td>\n",
              "      <td>2017</td>\n",
              "      <td>1</td>\n",
              "      <td>16</td>\n",
              "      <td>13:25:10</td>\n",
              "    </tr>\n",
              "    <tr>\n",
              "      <th>4</th>\n",
              "      <td>2319205210274863</td>\n",
              "      <td>576081</td>\n",
              "      <td>e_wallet_payments</td>\n",
              "      <td>23667</td>\n",
              "      <td>cat_2</td>\n",
              "      <td>IND_INR</td>\n",
              "      <td>other_pcs</td>\n",
              "      <td>100.0</td>\n",
              "      <td>2</td>\n",
              "      <td>2017</td>\n",
              "      <td>2</td>\n",
              "      <td>9</td>\n",
              "      <td>12:47:28</td>\n",
              "    </tr>\n",
              "  </tbody>\n",
              "</table>\n",
              "</div>\n",
              "      <button class=\"colab-df-convert\" onclick=\"convertToInteractive('df-5b52f842-3363-44d5-9504-fc3c9eb10a6f')\"\n",
              "              title=\"Convert this dataframe to an interactive table.\"\n",
              "              style=\"display:none;\">\n",
              "        \n",
              "  <svg xmlns=\"http://www.w3.org/2000/svg\" height=\"24px\"viewBox=\"0 0 24 24\"\n",
              "       width=\"24px\">\n",
              "    <path d=\"M0 0h24v24H0V0z\" fill=\"none\"/>\n",
              "    <path d=\"M18.56 5.44l.94 2.06.94-2.06 2.06-.94-2.06-.94-.94-2.06-.94 2.06-2.06.94zm-11 1L8.5 8.5l.94-2.06 2.06-.94-2.06-.94L8.5 2.5l-.94 2.06-2.06.94zm10 10l.94 2.06.94-2.06 2.06-.94-2.06-.94-.94-2.06-.94 2.06-2.06.94z\"/><path d=\"M17.41 7.96l-1.37-1.37c-.4-.4-.92-.59-1.43-.59-.52 0-1.04.2-1.43.59L10.3 9.45l-7.72 7.72c-.78.78-.78 2.05 0 2.83L4 21.41c.39.39.9.59 1.41.59.51 0 1.02-.2 1.41-.59l7.78-7.78 2.81-2.81c.8-.78.8-2.07 0-2.86zM5.41 20L4 18.59l7.72-7.72 1.47 1.35L5.41 20z\"/>\n",
              "  </svg>\n",
              "      </button>\n",
              "      \n",
              "  <style>\n",
              "    .colab-df-container {\n",
              "      display:flex;\n",
              "      flex-wrap:wrap;\n",
              "      gap: 12px;\n",
              "    }\n",
              "\n",
              "    .colab-df-convert {\n",
              "      background-color: #E8F0FE;\n",
              "      border: none;\n",
              "      border-radius: 50%;\n",
              "      cursor: pointer;\n",
              "      display: none;\n",
              "      fill: #1967D2;\n",
              "      height: 32px;\n",
              "      padding: 0 0 0 0;\n",
              "      width: 32px;\n",
              "    }\n",
              "\n",
              "    .colab-df-convert:hover {\n",
              "      background-color: #E2EBFA;\n",
              "      box-shadow: 0px 1px 2px rgba(60, 64, 67, 0.3), 0px 1px 3px 1px rgba(60, 64, 67, 0.15);\n",
              "      fill: #174EA6;\n",
              "    }\n",
              "\n",
              "    [theme=dark] .colab-df-convert {\n",
              "      background-color: #3B4455;\n",
              "      fill: #D2E3FC;\n",
              "    }\n",
              "\n",
              "    [theme=dark] .colab-df-convert:hover {\n",
              "      background-color: #434B5C;\n",
              "      box-shadow: 0px 1px 3px 1px rgba(0, 0, 0, 0.15);\n",
              "      filter: drop-shadow(0px 1px 2px rgba(0, 0, 0, 0.3));\n",
              "      fill: #FFFFFF;\n",
              "    }\n",
              "  </style>\n",
              "\n",
              "      <script>\n",
              "        const buttonEl =\n",
              "          document.querySelector('#df-5b52f842-3363-44d5-9504-fc3c9eb10a6f button.colab-df-convert');\n",
              "        buttonEl.style.display =\n",
              "          google.colab.kernel.accessAllowed ? 'block' : 'none';\n",
              "\n",
              "        async function convertToInteractive(key) {\n",
              "          const element = document.querySelector('#df-5b52f842-3363-44d5-9504-fc3c9eb10a6f');\n",
              "          const dataTable =\n",
              "            await google.colab.kernel.invokeFunction('convertToInteractive',\n",
              "                                                     [key], {});\n",
              "          if (!dataTable) return;\n",
              "\n",
              "          const docLinkHtml = 'Like what you see? Visit the ' +\n",
              "            '<a target=\"_blank\" href=https://colab.research.google.com/notebooks/data_table.ipynb>data table notebook</a>'\n",
              "            + ' to learn more about interactive tables.';\n",
              "          element.innerHTML = '';\n",
              "          dataTable['output_type'] = 'display_data';\n",
              "          await google.colab.output.renderOutput(dataTable, element);\n",
              "          const docLink = document.createElement('div');\n",
              "          docLink.innerHTML = docLinkHtml;\n",
              "          element.appendChild(docLink);\n",
              "        }\n",
              "      </script>\n",
              "    </div>\n",
              "  </div>\n",
              "  "
            ]
          },
          "metadata": {},
          "execution_count": 99
        }
      ]
    },
    {
      "cell_type": "code",
      "source": [
        "test_data=test_data.drop(\"time\",axis=1)\n",
        "test_data.head()"
      ],
      "metadata": {
        "colab": {
          "base_uri": "https://localhost:8080/",
          "height": 270
        },
        "id": "r0T8DZHWVwE3",
        "outputId": "d8212bd0-4662-460a-a0c3-8b9321c3b73c"
      },
      "execution_count": null,
      "outputs": [
        {
          "output_type": "execute_result",
          "data": {
            "text/plain": [
              "   transaction_number   user_id            payment_method  partner_id  \\\n",
              "0     857050141038272   3802500   visa_master_debit_cards      118335   \n",
              "1       4400462872603    200704         e_wallet_payments       23667   \n",
              "2    1207915598569499  25150225    sbi_atm_cum_debit_card       47334   \n",
              "3    2009725616777536  21827584  visa_master_credit_cards       78890   \n",
              "4    2319205210274863    576081         e_wallet_payments       23667   \n",
              "\n",
              "  partner_category  country      device_type  money_transacted  \\\n",
              "0            cat_1  IND_INR        other_pcs             200.0   \n",
              "1            cat_2  IND_INR        other_pcs              20.0   \n",
              "2            cat_1  IND_INR  android_devices            -100.0   \n",
              "3            cat_2  IND_INR        other_pcs             200.0   \n",
              "4            cat_2  IND_INR        other_pcs             100.0   \n",
              "\n",
              "   partner_pricing_category  year  month  day  \n",
              "0                         2  2016     12   28  \n",
              "1                         2  2016     12   14  \n",
              "2                         2  2017      1   21  \n",
              "3                         1  2017      1   16  \n",
              "4                         2  2017      2    9  "
            ],
            "text/html": [
              "\n",
              "  <div id=\"df-c3086771-9a86-4609-ba78-278853473154\">\n",
              "    <div class=\"colab-df-container\">\n",
              "      <div>\n",
              "<style scoped>\n",
              "    .dataframe tbody tr th:only-of-type {\n",
              "        vertical-align: middle;\n",
              "    }\n",
              "\n",
              "    .dataframe tbody tr th {\n",
              "        vertical-align: top;\n",
              "    }\n",
              "\n",
              "    .dataframe thead th {\n",
              "        text-align: right;\n",
              "    }\n",
              "</style>\n",
              "<table border=\"1\" class=\"dataframe\">\n",
              "  <thead>\n",
              "    <tr style=\"text-align: right;\">\n",
              "      <th></th>\n",
              "      <th>transaction_number</th>\n",
              "      <th>user_id</th>\n",
              "      <th>payment_method</th>\n",
              "      <th>partner_id</th>\n",
              "      <th>partner_category</th>\n",
              "      <th>country</th>\n",
              "      <th>device_type</th>\n",
              "      <th>money_transacted</th>\n",
              "      <th>partner_pricing_category</th>\n",
              "      <th>year</th>\n",
              "      <th>month</th>\n",
              "      <th>day</th>\n",
              "    </tr>\n",
              "  </thead>\n",
              "  <tbody>\n",
              "    <tr>\n",
              "      <th>0</th>\n",
              "      <td>857050141038272</td>\n",
              "      <td>3802500</td>\n",
              "      <td>visa_master_debit_cards</td>\n",
              "      <td>118335</td>\n",
              "      <td>cat_1</td>\n",
              "      <td>IND_INR</td>\n",
              "      <td>other_pcs</td>\n",
              "      <td>200.0</td>\n",
              "      <td>2</td>\n",
              "      <td>2016</td>\n",
              "      <td>12</td>\n",
              "      <td>28</td>\n",
              "    </tr>\n",
              "    <tr>\n",
              "      <th>1</th>\n",
              "      <td>4400462872603</td>\n",
              "      <td>200704</td>\n",
              "      <td>e_wallet_payments</td>\n",
              "      <td>23667</td>\n",
              "      <td>cat_2</td>\n",
              "      <td>IND_INR</td>\n",
              "      <td>other_pcs</td>\n",
              "      <td>20.0</td>\n",
              "      <td>2</td>\n",
              "      <td>2016</td>\n",
              "      <td>12</td>\n",
              "      <td>14</td>\n",
              "    </tr>\n",
              "    <tr>\n",
              "      <th>2</th>\n",
              "      <td>1207915598569499</td>\n",
              "      <td>25150225</td>\n",
              "      <td>sbi_atm_cum_debit_card</td>\n",
              "      <td>47334</td>\n",
              "      <td>cat_1</td>\n",
              "      <td>IND_INR</td>\n",
              "      <td>android_devices</td>\n",
              "      <td>-100.0</td>\n",
              "      <td>2</td>\n",
              "      <td>2017</td>\n",
              "      <td>1</td>\n",
              "      <td>21</td>\n",
              "    </tr>\n",
              "    <tr>\n",
              "      <th>3</th>\n",
              "      <td>2009725616777536</td>\n",
              "      <td>21827584</td>\n",
              "      <td>visa_master_credit_cards</td>\n",
              "      <td>78890</td>\n",
              "      <td>cat_2</td>\n",
              "      <td>IND_INR</td>\n",
              "      <td>other_pcs</td>\n",
              "      <td>200.0</td>\n",
              "      <td>1</td>\n",
              "      <td>2017</td>\n",
              "      <td>1</td>\n",
              "      <td>16</td>\n",
              "    </tr>\n",
              "    <tr>\n",
              "      <th>4</th>\n",
              "      <td>2319205210274863</td>\n",
              "      <td>576081</td>\n",
              "      <td>e_wallet_payments</td>\n",
              "      <td>23667</td>\n",
              "      <td>cat_2</td>\n",
              "      <td>IND_INR</td>\n",
              "      <td>other_pcs</td>\n",
              "      <td>100.0</td>\n",
              "      <td>2</td>\n",
              "      <td>2017</td>\n",
              "      <td>2</td>\n",
              "      <td>9</td>\n",
              "    </tr>\n",
              "  </tbody>\n",
              "</table>\n",
              "</div>\n",
              "      <button class=\"colab-df-convert\" onclick=\"convertToInteractive('df-c3086771-9a86-4609-ba78-278853473154')\"\n",
              "              title=\"Convert this dataframe to an interactive table.\"\n",
              "              style=\"display:none;\">\n",
              "        \n",
              "  <svg xmlns=\"http://www.w3.org/2000/svg\" height=\"24px\"viewBox=\"0 0 24 24\"\n",
              "       width=\"24px\">\n",
              "    <path d=\"M0 0h24v24H0V0z\" fill=\"none\"/>\n",
              "    <path d=\"M18.56 5.44l.94 2.06.94-2.06 2.06-.94-2.06-.94-.94-2.06-.94 2.06-2.06.94zm-11 1L8.5 8.5l.94-2.06 2.06-.94-2.06-.94L8.5 2.5l-.94 2.06-2.06.94zm10 10l.94 2.06.94-2.06 2.06-.94-2.06-.94-.94-2.06-.94 2.06-2.06.94z\"/><path d=\"M17.41 7.96l-1.37-1.37c-.4-.4-.92-.59-1.43-.59-.52 0-1.04.2-1.43.59L10.3 9.45l-7.72 7.72c-.78.78-.78 2.05 0 2.83L4 21.41c.39.39.9.59 1.41.59.51 0 1.02-.2 1.41-.59l7.78-7.78 2.81-2.81c.8-.78.8-2.07 0-2.86zM5.41 20L4 18.59l7.72-7.72 1.47 1.35L5.41 20z\"/>\n",
              "  </svg>\n",
              "      </button>\n",
              "      \n",
              "  <style>\n",
              "    .colab-df-container {\n",
              "      display:flex;\n",
              "      flex-wrap:wrap;\n",
              "      gap: 12px;\n",
              "    }\n",
              "\n",
              "    .colab-df-convert {\n",
              "      background-color: #E8F0FE;\n",
              "      border: none;\n",
              "      border-radius: 50%;\n",
              "      cursor: pointer;\n",
              "      display: none;\n",
              "      fill: #1967D2;\n",
              "      height: 32px;\n",
              "      padding: 0 0 0 0;\n",
              "      width: 32px;\n",
              "    }\n",
              "\n",
              "    .colab-df-convert:hover {\n",
              "      background-color: #E2EBFA;\n",
              "      box-shadow: 0px 1px 2px rgba(60, 64, 67, 0.3), 0px 1px 3px 1px rgba(60, 64, 67, 0.15);\n",
              "      fill: #174EA6;\n",
              "    }\n",
              "\n",
              "    [theme=dark] .colab-df-convert {\n",
              "      background-color: #3B4455;\n",
              "      fill: #D2E3FC;\n",
              "    }\n",
              "\n",
              "    [theme=dark] .colab-df-convert:hover {\n",
              "      background-color: #434B5C;\n",
              "      box-shadow: 0px 1px 3px 1px rgba(0, 0, 0, 0.15);\n",
              "      filter: drop-shadow(0px 1px 2px rgba(0, 0, 0, 0.3));\n",
              "      fill: #FFFFFF;\n",
              "    }\n",
              "  </style>\n",
              "\n",
              "      <script>\n",
              "        const buttonEl =\n",
              "          document.querySelector('#df-c3086771-9a86-4609-ba78-278853473154 button.colab-df-convert');\n",
              "        buttonEl.style.display =\n",
              "          google.colab.kernel.accessAllowed ? 'block' : 'none';\n",
              "\n",
              "        async function convertToInteractive(key) {\n",
              "          const element = document.querySelector('#df-c3086771-9a86-4609-ba78-278853473154');\n",
              "          const dataTable =\n",
              "            await google.colab.kernel.invokeFunction('convertToInteractive',\n",
              "                                                     [key], {});\n",
              "          if (!dataTable) return;\n",
              "\n",
              "          const docLinkHtml = 'Like what you see? Visit the ' +\n",
              "            '<a target=\"_blank\" href=https://colab.research.google.com/notebooks/data_table.ipynb>data table notebook</a>'\n",
              "            + ' to learn more about interactive tables.';\n",
              "          element.innerHTML = '';\n",
              "          dataTable['output_type'] = 'display_data';\n",
              "          await google.colab.output.renderOutput(dataTable, element);\n",
              "          const docLink = document.createElement('div');\n",
              "          docLink.innerHTML = docLinkHtml;\n",
              "          element.appendChild(docLink);\n",
              "        }\n",
              "      </script>\n",
              "    </div>\n",
              "  </div>\n",
              "  "
            ]
          },
          "metadata": {},
          "execution_count": 100
        }
      ]
    },
    {
      "cell_type": "markdown",
      "source": [
        "#Preprocessing"
      ],
      "metadata": {
        "id": "hEt7rHyEWDZM"
      }
    },
    {
      "cell_type": "code",
      "source": [
        "test_data.dtypes"
      ],
      "metadata": {
        "colab": {
          "base_uri": "https://localhost:8080/"
        },
        "id": "3z8mS-sEVoZh",
        "outputId": "f7f01d9d-b293-45ba-c29f-37694d2085af"
      },
      "execution_count": null,
      "outputs": [
        {
          "output_type": "execute_result",
          "data": {
            "text/plain": [
              "transaction_number            int64\n",
              "user_id                       int64\n",
              "payment_method               object\n",
              "partner_id                    int64\n",
              "partner_category             object\n",
              "country                      object\n",
              "device_type                  object\n",
              "money_transacted            float64\n",
              "partner_pricing_category      int64\n",
              "year                          int64\n",
              "month                         int64\n",
              "day                           int64\n",
              "dtype: object"
            ]
          },
          "metadata": {},
          "execution_count": 101
        }
      ]
    },
    {
      "cell_type": "code",
      "source": [
        "cat_attr=([\"payment_method\",\"partner_category\",\"device_type\"])\n",
        "test_data[cat_attr]=test_data[cat_attr].astype('category')"
      ],
      "metadata": {
        "id": "WxZ80hpNV6In"
      },
      "execution_count": null,
      "outputs": []
    },
    {
      "cell_type": "code",
      "source": [
        "test_data.dtypes"
      ],
      "metadata": {
        "colab": {
          "base_uri": "https://localhost:8080/"
        },
        "id": "pnsedH7NWLSZ",
        "outputId": "66df609c-2590-4c81-da56-27b88af8b759"
      },
      "execution_count": null,
      "outputs": [
        {
          "output_type": "execute_result",
          "data": {
            "text/plain": [
              "transaction_number             int64\n",
              "user_id                        int64\n",
              "payment_method              category\n",
              "partner_id                     int64\n",
              "partner_category            category\n",
              "country                       object\n",
              "device_type                 category\n",
              "money_transacted             float64\n",
              "partner_pricing_category       int64\n",
              "year                           int64\n",
              "month                          int64\n",
              "day                            int64\n",
              "dtype: object"
            ]
          },
          "metadata": {},
          "execution_count": 103
        }
      ]
    },
    {
      "cell_type": "code",
      "source": [
        "test_data=test_data.drop(['transaction_number','country'],axis=1)\n",
        "test_data.head()"
      ],
      "metadata": {
        "colab": {
          "base_uri": "https://localhost:8080/",
          "height": 270
        },
        "id": "Ei3NTBKLWSGj",
        "outputId": "95875fed-25a8-4d2c-c56a-de8fdc79f8d3"
      },
      "execution_count": null,
      "outputs": [
        {
          "output_type": "execute_result",
          "data": {
            "text/plain": [
              "    user_id            payment_method  partner_id partner_category  \\\n",
              "0   3802500   visa_master_debit_cards      118335            cat_1   \n",
              "1    200704         e_wallet_payments       23667            cat_2   \n",
              "2  25150225    sbi_atm_cum_debit_card       47334            cat_1   \n",
              "3  21827584  visa_master_credit_cards       78890            cat_2   \n",
              "4    576081         e_wallet_payments       23667            cat_2   \n",
              "\n",
              "       device_type  money_transacted  partner_pricing_category  year  month  \\\n",
              "0        other_pcs             200.0                         2  2016     12   \n",
              "1        other_pcs              20.0                         2  2016     12   \n",
              "2  android_devices            -100.0                         2  2017      1   \n",
              "3        other_pcs             200.0                         1  2017      1   \n",
              "4        other_pcs             100.0                         2  2017      2   \n",
              "\n",
              "   day  \n",
              "0   28  \n",
              "1   14  \n",
              "2   21  \n",
              "3   16  \n",
              "4    9  "
            ],
            "text/html": [
              "\n",
              "  <div id=\"df-5643c4cc-fbc3-4414-a000-2c4d0e05b1fa\">\n",
              "    <div class=\"colab-df-container\">\n",
              "      <div>\n",
              "<style scoped>\n",
              "    .dataframe tbody tr th:only-of-type {\n",
              "        vertical-align: middle;\n",
              "    }\n",
              "\n",
              "    .dataframe tbody tr th {\n",
              "        vertical-align: top;\n",
              "    }\n",
              "\n",
              "    .dataframe thead th {\n",
              "        text-align: right;\n",
              "    }\n",
              "</style>\n",
              "<table border=\"1\" class=\"dataframe\">\n",
              "  <thead>\n",
              "    <tr style=\"text-align: right;\">\n",
              "      <th></th>\n",
              "      <th>user_id</th>\n",
              "      <th>payment_method</th>\n",
              "      <th>partner_id</th>\n",
              "      <th>partner_category</th>\n",
              "      <th>device_type</th>\n",
              "      <th>money_transacted</th>\n",
              "      <th>partner_pricing_category</th>\n",
              "      <th>year</th>\n",
              "      <th>month</th>\n",
              "      <th>day</th>\n",
              "    </tr>\n",
              "  </thead>\n",
              "  <tbody>\n",
              "    <tr>\n",
              "      <th>0</th>\n",
              "      <td>3802500</td>\n",
              "      <td>visa_master_debit_cards</td>\n",
              "      <td>118335</td>\n",
              "      <td>cat_1</td>\n",
              "      <td>other_pcs</td>\n",
              "      <td>200.0</td>\n",
              "      <td>2</td>\n",
              "      <td>2016</td>\n",
              "      <td>12</td>\n",
              "      <td>28</td>\n",
              "    </tr>\n",
              "    <tr>\n",
              "      <th>1</th>\n",
              "      <td>200704</td>\n",
              "      <td>e_wallet_payments</td>\n",
              "      <td>23667</td>\n",
              "      <td>cat_2</td>\n",
              "      <td>other_pcs</td>\n",
              "      <td>20.0</td>\n",
              "      <td>2</td>\n",
              "      <td>2016</td>\n",
              "      <td>12</td>\n",
              "      <td>14</td>\n",
              "    </tr>\n",
              "    <tr>\n",
              "      <th>2</th>\n",
              "      <td>25150225</td>\n",
              "      <td>sbi_atm_cum_debit_card</td>\n",
              "      <td>47334</td>\n",
              "      <td>cat_1</td>\n",
              "      <td>android_devices</td>\n",
              "      <td>-100.0</td>\n",
              "      <td>2</td>\n",
              "      <td>2017</td>\n",
              "      <td>1</td>\n",
              "      <td>21</td>\n",
              "    </tr>\n",
              "    <tr>\n",
              "      <th>3</th>\n",
              "      <td>21827584</td>\n",
              "      <td>visa_master_credit_cards</td>\n",
              "      <td>78890</td>\n",
              "      <td>cat_2</td>\n",
              "      <td>other_pcs</td>\n",
              "      <td>200.0</td>\n",
              "      <td>1</td>\n",
              "      <td>2017</td>\n",
              "      <td>1</td>\n",
              "      <td>16</td>\n",
              "    </tr>\n",
              "    <tr>\n",
              "      <th>4</th>\n",
              "      <td>576081</td>\n",
              "      <td>e_wallet_payments</td>\n",
              "      <td>23667</td>\n",
              "      <td>cat_2</td>\n",
              "      <td>other_pcs</td>\n",
              "      <td>100.0</td>\n",
              "      <td>2</td>\n",
              "      <td>2017</td>\n",
              "      <td>2</td>\n",
              "      <td>9</td>\n",
              "    </tr>\n",
              "  </tbody>\n",
              "</table>\n",
              "</div>\n",
              "      <button class=\"colab-df-convert\" onclick=\"convertToInteractive('df-5643c4cc-fbc3-4414-a000-2c4d0e05b1fa')\"\n",
              "              title=\"Convert this dataframe to an interactive table.\"\n",
              "              style=\"display:none;\">\n",
              "        \n",
              "  <svg xmlns=\"http://www.w3.org/2000/svg\" height=\"24px\"viewBox=\"0 0 24 24\"\n",
              "       width=\"24px\">\n",
              "    <path d=\"M0 0h24v24H0V0z\" fill=\"none\"/>\n",
              "    <path d=\"M18.56 5.44l.94 2.06.94-2.06 2.06-.94-2.06-.94-.94-2.06-.94 2.06-2.06.94zm-11 1L8.5 8.5l.94-2.06 2.06-.94-2.06-.94L8.5 2.5l-.94 2.06-2.06.94zm10 10l.94 2.06.94-2.06 2.06-.94-2.06-.94-.94-2.06-.94 2.06-2.06.94z\"/><path d=\"M17.41 7.96l-1.37-1.37c-.4-.4-.92-.59-1.43-.59-.52 0-1.04.2-1.43.59L10.3 9.45l-7.72 7.72c-.78.78-.78 2.05 0 2.83L4 21.41c.39.39.9.59 1.41.59.51 0 1.02-.2 1.41-.59l7.78-7.78 2.81-2.81c.8-.78.8-2.07 0-2.86zM5.41 20L4 18.59l7.72-7.72 1.47 1.35L5.41 20z\"/>\n",
              "  </svg>\n",
              "      </button>\n",
              "      \n",
              "  <style>\n",
              "    .colab-df-container {\n",
              "      display:flex;\n",
              "      flex-wrap:wrap;\n",
              "      gap: 12px;\n",
              "    }\n",
              "\n",
              "    .colab-df-convert {\n",
              "      background-color: #E8F0FE;\n",
              "      border: none;\n",
              "      border-radius: 50%;\n",
              "      cursor: pointer;\n",
              "      display: none;\n",
              "      fill: #1967D2;\n",
              "      height: 32px;\n",
              "      padding: 0 0 0 0;\n",
              "      width: 32px;\n",
              "    }\n",
              "\n",
              "    .colab-df-convert:hover {\n",
              "      background-color: #E2EBFA;\n",
              "      box-shadow: 0px 1px 2px rgba(60, 64, 67, 0.3), 0px 1px 3px 1px rgba(60, 64, 67, 0.15);\n",
              "      fill: #174EA6;\n",
              "    }\n",
              "\n",
              "    [theme=dark] .colab-df-convert {\n",
              "      background-color: #3B4455;\n",
              "      fill: #D2E3FC;\n",
              "    }\n",
              "\n",
              "    [theme=dark] .colab-df-convert:hover {\n",
              "      background-color: #434B5C;\n",
              "      box-shadow: 0px 1px 3px 1px rgba(0, 0, 0, 0.15);\n",
              "      filter: drop-shadow(0px 1px 2px rgba(0, 0, 0, 0.3));\n",
              "      fill: #FFFFFF;\n",
              "    }\n",
              "  </style>\n",
              "\n",
              "      <script>\n",
              "        const buttonEl =\n",
              "          document.querySelector('#df-5643c4cc-fbc3-4414-a000-2c4d0e05b1fa button.colab-df-convert');\n",
              "        buttonEl.style.display =\n",
              "          google.colab.kernel.accessAllowed ? 'block' : 'none';\n",
              "\n",
              "        async function convertToInteractive(key) {\n",
              "          const element = document.querySelector('#df-5643c4cc-fbc3-4414-a000-2c4d0e05b1fa');\n",
              "          const dataTable =\n",
              "            await google.colab.kernel.invokeFunction('convertToInteractive',\n",
              "                                                     [key], {});\n",
              "          if (!dataTable) return;\n",
              "\n",
              "          const docLinkHtml = 'Like what you see? Visit the ' +\n",
              "            '<a target=\"_blank\" href=https://colab.research.google.com/notebooks/data_table.ipynb>data table notebook</a>'\n",
              "            + ' to learn more about interactive tables.';\n",
              "          element.innerHTML = '';\n",
              "          dataTable['output_type'] = 'display_data';\n",
              "          await google.colab.output.renderOutput(dataTable, element);\n",
              "          const docLink = document.createElement('div');\n",
              "          docLink.innerHTML = docLinkHtml;\n",
              "          element.appendChild(docLink);\n",
              "        }\n",
              "      </script>\n",
              "    </div>\n",
              "  </div>\n",
              "  "
            ]
          },
          "metadata": {},
          "execution_count": 104
        }
      ]
    },
    {
      "cell_type": "markdown",
      "source": [
        "#Encoding"
      ],
      "metadata": {
        "id": "8n7b7qyLWqpc"
      }
    },
    {
      "cell_type": "code",
      "source": [
        "test_data=pd.get_dummies(test_data)"
      ],
      "metadata": {
        "id": "UJBh_eajWjbl"
      },
      "execution_count": null,
      "outputs": []
    },
    {
      "cell_type": "code",
      "source": [
        "test_data.columns"
      ],
      "metadata": {
        "colab": {
          "base_uri": "https://localhost:8080/"
        },
        "id": "5CCkCTyIWyay",
        "outputId": "41d14e02-cf03-473a-a412-a3c0f287a537"
      },
      "execution_count": null,
      "outputs": [
        {
          "output_type": "execute_result",
          "data": {
            "text/plain": [
              "Index(['user_id', 'partner_id', 'money_transacted', 'partner_pricing_category',\n",
              "       'year', 'month', 'day', 'payment_method_e_wallet_payments',\n",
              "       'payment_method_other_debit_cards',\n",
              "       'payment_method_sbi_atm_cum_debit_card',\n",
              "       'payment_method_unified_payments_interface',\n",
              "       'payment_method_visa_master_credit_cards',\n",
              "       'payment_method_visa_master_debit_cards', 'partner_category_cat_1',\n",
              "       'partner_category_cat_2', 'partner_category_cat_3',\n",
              "       'partner_category_cat_4', 'partner_category_cat_5',\n",
              "       'partner_category_cat_6', 'partner_category_cat_7',\n",
              "       'partner_category_cat_8', 'device_type_android_devices',\n",
              "       'device_type_ios_devices', 'device_type_other_pcs',\n",
              "       'device_type_windows_pcs'],\n",
              "      dtype='object')"
            ]
          },
          "metadata": {},
          "execution_count": 106
        }
      ]
    },
    {
      "cell_type": "code",
      "source": [
        "test_data.shape"
      ],
      "metadata": {
        "colab": {
          "base_uri": "https://localhost:8080/"
        },
        "id": "RfJCYvNkW3k-",
        "outputId": "ea711a35-5fd6-47b0-bd06-2bc0e60e6a2d"
      },
      "execution_count": null,
      "outputs": [
        {
          "output_type": "execute_result",
          "data": {
            "text/plain": [
              "(19133, 25)"
            ]
          },
          "metadata": {},
          "execution_count": 107
        }
      ]
    },
    {
      "cell_type": "code",
      "source": [
        "train_data.head()"
      ],
      "metadata": {
        "colab": {
          "base_uri": "https://localhost:8080/",
          "height": 300
        },
        "id": "1lw7O5O5ZAgO",
        "outputId": "60699d02-6e24-4e2e-8e64-7282e206716f"
      },
      "execution_count": null,
      "outputs": [
        {
          "output_type": "execute_result",
          "data": {
            "text/plain": [
              "    user_id  partner_id  money_transacted  partner_pricing_category  is_fraud  \\\n",
              "0  17539344       47334              -5.0                         2         0   \n",
              "1  24710841       78890             100.0                         2         0   \n",
              "2  24265476       78890              50.0                         2         0   \n",
              "3  10240000      102557            1000.0                         2         0   \n",
              "4   5880625      118335             200.0                         2         0   \n",
              "\n",
              "   year  month  day  payment_method_e_wallet_payments  \\\n",
              "0  2016     11   15                                 0   \n",
              "1  2017      1   11                                 1   \n",
              "2  2016     12    7                                 1   \n",
              "3  2017      1   11                                 0   \n",
              "4  2016     11   16                                 0   \n",
              "\n",
              "   payment_method_other_debit_cards  ...  partner_category_cat_3  \\\n",
              "0                                 0  ...                       0   \n",
              "1                                 0  ...                       0   \n",
              "2                                 0  ...                       0   \n",
              "3                                 1  ...                       1   \n",
              "4                                 1  ...                       0   \n",
              "\n",
              "   partner_category_cat_4  partner_category_cat_5  partner_category_cat_6  \\\n",
              "0                       0                       0                       0   \n",
              "1                       0                       0                       0   \n",
              "2                       0                       0                       0   \n",
              "3                       0                       0                       0   \n",
              "4                       0                       0                       0   \n",
              "\n",
              "   partner_category_cat_7  partner_category_cat_8  \\\n",
              "0                       0                       0   \n",
              "1                       0                       0   \n",
              "2                       0                       0   \n",
              "3                       0                       0   \n",
              "4                       0                       0   \n",
              "\n",
              "   device_type_android_devices  device_type_ios_devices  \\\n",
              "0                            1                        0   \n",
              "1                            0                        0   \n",
              "2                            0                        0   \n",
              "3                            0                        0   \n",
              "4                            0                        0   \n",
              "\n",
              "   device_type_other_pcs  device_type_windows_pcs  \n",
              "0                      0                        0  \n",
              "1                      1                        0  \n",
              "2                      1                        0  \n",
              "3                      1                        0  \n",
              "4                      1                        0  \n",
              "\n",
              "[5 rows x 26 columns]"
            ],
            "text/html": [
              "\n",
              "  <div id=\"df-6a81f878-1d9c-4162-b420-b44ddc48be6f\">\n",
              "    <div class=\"colab-df-container\">\n",
              "      <div>\n",
              "<style scoped>\n",
              "    .dataframe tbody tr th:only-of-type {\n",
              "        vertical-align: middle;\n",
              "    }\n",
              "\n",
              "    .dataframe tbody tr th {\n",
              "        vertical-align: top;\n",
              "    }\n",
              "\n",
              "    .dataframe thead th {\n",
              "        text-align: right;\n",
              "    }\n",
              "</style>\n",
              "<table border=\"1\" class=\"dataframe\">\n",
              "  <thead>\n",
              "    <tr style=\"text-align: right;\">\n",
              "      <th></th>\n",
              "      <th>user_id</th>\n",
              "      <th>partner_id</th>\n",
              "      <th>money_transacted</th>\n",
              "      <th>partner_pricing_category</th>\n",
              "      <th>is_fraud</th>\n",
              "      <th>year</th>\n",
              "      <th>month</th>\n",
              "      <th>day</th>\n",
              "      <th>payment_method_e_wallet_payments</th>\n",
              "      <th>payment_method_other_debit_cards</th>\n",
              "      <th>...</th>\n",
              "      <th>partner_category_cat_3</th>\n",
              "      <th>partner_category_cat_4</th>\n",
              "      <th>partner_category_cat_5</th>\n",
              "      <th>partner_category_cat_6</th>\n",
              "      <th>partner_category_cat_7</th>\n",
              "      <th>partner_category_cat_8</th>\n",
              "      <th>device_type_android_devices</th>\n",
              "      <th>device_type_ios_devices</th>\n",
              "      <th>device_type_other_pcs</th>\n",
              "      <th>device_type_windows_pcs</th>\n",
              "    </tr>\n",
              "  </thead>\n",
              "  <tbody>\n",
              "    <tr>\n",
              "      <th>0</th>\n",
              "      <td>17539344</td>\n",
              "      <td>47334</td>\n",
              "      <td>-5.0</td>\n",
              "      <td>2</td>\n",
              "      <td>0</td>\n",
              "      <td>2016</td>\n",
              "      <td>11</td>\n",
              "      <td>15</td>\n",
              "      <td>0</td>\n",
              "      <td>0</td>\n",
              "      <td>...</td>\n",
              "      <td>0</td>\n",
              "      <td>0</td>\n",
              "      <td>0</td>\n",
              "      <td>0</td>\n",
              "      <td>0</td>\n",
              "      <td>0</td>\n",
              "      <td>1</td>\n",
              "      <td>0</td>\n",
              "      <td>0</td>\n",
              "      <td>0</td>\n",
              "    </tr>\n",
              "    <tr>\n",
              "      <th>1</th>\n",
              "      <td>24710841</td>\n",
              "      <td>78890</td>\n",
              "      <td>100.0</td>\n",
              "      <td>2</td>\n",
              "      <td>0</td>\n",
              "      <td>2017</td>\n",
              "      <td>1</td>\n",
              "      <td>11</td>\n",
              "      <td>1</td>\n",
              "      <td>0</td>\n",
              "      <td>...</td>\n",
              "      <td>0</td>\n",
              "      <td>0</td>\n",
              "      <td>0</td>\n",
              "      <td>0</td>\n",
              "      <td>0</td>\n",
              "      <td>0</td>\n",
              "      <td>0</td>\n",
              "      <td>0</td>\n",
              "      <td>1</td>\n",
              "      <td>0</td>\n",
              "    </tr>\n",
              "    <tr>\n",
              "      <th>2</th>\n",
              "      <td>24265476</td>\n",
              "      <td>78890</td>\n",
              "      <td>50.0</td>\n",
              "      <td>2</td>\n",
              "      <td>0</td>\n",
              "      <td>2016</td>\n",
              "      <td>12</td>\n",
              "      <td>7</td>\n",
              "      <td>1</td>\n",
              "      <td>0</td>\n",
              "      <td>...</td>\n",
              "      <td>0</td>\n",
              "      <td>0</td>\n",
              "      <td>0</td>\n",
              "      <td>0</td>\n",
              "      <td>0</td>\n",
              "      <td>0</td>\n",
              "      <td>0</td>\n",
              "      <td>0</td>\n",
              "      <td>1</td>\n",
              "      <td>0</td>\n",
              "    </tr>\n",
              "    <tr>\n",
              "      <th>3</th>\n",
              "      <td>10240000</td>\n",
              "      <td>102557</td>\n",
              "      <td>1000.0</td>\n",
              "      <td>2</td>\n",
              "      <td>0</td>\n",
              "      <td>2017</td>\n",
              "      <td>1</td>\n",
              "      <td>11</td>\n",
              "      <td>0</td>\n",
              "      <td>1</td>\n",
              "      <td>...</td>\n",
              "      <td>1</td>\n",
              "      <td>0</td>\n",
              "      <td>0</td>\n",
              "      <td>0</td>\n",
              "      <td>0</td>\n",
              "      <td>0</td>\n",
              "      <td>0</td>\n",
              "      <td>0</td>\n",
              "      <td>1</td>\n",
              "      <td>0</td>\n",
              "    </tr>\n",
              "    <tr>\n",
              "      <th>4</th>\n",
              "      <td>5880625</td>\n",
              "      <td>118335</td>\n",
              "      <td>200.0</td>\n",
              "      <td>2</td>\n",
              "      <td>0</td>\n",
              "      <td>2016</td>\n",
              "      <td>11</td>\n",
              "      <td>16</td>\n",
              "      <td>0</td>\n",
              "      <td>1</td>\n",
              "      <td>...</td>\n",
              "      <td>0</td>\n",
              "      <td>0</td>\n",
              "      <td>0</td>\n",
              "      <td>0</td>\n",
              "      <td>0</td>\n",
              "      <td>0</td>\n",
              "      <td>0</td>\n",
              "      <td>0</td>\n",
              "      <td>1</td>\n",
              "      <td>0</td>\n",
              "    </tr>\n",
              "  </tbody>\n",
              "</table>\n",
              "<p>5 rows × 26 columns</p>\n",
              "</div>\n",
              "      <button class=\"colab-df-convert\" onclick=\"convertToInteractive('df-6a81f878-1d9c-4162-b420-b44ddc48be6f')\"\n",
              "              title=\"Convert this dataframe to an interactive table.\"\n",
              "              style=\"display:none;\">\n",
              "        \n",
              "  <svg xmlns=\"http://www.w3.org/2000/svg\" height=\"24px\"viewBox=\"0 0 24 24\"\n",
              "       width=\"24px\">\n",
              "    <path d=\"M0 0h24v24H0V0z\" fill=\"none\"/>\n",
              "    <path d=\"M18.56 5.44l.94 2.06.94-2.06 2.06-.94-2.06-.94-.94-2.06-.94 2.06-2.06.94zm-11 1L8.5 8.5l.94-2.06 2.06-.94-2.06-.94L8.5 2.5l-.94 2.06-2.06.94zm10 10l.94 2.06.94-2.06 2.06-.94-2.06-.94-.94-2.06-.94 2.06-2.06.94z\"/><path d=\"M17.41 7.96l-1.37-1.37c-.4-.4-.92-.59-1.43-.59-.52 0-1.04.2-1.43.59L10.3 9.45l-7.72 7.72c-.78.78-.78 2.05 0 2.83L4 21.41c.39.39.9.59 1.41.59.51 0 1.02-.2 1.41-.59l7.78-7.78 2.81-2.81c.8-.78.8-2.07 0-2.86zM5.41 20L4 18.59l7.72-7.72 1.47 1.35L5.41 20z\"/>\n",
              "  </svg>\n",
              "      </button>\n",
              "      \n",
              "  <style>\n",
              "    .colab-df-container {\n",
              "      display:flex;\n",
              "      flex-wrap:wrap;\n",
              "      gap: 12px;\n",
              "    }\n",
              "\n",
              "    .colab-df-convert {\n",
              "      background-color: #E8F0FE;\n",
              "      border: none;\n",
              "      border-radius: 50%;\n",
              "      cursor: pointer;\n",
              "      display: none;\n",
              "      fill: #1967D2;\n",
              "      height: 32px;\n",
              "      padding: 0 0 0 0;\n",
              "      width: 32px;\n",
              "    }\n",
              "\n",
              "    .colab-df-convert:hover {\n",
              "      background-color: #E2EBFA;\n",
              "      box-shadow: 0px 1px 2px rgba(60, 64, 67, 0.3), 0px 1px 3px 1px rgba(60, 64, 67, 0.15);\n",
              "      fill: #174EA6;\n",
              "    }\n",
              "\n",
              "    [theme=dark] .colab-df-convert {\n",
              "      background-color: #3B4455;\n",
              "      fill: #D2E3FC;\n",
              "    }\n",
              "\n",
              "    [theme=dark] .colab-df-convert:hover {\n",
              "      background-color: #434B5C;\n",
              "      box-shadow: 0px 1px 3px 1px rgba(0, 0, 0, 0.15);\n",
              "      filter: drop-shadow(0px 1px 2px rgba(0, 0, 0, 0.3));\n",
              "      fill: #FFFFFF;\n",
              "    }\n",
              "  </style>\n",
              "\n",
              "      <script>\n",
              "        const buttonEl =\n",
              "          document.querySelector('#df-6a81f878-1d9c-4162-b420-b44ddc48be6f button.colab-df-convert');\n",
              "        buttonEl.style.display =\n",
              "          google.colab.kernel.accessAllowed ? 'block' : 'none';\n",
              "\n",
              "        async function convertToInteractive(key) {\n",
              "          const element = document.querySelector('#df-6a81f878-1d9c-4162-b420-b44ddc48be6f');\n",
              "          const dataTable =\n",
              "            await google.colab.kernel.invokeFunction('convertToInteractive',\n",
              "                                                     [key], {});\n",
              "          if (!dataTable) return;\n",
              "\n",
              "          const docLinkHtml = 'Like what you see? Visit the ' +\n",
              "            '<a target=\"_blank\" href=https://colab.research.google.com/notebooks/data_table.ipynb>data table notebook</a>'\n",
              "            + ' to learn more about interactive tables.';\n",
              "          element.innerHTML = '';\n",
              "          dataTable['output_type'] = 'display_data';\n",
              "          await google.colab.output.renderOutput(dataTable, element);\n",
              "          const docLink = document.createElement('div');\n",
              "          docLink.innerHTML = docLinkHtml;\n",
              "          element.appendChild(docLink);\n",
              "        }\n",
              "      </script>\n",
              "    </div>\n",
              "  </div>\n",
              "  "
            ]
          },
          "metadata": {},
          "execution_count": 108
        }
      ]
    },
    {
      "cell_type": "code",
      "source": [
        "test_data.head()"
      ],
      "metadata": {
        "colab": {
          "base_uri": "https://localhost:8080/",
          "height": 300
        },
        "id": "mwPCuAvEZHJS",
        "outputId": "a06a762e-a7ca-450b-b34e-6339ece940fc"
      },
      "execution_count": null,
      "outputs": [
        {
          "output_type": "execute_result",
          "data": {
            "text/plain": [
              "    user_id  partner_id  money_transacted  partner_pricing_category  year  \\\n",
              "0   3802500      118335             200.0                         2  2016   \n",
              "1    200704       23667              20.0                         2  2016   \n",
              "2  25150225       47334            -100.0                         2  2017   \n",
              "3  21827584       78890             200.0                         1  2017   \n",
              "4    576081       23667             100.0                         2  2017   \n",
              "\n",
              "   month  day  payment_method_e_wallet_payments  \\\n",
              "0     12   28                                 0   \n",
              "1     12   14                                 1   \n",
              "2      1   21                                 0   \n",
              "3      1   16                                 0   \n",
              "4      2    9                                 1   \n",
              "\n",
              "   payment_method_other_debit_cards  payment_method_sbi_atm_cum_debit_card  \\\n",
              "0                                 0                                      0   \n",
              "1                                 0                                      0   \n",
              "2                                 0                                      1   \n",
              "3                                 0                                      0   \n",
              "4                                 0                                      0   \n",
              "\n",
              "   ...  partner_category_cat_3  partner_category_cat_4  \\\n",
              "0  ...                       0                       0   \n",
              "1  ...                       0                       0   \n",
              "2  ...                       0                       0   \n",
              "3  ...                       0                       0   \n",
              "4  ...                       0                       0   \n",
              "\n",
              "   partner_category_cat_5  partner_category_cat_6  partner_category_cat_7  \\\n",
              "0                       0                       0                       0   \n",
              "1                       0                       0                       0   \n",
              "2                       0                       0                       0   \n",
              "3                       0                       0                       0   \n",
              "4                       0                       0                       0   \n",
              "\n",
              "   partner_category_cat_8  device_type_android_devices  \\\n",
              "0                       0                            0   \n",
              "1                       0                            0   \n",
              "2                       0                            1   \n",
              "3                       0                            0   \n",
              "4                       0                            0   \n",
              "\n",
              "   device_type_ios_devices  device_type_other_pcs  device_type_windows_pcs  \n",
              "0                        0                      1                        0  \n",
              "1                        0                      1                        0  \n",
              "2                        0                      0                        0  \n",
              "3                        0                      1                        0  \n",
              "4                        0                      1                        0  \n",
              "\n",
              "[5 rows x 25 columns]"
            ],
            "text/html": [
              "\n",
              "  <div id=\"df-c0333c79-c848-45b4-b572-ac048c8b87dc\">\n",
              "    <div class=\"colab-df-container\">\n",
              "      <div>\n",
              "<style scoped>\n",
              "    .dataframe tbody tr th:only-of-type {\n",
              "        vertical-align: middle;\n",
              "    }\n",
              "\n",
              "    .dataframe tbody tr th {\n",
              "        vertical-align: top;\n",
              "    }\n",
              "\n",
              "    .dataframe thead th {\n",
              "        text-align: right;\n",
              "    }\n",
              "</style>\n",
              "<table border=\"1\" class=\"dataframe\">\n",
              "  <thead>\n",
              "    <tr style=\"text-align: right;\">\n",
              "      <th></th>\n",
              "      <th>user_id</th>\n",
              "      <th>partner_id</th>\n",
              "      <th>money_transacted</th>\n",
              "      <th>partner_pricing_category</th>\n",
              "      <th>year</th>\n",
              "      <th>month</th>\n",
              "      <th>day</th>\n",
              "      <th>payment_method_e_wallet_payments</th>\n",
              "      <th>payment_method_other_debit_cards</th>\n",
              "      <th>payment_method_sbi_atm_cum_debit_card</th>\n",
              "      <th>...</th>\n",
              "      <th>partner_category_cat_3</th>\n",
              "      <th>partner_category_cat_4</th>\n",
              "      <th>partner_category_cat_5</th>\n",
              "      <th>partner_category_cat_6</th>\n",
              "      <th>partner_category_cat_7</th>\n",
              "      <th>partner_category_cat_8</th>\n",
              "      <th>device_type_android_devices</th>\n",
              "      <th>device_type_ios_devices</th>\n",
              "      <th>device_type_other_pcs</th>\n",
              "      <th>device_type_windows_pcs</th>\n",
              "    </tr>\n",
              "  </thead>\n",
              "  <tbody>\n",
              "    <tr>\n",
              "      <th>0</th>\n",
              "      <td>3802500</td>\n",
              "      <td>118335</td>\n",
              "      <td>200.0</td>\n",
              "      <td>2</td>\n",
              "      <td>2016</td>\n",
              "      <td>12</td>\n",
              "      <td>28</td>\n",
              "      <td>0</td>\n",
              "      <td>0</td>\n",
              "      <td>0</td>\n",
              "      <td>...</td>\n",
              "      <td>0</td>\n",
              "      <td>0</td>\n",
              "      <td>0</td>\n",
              "      <td>0</td>\n",
              "      <td>0</td>\n",
              "      <td>0</td>\n",
              "      <td>0</td>\n",
              "      <td>0</td>\n",
              "      <td>1</td>\n",
              "      <td>0</td>\n",
              "    </tr>\n",
              "    <tr>\n",
              "      <th>1</th>\n",
              "      <td>200704</td>\n",
              "      <td>23667</td>\n",
              "      <td>20.0</td>\n",
              "      <td>2</td>\n",
              "      <td>2016</td>\n",
              "      <td>12</td>\n",
              "      <td>14</td>\n",
              "      <td>1</td>\n",
              "      <td>0</td>\n",
              "      <td>0</td>\n",
              "      <td>...</td>\n",
              "      <td>0</td>\n",
              "      <td>0</td>\n",
              "      <td>0</td>\n",
              "      <td>0</td>\n",
              "      <td>0</td>\n",
              "      <td>0</td>\n",
              "      <td>0</td>\n",
              "      <td>0</td>\n",
              "      <td>1</td>\n",
              "      <td>0</td>\n",
              "    </tr>\n",
              "    <tr>\n",
              "      <th>2</th>\n",
              "      <td>25150225</td>\n",
              "      <td>47334</td>\n",
              "      <td>-100.0</td>\n",
              "      <td>2</td>\n",
              "      <td>2017</td>\n",
              "      <td>1</td>\n",
              "      <td>21</td>\n",
              "      <td>0</td>\n",
              "      <td>0</td>\n",
              "      <td>1</td>\n",
              "      <td>...</td>\n",
              "      <td>0</td>\n",
              "      <td>0</td>\n",
              "      <td>0</td>\n",
              "      <td>0</td>\n",
              "      <td>0</td>\n",
              "      <td>0</td>\n",
              "      <td>1</td>\n",
              "      <td>0</td>\n",
              "      <td>0</td>\n",
              "      <td>0</td>\n",
              "    </tr>\n",
              "    <tr>\n",
              "      <th>3</th>\n",
              "      <td>21827584</td>\n",
              "      <td>78890</td>\n",
              "      <td>200.0</td>\n",
              "      <td>1</td>\n",
              "      <td>2017</td>\n",
              "      <td>1</td>\n",
              "      <td>16</td>\n",
              "      <td>0</td>\n",
              "      <td>0</td>\n",
              "      <td>0</td>\n",
              "      <td>...</td>\n",
              "      <td>0</td>\n",
              "      <td>0</td>\n",
              "      <td>0</td>\n",
              "      <td>0</td>\n",
              "      <td>0</td>\n",
              "      <td>0</td>\n",
              "      <td>0</td>\n",
              "      <td>0</td>\n",
              "      <td>1</td>\n",
              "      <td>0</td>\n",
              "    </tr>\n",
              "    <tr>\n",
              "      <th>4</th>\n",
              "      <td>576081</td>\n",
              "      <td>23667</td>\n",
              "      <td>100.0</td>\n",
              "      <td>2</td>\n",
              "      <td>2017</td>\n",
              "      <td>2</td>\n",
              "      <td>9</td>\n",
              "      <td>1</td>\n",
              "      <td>0</td>\n",
              "      <td>0</td>\n",
              "      <td>...</td>\n",
              "      <td>0</td>\n",
              "      <td>0</td>\n",
              "      <td>0</td>\n",
              "      <td>0</td>\n",
              "      <td>0</td>\n",
              "      <td>0</td>\n",
              "      <td>0</td>\n",
              "      <td>0</td>\n",
              "      <td>1</td>\n",
              "      <td>0</td>\n",
              "    </tr>\n",
              "  </tbody>\n",
              "</table>\n",
              "<p>5 rows × 25 columns</p>\n",
              "</div>\n",
              "      <button class=\"colab-df-convert\" onclick=\"convertToInteractive('df-c0333c79-c848-45b4-b572-ac048c8b87dc')\"\n",
              "              title=\"Convert this dataframe to an interactive table.\"\n",
              "              style=\"display:none;\">\n",
              "        \n",
              "  <svg xmlns=\"http://www.w3.org/2000/svg\" height=\"24px\"viewBox=\"0 0 24 24\"\n",
              "       width=\"24px\">\n",
              "    <path d=\"M0 0h24v24H0V0z\" fill=\"none\"/>\n",
              "    <path d=\"M18.56 5.44l.94 2.06.94-2.06 2.06-.94-2.06-.94-.94-2.06-.94 2.06-2.06.94zm-11 1L8.5 8.5l.94-2.06 2.06-.94-2.06-.94L8.5 2.5l-.94 2.06-2.06.94zm10 10l.94 2.06.94-2.06 2.06-.94-2.06-.94-.94-2.06-.94 2.06-2.06.94z\"/><path d=\"M17.41 7.96l-1.37-1.37c-.4-.4-.92-.59-1.43-.59-.52 0-1.04.2-1.43.59L10.3 9.45l-7.72 7.72c-.78.78-.78 2.05 0 2.83L4 21.41c.39.39.9.59 1.41.59.51 0 1.02-.2 1.41-.59l7.78-7.78 2.81-2.81c.8-.78.8-2.07 0-2.86zM5.41 20L4 18.59l7.72-7.72 1.47 1.35L5.41 20z\"/>\n",
              "  </svg>\n",
              "      </button>\n",
              "      \n",
              "  <style>\n",
              "    .colab-df-container {\n",
              "      display:flex;\n",
              "      flex-wrap:wrap;\n",
              "      gap: 12px;\n",
              "    }\n",
              "\n",
              "    .colab-df-convert {\n",
              "      background-color: #E8F0FE;\n",
              "      border: none;\n",
              "      border-radius: 50%;\n",
              "      cursor: pointer;\n",
              "      display: none;\n",
              "      fill: #1967D2;\n",
              "      height: 32px;\n",
              "      padding: 0 0 0 0;\n",
              "      width: 32px;\n",
              "    }\n",
              "\n",
              "    .colab-df-convert:hover {\n",
              "      background-color: #E2EBFA;\n",
              "      box-shadow: 0px 1px 2px rgba(60, 64, 67, 0.3), 0px 1px 3px 1px rgba(60, 64, 67, 0.15);\n",
              "      fill: #174EA6;\n",
              "    }\n",
              "\n",
              "    [theme=dark] .colab-df-convert {\n",
              "      background-color: #3B4455;\n",
              "      fill: #D2E3FC;\n",
              "    }\n",
              "\n",
              "    [theme=dark] .colab-df-convert:hover {\n",
              "      background-color: #434B5C;\n",
              "      box-shadow: 0px 1px 3px 1px rgba(0, 0, 0, 0.15);\n",
              "      filter: drop-shadow(0px 1px 2px rgba(0, 0, 0, 0.3));\n",
              "      fill: #FFFFFF;\n",
              "    }\n",
              "  </style>\n",
              "\n",
              "      <script>\n",
              "        const buttonEl =\n",
              "          document.querySelector('#df-c0333c79-c848-45b4-b572-ac048c8b87dc button.colab-df-convert');\n",
              "        buttonEl.style.display =\n",
              "          google.colab.kernel.accessAllowed ? 'block' : 'none';\n",
              "\n",
              "        async function convertToInteractive(key) {\n",
              "          const element = document.querySelector('#df-c0333c79-c848-45b4-b572-ac048c8b87dc');\n",
              "          const dataTable =\n",
              "            await google.colab.kernel.invokeFunction('convertToInteractive',\n",
              "                                                     [key], {});\n",
              "          if (!dataTable) return;\n",
              "\n",
              "          const docLinkHtml = 'Like what you see? Visit the ' +\n",
              "            '<a target=\"_blank\" href=https://colab.research.google.com/notebooks/data_table.ipynb>data table notebook</a>'\n",
              "            + ' to learn more about interactive tables.';\n",
              "          element.innerHTML = '';\n",
              "          dataTable['output_type'] = 'display_data';\n",
              "          await google.colab.output.renderOutput(dataTable, element);\n",
              "          const docLink = document.createElement('div');\n",
              "          docLink.innerHTML = docLinkHtml;\n",
              "          element.appendChild(docLink);\n",
              "        }\n",
              "      </script>\n",
              "    </div>\n",
              "  </div>\n",
              "  "
            ]
          },
          "metadata": {},
          "execution_count": 109
        }
      ]
    },
    {
      "cell_type": "markdown",
      "source": [
        "#Merging two datasets "
      ],
      "metadata": {
        "id": "W7GRhDtBaA6W"
      }
    },
    {
      "cell_type": "code",
      "source": [
        "result_data=pd.merge(train_data,test_data)"
      ],
      "metadata": {
        "id": "AaluZkmdW9cM"
      },
      "execution_count": null,
      "outputs": []
    },
    {
      "cell_type": "code",
      "source": [
        "result_data.head()"
      ],
      "metadata": {
        "colab": {
          "base_uri": "https://localhost:8080/",
          "height": 300
        },
        "id": "ioqJwJ1gXavC",
        "outputId": "a90bc69c-117b-40cf-9d31-b5e177d302d0"
      },
      "execution_count": null,
      "outputs": [
        {
          "output_type": "execute_result",
          "data": {
            "text/plain": [
              "    user_id  partner_id  money_transacted  partner_pricing_category  is_fraud  \\\n",
              "0   5880625      118335             200.0                         2         0   \n",
              "1   5880625      118335             200.0                         2         0   \n",
              "2  10660225       47334              -0.8                         2         0   \n",
              "3  10660225       47334              -0.8                         2         0   \n",
              "4  10660225       47334              -0.8                         2         0   \n",
              "\n",
              "   year  month  day  payment_method_e_wallet_payments  \\\n",
              "0  2016     11   16                                 0   \n",
              "1  2016     11   16                                 0   \n",
              "2  2016     12   28                                 0   \n",
              "3  2016     12   28                                 0   \n",
              "4  2016     12   28                                 0   \n",
              "\n",
              "   payment_method_other_debit_cards  ...  partner_category_cat_3  \\\n",
              "0                                 1  ...                       0   \n",
              "1                                 1  ...                       0   \n",
              "2                                 0  ...                       0   \n",
              "3                                 0  ...                       0   \n",
              "4                                 0  ...                       0   \n",
              "\n",
              "   partner_category_cat_4  partner_category_cat_5  partner_category_cat_6  \\\n",
              "0                       0                       0                       0   \n",
              "1                       0                       0                       0   \n",
              "2                       0                       0                       0   \n",
              "3                       0                       0                       0   \n",
              "4                       0                       0                       0   \n",
              "\n",
              "   partner_category_cat_7  partner_category_cat_8  \\\n",
              "0                       0                       0   \n",
              "1                       0                       0   \n",
              "2                       0                       0   \n",
              "3                       0                       0   \n",
              "4                       0                       0   \n",
              "\n",
              "   device_type_android_devices  device_type_ios_devices  \\\n",
              "0                            0                        0   \n",
              "1                            0                        0   \n",
              "2                            1                        0   \n",
              "3                            1                        0   \n",
              "4                            1                        0   \n",
              "\n",
              "   device_type_other_pcs  device_type_windows_pcs  \n",
              "0                      1                        0  \n",
              "1                      1                        0  \n",
              "2                      0                        0  \n",
              "3                      0                        0  \n",
              "4                      0                        0  \n",
              "\n",
              "[5 rows x 26 columns]"
            ],
            "text/html": [
              "\n",
              "  <div id=\"df-ef28f9cd-8438-4c6b-b8c4-7f4a454d58c9\">\n",
              "    <div class=\"colab-df-container\">\n",
              "      <div>\n",
              "<style scoped>\n",
              "    .dataframe tbody tr th:only-of-type {\n",
              "        vertical-align: middle;\n",
              "    }\n",
              "\n",
              "    .dataframe tbody tr th {\n",
              "        vertical-align: top;\n",
              "    }\n",
              "\n",
              "    .dataframe thead th {\n",
              "        text-align: right;\n",
              "    }\n",
              "</style>\n",
              "<table border=\"1\" class=\"dataframe\">\n",
              "  <thead>\n",
              "    <tr style=\"text-align: right;\">\n",
              "      <th></th>\n",
              "      <th>user_id</th>\n",
              "      <th>partner_id</th>\n",
              "      <th>money_transacted</th>\n",
              "      <th>partner_pricing_category</th>\n",
              "      <th>is_fraud</th>\n",
              "      <th>year</th>\n",
              "      <th>month</th>\n",
              "      <th>day</th>\n",
              "      <th>payment_method_e_wallet_payments</th>\n",
              "      <th>payment_method_other_debit_cards</th>\n",
              "      <th>...</th>\n",
              "      <th>partner_category_cat_3</th>\n",
              "      <th>partner_category_cat_4</th>\n",
              "      <th>partner_category_cat_5</th>\n",
              "      <th>partner_category_cat_6</th>\n",
              "      <th>partner_category_cat_7</th>\n",
              "      <th>partner_category_cat_8</th>\n",
              "      <th>device_type_android_devices</th>\n",
              "      <th>device_type_ios_devices</th>\n",
              "      <th>device_type_other_pcs</th>\n",
              "      <th>device_type_windows_pcs</th>\n",
              "    </tr>\n",
              "  </thead>\n",
              "  <tbody>\n",
              "    <tr>\n",
              "      <th>0</th>\n",
              "      <td>5880625</td>\n",
              "      <td>118335</td>\n",
              "      <td>200.0</td>\n",
              "      <td>2</td>\n",
              "      <td>0</td>\n",
              "      <td>2016</td>\n",
              "      <td>11</td>\n",
              "      <td>16</td>\n",
              "      <td>0</td>\n",
              "      <td>1</td>\n",
              "      <td>...</td>\n",
              "      <td>0</td>\n",
              "      <td>0</td>\n",
              "      <td>0</td>\n",
              "      <td>0</td>\n",
              "      <td>0</td>\n",
              "      <td>0</td>\n",
              "      <td>0</td>\n",
              "      <td>0</td>\n",
              "      <td>1</td>\n",
              "      <td>0</td>\n",
              "    </tr>\n",
              "    <tr>\n",
              "      <th>1</th>\n",
              "      <td>5880625</td>\n",
              "      <td>118335</td>\n",
              "      <td>200.0</td>\n",
              "      <td>2</td>\n",
              "      <td>0</td>\n",
              "      <td>2016</td>\n",
              "      <td>11</td>\n",
              "      <td>16</td>\n",
              "      <td>0</td>\n",
              "      <td>1</td>\n",
              "      <td>...</td>\n",
              "      <td>0</td>\n",
              "      <td>0</td>\n",
              "      <td>0</td>\n",
              "      <td>0</td>\n",
              "      <td>0</td>\n",
              "      <td>0</td>\n",
              "      <td>0</td>\n",
              "      <td>0</td>\n",
              "      <td>1</td>\n",
              "      <td>0</td>\n",
              "    </tr>\n",
              "    <tr>\n",
              "      <th>2</th>\n",
              "      <td>10660225</td>\n",
              "      <td>47334</td>\n",
              "      <td>-0.8</td>\n",
              "      <td>2</td>\n",
              "      <td>0</td>\n",
              "      <td>2016</td>\n",
              "      <td>12</td>\n",
              "      <td>28</td>\n",
              "      <td>0</td>\n",
              "      <td>0</td>\n",
              "      <td>...</td>\n",
              "      <td>0</td>\n",
              "      <td>0</td>\n",
              "      <td>0</td>\n",
              "      <td>0</td>\n",
              "      <td>0</td>\n",
              "      <td>0</td>\n",
              "      <td>1</td>\n",
              "      <td>0</td>\n",
              "      <td>0</td>\n",
              "      <td>0</td>\n",
              "    </tr>\n",
              "    <tr>\n",
              "      <th>3</th>\n",
              "      <td>10660225</td>\n",
              "      <td>47334</td>\n",
              "      <td>-0.8</td>\n",
              "      <td>2</td>\n",
              "      <td>0</td>\n",
              "      <td>2016</td>\n",
              "      <td>12</td>\n",
              "      <td>28</td>\n",
              "      <td>0</td>\n",
              "      <td>0</td>\n",
              "      <td>...</td>\n",
              "      <td>0</td>\n",
              "      <td>0</td>\n",
              "      <td>0</td>\n",
              "      <td>0</td>\n",
              "      <td>0</td>\n",
              "      <td>0</td>\n",
              "      <td>1</td>\n",
              "      <td>0</td>\n",
              "      <td>0</td>\n",
              "      <td>0</td>\n",
              "    </tr>\n",
              "    <tr>\n",
              "      <th>4</th>\n",
              "      <td>10660225</td>\n",
              "      <td>47334</td>\n",
              "      <td>-0.8</td>\n",
              "      <td>2</td>\n",
              "      <td>0</td>\n",
              "      <td>2016</td>\n",
              "      <td>12</td>\n",
              "      <td>28</td>\n",
              "      <td>0</td>\n",
              "      <td>0</td>\n",
              "      <td>...</td>\n",
              "      <td>0</td>\n",
              "      <td>0</td>\n",
              "      <td>0</td>\n",
              "      <td>0</td>\n",
              "      <td>0</td>\n",
              "      <td>0</td>\n",
              "      <td>1</td>\n",
              "      <td>0</td>\n",
              "      <td>0</td>\n",
              "      <td>0</td>\n",
              "    </tr>\n",
              "  </tbody>\n",
              "</table>\n",
              "<p>5 rows × 26 columns</p>\n",
              "</div>\n",
              "      <button class=\"colab-df-convert\" onclick=\"convertToInteractive('df-ef28f9cd-8438-4c6b-b8c4-7f4a454d58c9')\"\n",
              "              title=\"Convert this dataframe to an interactive table.\"\n",
              "              style=\"display:none;\">\n",
              "        \n",
              "  <svg xmlns=\"http://www.w3.org/2000/svg\" height=\"24px\"viewBox=\"0 0 24 24\"\n",
              "       width=\"24px\">\n",
              "    <path d=\"M0 0h24v24H0V0z\" fill=\"none\"/>\n",
              "    <path d=\"M18.56 5.44l.94 2.06.94-2.06 2.06-.94-2.06-.94-.94-2.06-.94 2.06-2.06.94zm-11 1L8.5 8.5l.94-2.06 2.06-.94-2.06-.94L8.5 2.5l-.94 2.06-2.06.94zm10 10l.94 2.06.94-2.06 2.06-.94-2.06-.94-.94-2.06-.94 2.06-2.06.94z\"/><path d=\"M17.41 7.96l-1.37-1.37c-.4-.4-.92-.59-1.43-.59-.52 0-1.04.2-1.43.59L10.3 9.45l-7.72 7.72c-.78.78-.78 2.05 0 2.83L4 21.41c.39.39.9.59 1.41.59.51 0 1.02-.2 1.41-.59l7.78-7.78 2.81-2.81c.8-.78.8-2.07 0-2.86zM5.41 20L4 18.59l7.72-7.72 1.47 1.35L5.41 20z\"/>\n",
              "  </svg>\n",
              "      </button>\n",
              "      \n",
              "  <style>\n",
              "    .colab-df-container {\n",
              "      display:flex;\n",
              "      flex-wrap:wrap;\n",
              "      gap: 12px;\n",
              "    }\n",
              "\n",
              "    .colab-df-convert {\n",
              "      background-color: #E8F0FE;\n",
              "      border: none;\n",
              "      border-radius: 50%;\n",
              "      cursor: pointer;\n",
              "      display: none;\n",
              "      fill: #1967D2;\n",
              "      height: 32px;\n",
              "      padding: 0 0 0 0;\n",
              "      width: 32px;\n",
              "    }\n",
              "\n",
              "    .colab-df-convert:hover {\n",
              "      background-color: #E2EBFA;\n",
              "      box-shadow: 0px 1px 2px rgba(60, 64, 67, 0.3), 0px 1px 3px 1px rgba(60, 64, 67, 0.15);\n",
              "      fill: #174EA6;\n",
              "    }\n",
              "\n",
              "    [theme=dark] .colab-df-convert {\n",
              "      background-color: #3B4455;\n",
              "      fill: #D2E3FC;\n",
              "    }\n",
              "\n",
              "    [theme=dark] .colab-df-convert:hover {\n",
              "      background-color: #434B5C;\n",
              "      box-shadow: 0px 1px 3px 1px rgba(0, 0, 0, 0.15);\n",
              "      filter: drop-shadow(0px 1px 2px rgba(0, 0, 0, 0.3));\n",
              "      fill: #FFFFFF;\n",
              "    }\n",
              "  </style>\n",
              "\n",
              "      <script>\n",
              "        const buttonEl =\n",
              "          document.querySelector('#df-ef28f9cd-8438-4c6b-b8c4-7f4a454d58c9 button.colab-df-convert');\n",
              "        buttonEl.style.display =\n",
              "          google.colab.kernel.accessAllowed ? 'block' : 'none';\n",
              "\n",
              "        async function convertToInteractive(key) {\n",
              "          const element = document.querySelector('#df-ef28f9cd-8438-4c6b-b8c4-7f4a454d58c9');\n",
              "          const dataTable =\n",
              "            await google.colab.kernel.invokeFunction('convertToInteractive',\n",
              "                                                     [key], {});\n",
              "          if (!dataTable) return;\n",
              "\n",
              "          const docLinkHtml = 'Like what you see? Visit the ' +\n",
              "            '<a target=\"_blank\" href=https://colab.research.google.com/notebooks/data_table.ipynb>data table notebook</a>'\n",
              "            + ' to learn more about interactive tables.';\n",
              "          element.innerHTML = '';\n",
              "          dataTable['output_type'] = 'display_data';\n",
              "          await google.colab.output.renderOutput(dataTable, element);\n",
              "          const docLink = document.createElement('div');\n",
              "          docLink.innerHTML = docLinkHtml;\n",
              "          element.appendChild(docLink);\n",
              "        }\n",
              "      </script>\n",
              "    </div>\n",
              "  </div>\n",
              "  "
            ]
          },
          "metadata": {},
          "execution_count": 111
        }
      ]
    },
    {
      "cell_type": "code",
      "source": [
        "test_data.shape"
      ],
      "metadata": {
        "colab": {
          "base_uri": "https://localhost:8080/"
        },
        "id": "sBzRTA_3lZ46",
        "outputId": "45edd647-e7f1-435c-d8ca-b84bf01a69c6"
      },
      "execution_count": null,
      "outputs": [
        {
          "output_type": "execute_result",
          "data": {
            "text/plain": [
              "(19133, 25)"
            ]
          },
          "metadata": {},
          "execution_count": 112
        }
      ]
    },
    {
      "cell_type": "code",
      "source": [
        "train_data.shape"
      ],
      "metadata": {
        "colab": {
          "base_uri": "https://localhost:8080/"
        },
        "id": "ONIxKIWBlepT",
        "outputId": "de5131d2-fa4c-46bf-b5ac-872089893d37"
      },
      "execution_count": null,
      "outputs": [
        {
          "output_type": "execute_result",
          "data": {
            "text/plain": [
              "(76529, 26)"
            ]
          },
          "metadata": {},
          "execution_count": 113
        }
      ]
    },
    {
      "cell_type": "code",
      "source": [
        "train_data.columns"
      ],
      "metadata": {
        "colab": {
          "base_uri": "https://localhost:8080/"
        },
        "id": "0nuprazAsGNV",
        "outputId": "aeb302fb-1c85-4e9a-b98c-e5fc45efb66e"
      },
      "execution_count": null,
      "outputs": [
        {
          "output_type": "execute_result",
          "data": {
            "text/plain": [
              "Index(['user_id', 'partner_id', 'money_transacted', 'partner_pricing_category',\n",
              "       'is_fraud', 'year', 'month', 'day', 'payment_method_e_wallet_payments',\n",
              "       'payment_method_other_debit_cards',\n",
              "       'payment_method_sbi_atm_cum_debit_card',\n",
              "       'payment_method_unified_payments_interface',\n",
              "       'payment_method_visa_master_credit_cards',\n",
              "       'payment_method_visa_master_debit_cards', 'partner_category_cat_1',\n",
              "       'partner_category_cat_2', 'partner_category_cat_3',\n",
              "       'partner_category_cat_4', 'partner_category_cat_5',\n",
              "       'partner_category_cat_6', 'partner_category_cat_7',\n",
              "       'partner_category_cat_8', 'device_type_android_devices',\n",
              "       'device_type_ios_devices', 'device_type_other_pcs',\n",
              "       'device_type_windows_pcs'],\n",
              "      dtype='object')"
            ]
          },
          "metadata": {},
          "execution_count": 114
        }
      ]
    },
    {
      "cell_type": "code",
      "source": [
        "test_data.columns"
      ],
      "metadata": {
        "colab": {
          "base_uri": "https://localhost:8080/"
        },
        "id": "li3VKR0JsUJB",
        "outputId": "05e9ea48-c490-4b03-e7d2-308eaca0c6e7"
      },
      "execution_count": null,
      "outputs": [
        {
          "output_type": "execute_result",
          "data": {
            "text/plain": [
              "Index(['user_id', 'partner_id', 'money_transacted', 'partner_pricing_category',\n",
              "       'year', 'month', 'day', 'payment_method_e_wallet_payments',\n",
              "       'payment_method_other_debit_cards',\n",
              "       'payment_method_sbi_atm_cum_debit_card',\n",
              "       'payment_method_unified_payments_interface',\n",
              "       'payment_method_visa_master_credit_cards',\n",
              "       'payment_method_visa_master_debit_cards', 'partner_category_cat_1',\n",
              "       'partner_category_cat_2', 'partner_category_cat_3',\n",
              "       'partner_category_cat_4', 'partner_category_cat_5',\n",
              "       'partner_category_cat_6', 'partner_category_cat_7',\n",
              "       'partner_category_cat_8', 'device_type_android_devices',\n",
              "       'device_type_ios_devices', 'device_type_other_pcs',\n",
              "       'device_type_windows_pcs'],\n",
              "      dtype='object')"
            ]
          },
          "metadata": {},
          "execution_count": 115
        }
      ]
    },
    {
      "cell_type": "code",
      "source": [
        "x_train.shape"
      ],
      "metadata": {
        "colab": {
          "base_uri": "https://localhost:8080/"
        },
        "id": "Glppv7-sskqv",
        "outputId": "8e14e24d-1512-4def-dd31-2cafd10e41d5"
      },
      "execution_count": null,
      "outputs": [
        {
          "output_type": "execute_result",
          "data": {
            "text/plain": [
              "(61223, 26)"
            ]
          },
          "metadata": {},
          "execution_count": 116
        }
      ]
    },
    {
      "cell_type": "code",
      "source": [
        "x_test.shape"
      ],
      "metadata": {
        "colab": {
          "base_uri": "https://localhost:8080/"
        },
        "id": "Uo_adc4Ms6si",
        "outputId": "92deea0e-87ef-45ae-8f5c-2eda48adce51"
      },
      "execution_count": null,
      "outputs": [
        {
          "output_type": "execute_result",
          "data": {
            "text/plain": [
              "(15306, 26)"
            ]
          },
          "metadata": {},
          "execution_count": 117
        }
      ]
    },
    {
      "cell_type": "code",
      "source": [
        "y_train.shape"
      ],
      "metadata": {
        "colab": {
          "base_uri": "https://localhost:8080/"
        },
        "id": "a9GxwncEs-LR",
        "outputId": "eae82310-8cee-4311-da59-06f3dd39f76d"
      },
      "execution_count": null,
      "outputs": [
        {
          "output_type": "execute_result",
          "data": {
            "text/plain": [
              "(61223,)"
            ]
          },
          "metadata": {},
          "execution_count": 118
        }
      ]
    },
    {
      "cell_type": "code",
      "source": [
        "y_test.shape"
      ],
      "metadata": {
        "colab": {
          "base_uri": "https://localhost:8080/"
        },
        "id": "R20qpTFqtA6d",
        "outputId": "9f5436bb-3e67-441f-d869-6b4e9bd865bb"
      },
      "execution_count": null,
      "outputs": [
        {
          "output_type": "execute_result",
          "data": {
            "text/plain": [
              "(15306,)"
            ]
          },
          "metadata": {},
          "execution_count": 119
        }
      ]
    },
    {
      "cell_type": "code",
      "source": [
        "test_data.shape"
      ],
      "metadata": {
        "colab": {
          "base_uri": "https://localhost:8080/"
        },
        "id": "NqrmRSg2tErJ",
        "outputId": "480737c6-87eb-4146-b2cd-da024e06ce51"
      },
      "execution_count": null,
      "outputs": [
        {
          "output_type": "execute_result",
          "data": {
            "text/plain": [
              "(19133, 25)"
            ]
          },
          "metadata": {},
          "execution_count": 120
        }
      ]
    },
    {
      "cell_type": "code",
      "source": [
        "A=train_data.symmetric_difference(test_data)\n",
        "print(A)"
      ],
      "metadata": {
        "colab": {
          "base_uri": "https://localhost:8080/",
          "height": 304
        },
        "id": "KhAWGwmGxHiQ",
        "outputId": "9aadf1ab-6b99-4f0a-a21e-0ffe8498063c"
      },
      "execution_count": null,
      "outputs": [
        {
          "output_type": "error",
          "ename": "AttributeError",
          "evalue": "ignored",
          "traceback": [
            "\u001b[0;31m---------------------------------------------------------------------------\u001b[0m",
            "\u001b[0;31mAttributeError\u001b[0m                            Traceback (most recent call last)",
            "\u001b[0;32m<ipython-input-128-81dc4dd4b45b>\u001b[0m in \u001b[0;36m<module>\u001b[0;34m\u001b[0m\n\u001b[0;32m----> 1\u001b[0;31m \u001b[0mA\u001b[0m\u001b[0;34m=\u001b[0m\u001b[0mtrain_data\u001b[0m\u001b[0;34m.\u001b[0m\u001b[0msymmetric_difference\u001b[0m\u001b[0;34m(\u001b[0m\u001b[0mtest_data\u001b[0m\u001b[0;34m)\u001b[0m\u001b[0;34m\u001b[0m\u001b[0;34m\u001b[0m\u001b[0m\n\u001b[0m\u001b[1;32m      2\u001b[0m \u001b[0mprint\u001b[0m\u001b[0;34m(\u001b[0m\u001b[0mA\u001b[0m\u001b[0;34m)\u001b[0m\u001b[0;34m\u001b[0m\u001b[0;34m\u001b[0m\u001b[0m\n",
            "\u001b[0;32m/usr/local/lib/python3.7/dist-packages/pandas/core/generic.py\u001b[0m in \u001b[0;36m__getattr__\u001b[0;34m(self, name)\u001b[0m\n\u001b[1;32m   5485\u001b[0m         ):\n\u001b[1;32m   5486\u001b[0m             \u001b[0;32mreturn\u001b[0m \u001b[0mself\u001b[0m\u001b[0;34m[\u001b[0m\u001b[0mname\u001b[0m\u001b[0;34m]\u001b[0m\u001b[0;34m\u001b[0m\u001b[0;34m\u001b[0m\u001b[0m\n\u001b[0;32m-> 5487\u001b[0;31m         \u001b[0;32mreturn\u001b[0m \u001b[0mobject\u001b[0m\u001b[0;34m.\u001b[0m\u001b[0m__getattribute__\u001b[0m\u001b[0;34m(\u001b[0m\u001b[0mself\u001b[0m\u001b[0;34m,\u001b[0m \u001b[0mname\u001b[0m\u001b[0;34m)\u001b[0m\u001b[0;34m\u001b[0m\u001b[0;34m\u001b[0m\u001b[0m\n\u001b[0m\u001b[1;32m   5488\u001b[0m \u001b[0;34m\u001b[0m\u001b[0m\n\u001b[1;32m   5489\u001b[0m     \u001b[0;32mdef\u001b[0m \u001b[0m__setattr__\u001b[0m\u001b[0;34m(\u001b[0m\u001b[0mself\u001b[0m\u001b[0;34m,\u001b[0m \u001b[0mname\u001b[0m\u001b[0;34m:\u001b[0m \u001b[0mstr\u001b[0m\u001b[0;34m,\u001b[0m \u001b[0mvalue\u001b[0m\u001b[0;34m)\u001b[0m \u001b[0;34m->\u001b[0m \u001b[0;32mNone\u001b[0m\u001b[0;34m:\u001b[0m\u001b[0;34m\u001b[0m\u001b[0;34m\u001b[0m\u001b[0m\n",
            "\u001b[0;31mAttributeError\u001b[0m: 'DataFrame' object has no attribute 'symmetric_difference'"
          ]
        }
      ]
    },
    {
      "cell_type": "code",
      "source": [
        "Predction =model1.predict(test_data)"
      ],
      "metadata": {
        "colab": {
          "base_uri": "https://localhost:8080/",
          "height": 417
        },
        "id": "HztWR2x4pURK",
        "outputId": "c102f289-cbc2-413a-e8a1-40d4dbc20d14"
      },
      "execution_count": null,
      "outputs": [
        {
          "output_type": "stream",
          "name": "stderr",
          "text": [
            "/usr/local/lib/python3.7/dist-packages/sklearn/base.py:493: FutureWarning: The feature names should match those that were passed during fit. Starting version 1.2, an error will be raised.\n",
            "Feature names seen at fit time, yet now missing:\n",
            "- partner_category_cat_9\n",
            "\n",
            "  warnings.warn(message, FutureWarning)\n"
          ]
        },
        {
          "output_type": "error",
          "ename": "ValueError",
          "evalue": "ignored",
          "traceback": [
            "\u001b[0;31m---------------------------------------------------------------------------\u001b[0m",
            "\u001b[0;31mValueError\u001b[0m                                Traceback (most recent call last)",
            "\u001b[0;32m<ipython-input-123-d12d77ab611e>\u001b[0m in \u001b[0;36m<module>\u001b[0;34m\u001b[0m\n\u001b[0;32m----> 1\u001b[0;31m \u001b[0mPredction\u001b[0m \u001b[0;34m=\u001b[0m\u001b[0mmodel1\u001b[0m\u001b[0;34m.\u001b[0m\u001b[0mpredict\u001b[0m\u001b[0;34m(\u001b[0m\u001b[0mtest_data\u001b[0m\u001b[0;34m)\u001b[0m\u001b[0;34m\u001b[0m\u001b[0;34m\u001b[0m\u001b[0m\n\u001b[0m",
            "\u001b[0;32m/usr/local/lib/python3.7/dist-packages/sklearn/neighbors/_classification.py\u001b[0m in \u001b[0;36mpredict\u001b[0;34m(self, X)\u001b[0m\n\u001b[1;32m    212\u001b[0m             \u001b[0mClass\u001b[0m \u001b[0mlabels\u001b[0m \u001b[0;32mfor\u001b[0m \u001b[0meach\u001b[0m \u001b[0mdata\u001b[0m \u001b[0msample\u001b[0m\u001b[0;34m.\u001b[0m\u001b[0;34m\u001b[0m\u001b[0;34m\u001b[0m\u001b[0m\n\u001b[1;32m    213\u001b[0m         \"\"\"\n\u001b[0;32m--> 214\u001b[0;31m         \u001b[0mneigh_dist\u001b[0m\u001b[0;34m,\u001b[0m \u001b[0mneigh_ind\u001b[0m \u001b[0;34m=\u001b[0m \u001b[0mself\u001b[0m\u001b[0;34m.\u001b[0m\u001b[0mkneighbors\u001b[0m\u001b[0;34m(\u001b[0m\u001b[0mX\u001b[0m\u001b[0;34m)\u001b[0m\u001b[0;34m\u001b[0m\u001b[0;34m\u001b[0m\u001b[0m\n\u001b[0m\u001b[1;32m    215\u001b[0m         \u001b[0mclasses_\u001b[0m \u001b[0;34m=\u001b[0m \u001b[0mself\u001b[0m\u001b[0;34m.\u001b[0m\u001b[0mclasses_\u001b[0m\u001b[0;34m\u001b[0m\u001b[0;34m\u001b[0m\u001b[0m\n\u001b[1;32m    216\u001b[0m         \u001b[0m_y\u001b[0m \u001b[0;34m=\u001b[0m \u001b[0mself\u001b[0m\u001b[0;34m.\u001b[0m\u001b[0m_y\u001b[0m\u001b[0;34m\u001b[0m\u001b[0;34m\u001b[0m\u001b[0m\n",
            "\u001b[0;32m/usr/local/lib/python3.7/dist-packages/sklearn/neighbors/_base.py\u001b[0m in \u001b[0;36mkneighbors\u001b[0;34m(self, X, n_neighbors, return_distance)\u001b[0m\n\u001b[1;32m    715\u001b[0m                 \u001b[0mX\u001b[0m \u001b[0;34m=\u001b[0m \u001b[0m_check_precomputed\u001b[0m\u001b[0;34m(\u001b[0m\u001b[0mX\u001b[0m\u001b[0;34m)\u001b[0m\u001b[0;34m\u001b[0m\u001b[0;34m\u001b[0m\u001b[0m\n\u001b[1;32m    716\u001b[0m             \u001b[0;32melse\u001b[0m\u001b[0;34m:\u001b[0m\u001b[0;34m\u001b[0m\u001b[0;34m\u001b[0m\u001b[0m\n\u001b[0;32m--> 717\u001b[0;31m                 \u001b[0mX\u001b[0m \u001b[0;34m=\u001b[0m \u001b[0mself\u001b[0m\u001b[0;34m.\u001b[0m\u001b[0m_validate_data\u001b[0m\u001b[0;34m(\u001b[0m\u001b[0mX\u001b[0m\u001b[0;34m,\u001b[0m \u001b[0maccept_sparse\u001b[0m\u001b[0;34m=\u001b[0m\u001b[0;34m\"csr\"\u001b[0m\u001b[0;34m,\u001b[0m \u001b[0mreset\u001b[0m\u001b[0;34m=\u001b[0m\u001b[0;32mFalse\u001b[0m\u001b[0;34m)\u001b[0m\u001b[0;34m\u001b[0m\u001b[0;34m\u001b[0m\u001b[0m\n\u001b[0m\u001b[1;32m    718\u001b[0m         \u001b[0;32melse\u001b[0m\u001b[0;34m:\u001b[0m\u001b[0;34m\u001b[0m\u001b[0;34m\u001b[0m\u001b[0m\n\u001b[1;32m    719\u001b[0m             \u001b[0mquery_is_train\u001b[0m \u001b[0;34m=\u001b[0m \u001b[0;32mTrue\u001b[0m\u001b[0;34m\u001b[0m\u001b[0;34m\u001b[0m\u001b[0m\n",
            "\u001b[0;32m/usr/local/lib/python3.7/dist-packages/sklearn/base.py\u001b[0m in \u001b[0;36m_validate_data\u001b[0;34m(self, X, y, reset, validate_separately, **check_params)\u001b[0m\n\u001b[1;32m    583\u001b[0m \u001b[0;34m\u001b[0m\u001b[0m\n\u001b[1;32m    584\u001b[0m         \u001b[0;32mif\u001b[0m \u001b[0;32mnot\u001b[0m \u001b[0mno_val_X\u001b[0m \u001b[0;32mand\u001b[0m \u001b[0mcheck_params\u001b[0m\u001b[0;34m.\u001b[0m\u001b[0mget\u001b[0m\u001b[0;34m(\u001b[0m\u001b[0;34m\"ensure_2d\"\u001b[0m\u001b[0;34m,\u001b[0m \u001b[0;32mTrue\u001b[0m\u001b[0;34m)\u001b[0m\u001b[0;34m:\u001b[0m\u001b[0;34m\u001b[0m\u001b[0;34m\u001b[0m\u001b[0m\n\u001b[0;32m--> 585\u001b[0;31m             \u001b[0mself\u001b[0m\u001b[0;34m.\u001b[0m\u001b[0m_check_n_features\u001b[0m\u001b[0;34m(\u001b[0m\u001b[0mX\u001b[0m\u001b[0;34m,\u001b[0m \u001b[0mreset\u001b[0m\u001b[0;34m=\u001b[0m\u001b[0mreset\u001b[0m\u001b[0;34m)\u001b[0m\u001b[0;34m\u001b[0m\u001b[0;34m\u001b[0m\u001b[0m\n\u001b[0m\u001b[1;32m    586\u001b[0m \u001b[0;34m\u001b[0m\u001b[0m\n\u001b[1;32m    587\u001b[0m         \u001b[0;32mreturn\u001b[0m \u001b[0mout\u001b[0m\u001b[0;34m\u001b[0m\u001b[0;34m\u001b[0m\u001b[0m\n",
            "\u001b[0;32m/usr/local/lib/python3.7/dist-packages/sklearn/base.py\u001b[0m in \u001b[0;36m_check_n_features\u001b[0;34m(self, X, reset)\u001b[0m\n\u001b[1;32m    399\u001b[0m         \u001b[0;32mif\u001b[0m \u001b[0mn_features\u001b[0m \u001b[0;34m!=\u001b[0m \u001b[0mself\u001b[0m\u001b[0;34m.\u001b[0m\u001b[0mn_features_in_\u001b[0m\u001b[0;34m:\u001b[0m\u001b[0;34m\u001b[0m\u001b[0;34m\u001b[0m\u001b[0m\n\u001b[1;32m    400\u001b[0m             raise ValueError(\n\u001b[0;32m--> 401\u001b[0;31m                 \u001b[0;34mf\"X has {n_features} features, but {self.__class__.__name__} \"\u001b[0m\u001b[0;34m\u001b[0m\u001b[0;34m\u001b[0m\u001b[0m\n\u001b[0m\u001b[1;32m    402\u001b[0m                 \u001b[0;34mf\"is expecting {self.n_features_in_} features as input.\"\u001b[0m\u001b[0;34m\u001b[0m\u001b[0;34m\u001b[0m\u001b[0m\n\u001b[1;32m    403\u001b[0m             )\n",
            "\u001b[0;31mValueError\u001b[0m: X has 25 features, but KNeighborsClassifier is expecting 26 features as input."
          ]
        }
      ]
    },
    {
      "cell_type": "code",
      "source": [
        "print(Predction)"
      ],
      "metadata": {
        "colab": {
          "base_uri": "https://localhost:8080/",
          "height": 165
        },
        "id": "b2jhxVerrKex",
        "outputId": "86b63106-8344-4428-a76f-bbdfaa7a2c17"
      },
      "execution_count": null,
      "outputs": [
        {
          "output_type": "error",
          "ename": "NameError",
          "evalue": "ignored",
          "traceback": [
            "\u001b[0;31m---------------------------------------------------------------------------\u001b[0m",
            "\u001b[0;31mNameError\u001b[0m                                 Traceback (most recent call last)",
            "\u001b[0;32m<ipython-input-122-e798e03ea638>\u001b[0m in \u001b[0;36m<module>\u001b[0;34m\u001b[0m\n\u001b[0;32m----> 1\u001b[0;31m \u001b[0mprint\u001b[0m\u001b[0;34m(\u001b[0m\u001b[0mPredction\u001b[0m\u001b[0;34m)\u001b[0m\u001b[0;34m\u001b[0m\u001b[0;34m\u001b[0m\u001b[0m\n\u001b[0m",
            "\u001b[0;31mNameError\u001b[0m: name 'Predction' is not defined"
          ]
        }
      ]
    },
    {
      "cell_type": "code",
      "source": [
        "Predction = pd.DataFrame(Predction, columns=['Predction']).to_csv('Predction.csv')"
      ],
      "metadata": {
        "id": "JPfbK3wNrUMC"
      },
      "execution_count": null,
      "outputs": []
    },
    {
      "cell_type": "code",
      "source": [],
      "metadata": {
        "id": "4GZRbN5FrhaJ"
      },
      "execution_count": null,
      "outputs": []
    }
  ]
}